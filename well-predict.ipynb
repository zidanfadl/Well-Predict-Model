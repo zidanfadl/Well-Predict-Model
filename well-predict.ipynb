{
  "metadata": {
    "kernelspec": {
      "language": "python",
      "display_name": "Python 3",
      "name": "python3"
    },
    "language_info": {
      "name": "python",
      "version": "3.10.13",
      "mimetype": "text/x-python",
      "codemirror_mode": {
        "name": "ipython",
        "version": 3
      },
      "pygments_lexer": "ipython3",
      "nbconvert_exporter": "python",
      "file_extension": ".py"
    },
    "kaggle": {
      "accelerator": "gpu",
      "dataSources": [
        {
          "sourceId": 1182853,
          "sourceType": "datasetVersion",
          "datasetId": 672162
        },
        {
          "sourceId": 8698163,
          "sourceType": "datasetVersion",
          "datasetId": 5216579
        },
        {
          "sourceId": 8706103,
          "sourceType": "datasetVersion",
          "datasetId": 5222141
        },
        {
          "sourceId": 8710659,
          "sourceType": "datasetVersion",
          "datasetId": 5225397
        }
      ],
      "isInternetEnabled": true,
      "language": "python",
      "sourceType": "notebook",
      "isGpuEnabled": true
    },
    "colab": {
      "name": "Well Predict-TFLITE",
      "provenance": [],
      "include_colab_link": true
    }
  },
  "nbformat_minor": 0,
  "nbformat": 4,
  "cells": [
    {
      "cell_type": "markdown",
      "metadata": {
        "id": "view-in-github",
        "colab_type": "text"
      },
      "source": [
        "<a href=\"https://colab.research.google.com/github/zidanfadl/Well-Predict-Model/blob/Well-Predict-TFLITE/well-predict.ipynb\" target=\"_parent\"><img src=\"https://colab.research.google.com/assets/colab-badge.svg\" alt=\"Open In Colab\"/></a>"
      ]
    },
    {
      "source": [
        "\n",
        "# IMPORTANT: RUN THIS CELL IN ORDER TO IMPORT YOUR KAGGLE DATA SOURCES\n",
        "# TO THE CORRECT LOCATION (/kaggle/input) IN YOUR NOTEBOOK,\n",
        "# THEN FEEL FREE TO DELETE THIS CELL.\n",
        "# NOTE: THIS NOTEBOOK ENVIRONMENT DIFFERS FROM KAGGLE'S PYTHON\n",
        "# ENVIRONMENT SO THERE MAY BE MISSING LIBRARIES USED BY YOUR\n",
        "# NOTEBOOK.\n",
        "\n",
        "import os\n",
        "import sys\n",
        "from tempfile import NamedTemporaryFile\n",
        "from urllib.request import urlopen\n",
        "from urllib.parse import unquote, urlparse\n",
        "from urllib.error import HTTPError\n",
        "from zipfile import ZipFile\n",
        "import tarfile\n",
        "import shutil\n",
        "\n",
        "CHUNK_SIZE = 40960\n",
        "DATA_SOURCE_MAPPING = 'disease-symptom-description-dataset:https%3A%2F%2Fstorage.googleapis.com%2Fkaggle-data-sets%2F672162%2F1182853%2Fbundle%2Farchive.zip%3FX-Goog-Algorithm%3DGOOG4-RSA-SHA256%26X-Goog-Credential%3Dgcp-kaggle-com%2540kaggle-161607.iam.gserviceaccount.com%252F20240618%252Fauto%252Fstorage%252Fgoog4_request%26X-Goog-Date%3D20240618T042901Z%26X-Goog-Expires%3D259200%26X-Goog-SignedHeaders%3Dhost%26X-Goog-Signature%3D9094317ea1adad51440ee4e38f0daba83732eeb0800dbd888e6e18ec9aa21e37d354087e56882f83a93cedd181bd27bdd7bc49ca642badde533ac709de8816c878a9cdb981851f64a1c7ff10f6e8d8aa9ec0beefe8f39fd990a93ff1f28af9e33a92266ce15a8bc59e6346197218ec50924de3a3372981b373340f3fa2195bd3f41cab608886d69af398875a1077665ba92663fcc10358d485fee1772f39d8695849e95841f236e3d25a0152a78ad293da13cfe01b348acd74aa1ee8834ba4eb568a138d172ac148d15d044591c998c37255fa8921d8131c8000d8c447e1190888632bf1336a406a75d67c3c386c5fea25c763a23d407326ed0e87aee605ee6c,user-input:https%3A%2F%2Fstorage.googleapis.com%2Fkaggle-data-sets%2F5216579%2F8698163%2Fbundle%2Farchive.zip%3FX-Goog-Algorithm%3DGOOG4-RSA-SHA256%26X-Goog-Credential%3Dgcp-kaggle-com%2540kaggle-161607.iam.gserviceaccount.com%252F20240618%252Fauto%252Fstorage%252Fgoog4_request%26X-Goog-Date%3D20240618T042901Z%26X-Goog-Expires%3D259200%26X-Goog-SignedHeaders%3Dhost%26X-Goog-Signature%3D4933fa9d920492a2545cd6655244d99c2cea086580df779a165523bb3e20191ffcff7eadea21ef45637682c8781a9b9aec28d11982ebc8e085cf353d58b2bfb4f4779eae22ce39176d962b741c35ca7ce15bd4805154af5d6c1aea9e6d25ed674405c9055059b76385bdf4e303b1fb89cc1233a6cfd7e955164d058b4c4caef60853631420528b57e539d7f0c9312a874c0ea6fbc689f16314e078c45e7e60b68022533d9deaba105a5fd58f441e4fb852a3a4a6ec2e4a7ea7576fc97b888bed38d81cb0b0fdcd444948e1e19c2e6e51298e0f18620c546423994f68b459d7de42a00b672db8e1f2d7957bfd326c79de4f6708b7687f0272f7f063864f6ccef3,input-user:https%3A%2F%2Fstorage.googleapis.com%2Fkaggle-data-sets%2F5222141%2F8706103%2Fbundle%2Farchive.zip%3FX-Goog-Algorithm%3DGOOG4-RSA-SHA256%26X-Goog-Credential%3Dgcp-kaggle-com%2540kaggle-161607.iam.gserviceaccount.com%252F20240618%252Fauto%252Fstorage%252Fgoog4_request%26X-Goog-Date%3D20240618T042901Z%26X-Goog-Expires%3D259200%26X-Goog-SignedHeaders%3Dhost%26X-Goog-Signature%3D25324b29e02f2ea6e86b057fbf8af974edbdec9452953a41c73e1263cda9490d7f0683ca1f4e15518c038d8b8b7a40df3eb285c71bcb19be5480f4b1f242b6b0b6ac72c488a58395c91621f5325cdd080700352fc481fa0506880c18405b12108b5d9ee2dda5ba66791fed81faa85ed735ee13871f08438671d5edf169716c71fb5fa1a06257d295984e5c2dbbf4863bbb317e6f6dd482a1a7d92e45332d8b304643ffbf2eb58427ef0613ecc221cfeb7ffd5895af608a7d49039a7875a4a2547388270ad43d6b8a4623d5fb78c89ccf6fe4854e8715ee9d9cea871279f0b7541dcec25b890f126cf0988b99389950d8cd2a9504898c5e0d13af3daddef10f4f,label-mapping:https%3A%2F%2Fstorage.googleapis.com%2Fkaggle-data-sets%2F5225397%2F8710659%2Fbundle%2Farchive.zip%3FX-Goog-Algorithm%3DGOOG4-RSA-SHA256%26X-Goog-Credential%3Dgcp-kaggle-com%2540kaggle-161607.iam.gserviceaccount.com%252F20240618%252Fauto%252Fstorage%252Fgoog4_request%26X-Goog-Date%3D20240618T042901Z%26X-Goog-Expires%3D259200%26X-Goog-SignedHeaders%3Dhost%26X-Goog-Signature%3D776130bc51ac6e1c057307007ca3e96b0d7c95f6af5be08e3060c1fcb1977efac78d43ff4d03791618915306c9c15583912ca782032bf1e22efe41fd4da7a36d8e4368c9c245c157015c48899de776327d7fd0700519dddef22c29664af2a61433ecbea3af15a4feefeee5ab351d3d6a97d7e09f918d9f3e3bcb2c8bda13273d7b4625875fbd46b4c11e7f99135224fe789300423c48a98334fae97887606a86912e7c64a39fdb1e68fe9559e14d1c46044a6a93d077bf85961a240c7664e19b2e9c4ace3575f4320227593a494136388338371874d1c1b8f29dd0320bb4dc467cafb075ae7e29af9779697aee3e719c8b74cf8e55943eeef6fd688b213e1e65'\n",
        "\n",
        "KAGGLE_INPUT_PATH='/kaggle/input'\n",
        "KAGGLE_WORKING_PATH='/kaggle/working'\n",
        "KAGGLE_SYMLINK='kaggle'\n",
        "\n",
        "!umount /kaggle/input/ 2> /dev/null\n",
        "shutil.rmtree('/kaggle/input', ignore_errors=True)\n",
        "os.makedirs(KAGGLE_INPUT_PATH, 0o777, exist_ok=True)\n",
        "os.makedirs(KAGGLE_WORKING_PATH, 0o777, exist_ok=True)\n",
        "\n",
        "try:\n",
        "  os.symlink(KAGGLE_INPUT_PATH, os.path.join(\"..\", 'input'), target_is_directory=True)\n",
        "except FileExistsError:\n",
        "  pass\n",
        "try:\n",
        "  os.symlink(KAGGLE_WORKING_PATH, os.path.join(\"..\", 'working'), target_is_directory=True)\n",
        "except FileExistsError:\n",
        "  pass\n",
        "\n",
        "for data_source_mapping in DATA_SOURCE_MAPPING.split(','):\n",
        "    directory, download_url_encoded = data_source_mapping.split(':')\n",
        "    download_url = unquote(download_url_encoded)\n",
        "    filename = urlparse(download_url).path\n",
        "    destination_path = os.path.join(KAGGLE_INPUT_PATH, directory)\n",
        "    try:\n",
        "        with urlopen(download_url) as fileres, NamedTemporaryFile() as tfile:\n",
        "            total_length = fileres.headers['content-length']\n",
        "            print(f'Downloading {directory}, {total_length} bytes compressed')\n",
        "            dl = 0\n",
        "            data = fileres.read(CHUNK_SIZE)\n",
        "            while len(data) > 0:\n",
        "                dl += len(data)\n",
        "                tfile.write(data)\n",
        "                done = int(50 * dl / int(total_length))\n",
        "                sys.stdout.write(f\"\\r[{'=' * done}{' ' * (50-done)}] {dl} bytes downloaded\")\n",
        "                sys.stdout.flush()\n",
        "                data = fileres.read(CHUNK_SIZE)\n",
        "            if filename.endswith('.zip'):\n",
        "              with ZipFile(tfile) as zfile:\n",
        "                zfile.extractall(destination_path)\n",
        "            else:\n",
        "              with tarfile.open(tfile.name) as tarfile:\n",
        "                tarfile.extractall(destination_path)\n",
        "            print(f'\\nDownloaded and uncompressed: {directory}')\n",
        "    except HTTPError as e:\n",
        "        print(f'Failed to load (likely expired) {download_url} to path {destination_path}')\n",
        "        continue\n",
        "    except OSError as e:\n",
        "        print(f'Failed to load {download_url} to path {destination_path}')\n",
        "        continue\n",
        "\n",
        "print('Data source import complete.')\n"
      ],
      "metadata": {
        "id": "00Ei5Cyomw3o"
      },
      "cell_type": "code",
      "outputs": [],
      "execution_count": null
    },
    {
      "cell_type": "code",
      "source": [
        "!pip install tensorflowjs\n",
        "!pip install tensorflow==2.12.0\n",
        "!pip install tensorflow-decision-forests==1.4.0"
      ],
      "metadata": {
        "execution": {
          "iopub.status.busy": "2024-06-18T04:24:55.275647Z",
          "iopub.execute_input": "2024-06-18T04:24:55.275992Z",
          "iopub.status.idle": "2024-06-18T04:26:36.432119Z",
          "shell.execute_reply.started": "2024-06-18T04:24:55.275963Z",
          "shell.execute_reply": "2024-06-18T04:26:36.431069Z"
        },
        "trusted": true,
        "id": "xlWPoZPamw3r",
        "outputId": "a873431f-4a25-41f2-8bf7-c5e4266f5380"
      },
      "execution_count": null,
      "outputs": [
        {
          "name": "stdout",
          "text": "Collecting tensorflowjs\n  Downloading tensorflowjs-4.20.0-py3-none-any.whl.metadata (3.2 kB)\nRequirement already satisfied: flax>=0.7.2 in /opt/conda/lib/python3.10/site-packages (from tensorflowjs) (0.8.4)\nRequirement already satisfied: importlib_resources>=5.9.0 in /opt/conda/lib/python3.10/site-packages (from tensorflowjs) (6.1.1)\nRequirement already satisfied: jax>=0.4.13 in /opt/conda/lib/python3.10/site-packages (from tensorflowjs) (0.4.26)\nRequirement already satisfied: jaxlib>=0.4.13 in /opt/conda/lib/python3.10/site-packages (from tensorflowjs) (0.4.26.dev20240504)\nRequirement already satisfied: tensorflow<3,>=2.13.0 in /opt/conda/lib/python3.10/site-packages (from tensorflowjs) (2.15.0)\nRequirement already satisfied: tf-keras>=2.13.0 in /opt/conda/lib/python3.10/site-packages (from tensorflowjs) (2.15.1)\nRequirement already satisfied: tensorflow-decision-forests>=1.5.0 in /opt/conda/lib/python3.10/site-packages (from tensorflowjs) (1.8.1)\nRequirement already satisfied: six<2,>=1.16.0 in /opt/conda/lib/python3.10/site-packages (from tensorflowjs) (1.16.0)\nRequirement already satisfied: tensorflow-hub>=0.16.1 in /opt/conda/lib/python3.10/site-packages (from tensorflowjs) (0.16.1)\nCollecting packaging~=23.1 (from tensorflowjs)\n  Downloading packaging-23.2-py3-none-any.whl.metadata (3.2 kB)\nRequirement already satisfied: numpy>=1.22 in /opt/conda/lib/python3.10/site-packages (from flax>=0.7.2->tensorflowjs) (1.26.4)\nRequirement already satisfied: msgpack in /opt/conda/lib/python3.10/site-packages (from flax>=0.7.2->tensorflowjs) (1.0.7)\nRequirement already satisfied: optax in /opt/conda/lib/python3.10/site-packages (from flax>=0.7.2->tensorflowjs) (0.2.2)\nRequirement already satisfied: orbax-checkpoint in /opt/conda/lib/python3.10/site-packages (from flax>=0.7.2->tensorflowjs) (0.5.15)\nRequirement already satisfied: tensorstore in /opt/conda/lib/python3.10/site-packages (from flax>=0.7.2->tensorflowjs) (0.1.60)\nRequirement already satisfied: rich>=11.1 in /opt/conda/lib/python3.10/site-packages (from flax>=0.7.2->tensorflowjs) (13.7.0)\nRequirement already satisfied: typing-extensions>=4.2 in /opt/conda/lib/python3.10/site-packages (from flax>=0.7.2->tensorflowjs) (4.9.0)\nRequirement already satisfied: PyYAML>=5.4.1 in /opt/conda/lib/python3.10/site-packages (from flax>=0.7.2->tensorflowjs) (6.0.1)\nRequirement already satisfied: ml-dtypes>=0.2.0 in /opt/conda/lib/python3.10/site-packages (from jax>=0.4.13->tensorflowjs) (0.2.0)\nRequirement already satisfied: opt-einsum in /opt/conda/lib/python3.10/site-packages (from jax>=0.4.13->tensorflowjs) (3.3.0)\nRequirement already satisfied: scipy>=1.9 in /opt/conda/lib/python3.10/site-packages (from jax>=0.4.13->tensorflowjs) (1.11.4)\nRequirement already satisfied: absl-py>=1.0.0 in /opt/conda/lib/python3.10/site-packages (from tensorflow<3,>=2.13.0->tensorflowjs) (1.4.0)\nRequirement already satisfied: astunparse>=1.6.0 in /opt/conda/lib/python3.10/site-packages (from tensorflow<3,>=2.13.0->tensorflowjs) (1.6.3)\nRequirement already satisfied: flatbuffers>=23.5.26 in /opt/conda/lib/python3.10/site-packages (from tensorflow<3,>=2.13.0->tensorflowjs) (23.5.26)\nRequirement already satisfied: gast!=0.5.0,!=0.5.1,!=0.5.2,>=0.2.1 in /opt/conda/lib/python3.10/site-packages (from tensorflow<3,>=2.13.0->tensorflowjs) (0.5.4)\nRequirement already satisfied: google-pasta>=0.1.1 in /opt/conda/lib/python3.10/site-packages (from tensorflow<3,>=2.13.0->tensorflowjs) (0.2.0)\nRequirement already satisfied: h5py>=2.9.0 in /opt/conda/lib/python3.10/site-packages (from tensorflow<3,>=2.13.0->tensorflowjs) (3.10.0)\nRequirement already satisfied: libclang>=13.0.0 in /opt/conda/lib/python3.10/site-packages (from tensorflow<3,>=2.13.0->tensorflowjs) (16.0.6)\nRequirement already satisfied: protobuf!=4.21.0,!=4.21.1,!=4.21.2,!=4.21.3,!=4.21.4,!=4.21.5,<5.0.0dev,>=3.20.3 in /opt/conda/lib/python3.10/site-packages (from tensorflow<3,>=2.13.0->tensorflowjs) (3.20.3)\nRequirement already satisfied: setuptools in /opt/conda/lib/python3.10/site-packages (from tensorflow<3,>=2.13.0->tensorflowjs) (69.0.3)\nRequirement already satisfied: termcolor>=1.1.0 in /opt/conda/lib/python3.10/site-packages (from tensorflow<3,>=2.13.0->tensorflowjs) (2.4.0)\nRequirement already satisfied: wrapt<1.15,>=1.11.0 in /opt/conda/lib/python3.10/site-packages (from tensorflow<3,>=2.13.0->tensorflowjs) (1.14.1)\nRequirement already satisfied: tensorflow-io-gcs-filesystem>=0.23.1 in /opt/conda/lib/python3.10/site-packages (from tensorflow<3,>=2.13.0->tensorflowjs) (0.35.0)\nRequirement already satisfied: grpcio<2.0,>=1.24.3 in /opt/conda/lib/python3.10/site-packages (from tensorflow<3,>=2.13.0->tensorflowjs) (1.59.3)\nRequirement already satisfied: tensorboard<2.16,>=2.15 in /opt/conda/lib/python3.10/site-packages (from tensorflow<3,>=2.13.0->tensorflowjs) (2.15.1)\nRequirement already satisfied: tensorflow-estimator<2.16,>=2.15.0 in /opt/conda/lib/python3.10/site-packages (from tensorflow<3,>=2.13.0->tensorflowjs) (2.15.0)\nCollecting keras<2.16,>=2.15.0 (from tensorflow<3,>=2.13.0->tensorflowjs)\n  Downloading keras-2.15.0-py3-none-any.whl.metadata (2.4 kB)\nRequirement already satisfied: pandas in /opt/conda/lib/python3.10/site-packages (from tensorflow-decision-forests>=1.5.0->tensorflowjs) (2.2.1)\nRequirement already satisfied: wheel in /opt/conda/lib/python3.10/site-packages (from tensorflow-decision-forests>=1.5.0->tensorflowjs) (0.42.0)\nCollecting wurlitzer (from tensorflow-decision-forests>=1.5.0->tensorflowjs)\n  Downloading wurlitzer-3.1.1-py3-none-any.whl.metadata (2.5 kB)\nRequirement already satisfied: markdown-it-py>=2.2.0 in /opt/conda/lib/python3.10/site-packages (from rich>=11.1->flax>=0.7.2->tensorflowjs) (3.0.0)\nRequirement already satisfied: pygments<3.0.0,>=2.13.0 in /opt/conda/lib/python3.10/site-packages (from rich>=11.1->flax>=0.7.2->tensorflowjs) (2.17.2)\nRequirement already satisfied: google-auth<3,>=1.6.3 in /opt/conda/lib/python3.10/site-packages (from tensorboard<2.16,>=2.15->tensorflow<3,>=2.13.0->tensorflowjs) (2.26.1)\nRequirement already satisfied: google-auth-oauthlib<2,>=0.5 in /opt/conda/lib/python3.10/site-packages (from tensorboard<2.16,>=2.15->tensorflow<3,>=2.13.0->tensorflowjs) (1.2.0)\nRequirement already satisfied: markdown>=2.6.8 in /opt/conda/lib/python3.10/site-packages (from tensorboard<2.16,>=2.15->tensorflow<3,>=2.13.0->tensorflowjs) (3.5.2)\nRequirement already satisfied: requests<3,>=2.21.0 in /opt/conda/lib/python3.10/site-packages (from tensorboard<2.16,>=2.15->tensorflow<3,>=2.13.0->tensorflowjs) (2.32.3)\nRequirement already satisfied: tensorboard-data-server<0.8.0,>=0.7.0 in /opt/conda/lib/python3.10/site-packages (from tensorboard<2.16,>=2.15->tensorflow<3,>=2.13.0->tensorflowjs) (0.7.2)\nRequirement already satisfied: werkzeug>=1.0.1 in /opt/conda/lib/python3.10/site-packages (from tensorboard<2.16,>=2.15->tensorflow<3,>=2.13.0->tensorflowjs) (3.0.3)\nRequirement already satisfied: chex>=0.1.86 in /opt/conda/lib/python3.10/site-packages (from optax->flax>=0.7.2->tensorflowjs) (0.1.86)\nRequirement already satisfied: etils[epath,epy] in /opt/conda/lib/python3.10/site-packages (from orbax-checkpoint->flax>=0.7.2->tensorflowjs) (1.6.0)\nRequirement already satisfied: nest_asyncio in /opt/conda/lib/python3.10/site-packages (from orbax-checkpoint->flax>=0.7.2->tensorflowjs) (1.5.8)\nINFO: pip is looking at multiple versions of tensorstore to determine which version is compatible with other requirements. This could take a while.\nCollecting tensorstore (from flax>=0.7.2->tensorflowjs)\n  Downloading tensorstore-0.1.62-cp310-cp310-manylinux_2_17_x86_64.manylinux2014_x86_64.whl.metadata (3.0 kB)\n  Downloading tensorstore-0.1.61-cp310-cp310-manylinux_2_17_x86_64.manylinux2014_x86_64.whl.metadata (3.0 kB)\n  Downloading tensorstore-0.1.59-cp310-cp310-manylinux_2_17_x86_64.manylinux2014_x86_64.whl.metadata (3.0 kB)\n  Downloading tensorstore-0.1.58-cp310-cp310-manylinux_2_17_x86_64.manylinux2014_x86_64.whl.metadata (3.0 kB)\n  Downloading tensorstore-0.1.57-cp310-cp310-manylinux_2_17_x86_64.manylinux2014_x86_64.whl.metadata (3.0 kB)\n  Downloading tensorstore-0.1.56-cp310-cp310-manylinux_2_17_x86_64.manylinux2014_x86_64.whl.metadata (3.0 kB)\n  Downloading tensorstore-0.1.55-cp310-cp310-manylinux_2_17_x86_64.manylinux2014_x86_64.whl.metadata (3.0 kB)\nINFO: pip is still looking at multiple versions of tensorstore to determine which version is compatible with other requirements. This could take a while.\n  Downloading tensorstore-0.1.54-cp310-cp310-manylinux_2_17_x86_64.manylinux2014_x86_64.whl.metadata (3.0 kB)\n  Downloading tensorstore-0.1.53-cp310-cp310-manylinux_2_17_x86_64.manylinux2014_x86_64.whl.metadata (3.0 kB)\n  Downloading tensorstore-0.1.52-cp310-cp310-manylinux_2_17_x86_64.manylinux2014_x86_64.whl.metadata (3.0 kB)\n  Downloading tensorstore-0.1.51-cp310-cp310-manylinux_2_17_x86_64.manylinux2014_x86_64.whl.metadata (3.0 kB)\nCollecting orbax-checkpoint (from flax>=0.7.2->tensorflowjs)\n  Downloading orbax_checkpoint-0.5.16-py3-none-any.whl.metadata (1.8 kB)\nINFO: This is taking longer than usual. You might need to provide the dependency resolver with stricter constraints to reduce runtime. See https://pip.pypa.io/warnings/backtracking for guidance. If you want to abort this run, press Ctrl + C.\nCollecting tensorstore (from flax>=0.7.2->tensorflowjs)\n  Downloading tensorstore-0.1.50-cp310-cp310-manylinux_2_17_x86_64.manylinux2014_x86_64.whl.metadata (3.0 kB)\n  Downloading tensorstore-0.1.49-cp310-cp310-manylinux_2_17_x86_64.manylinux2014_x86_64.whl.metadata (3.0 kB)\n  Downloading tensorstore-0.1.48-cp310-cp310-manylinux_2_17_x86_64.manylinux2014_x86_64.whl.metadata (2.9 kB)\n  Downloading tensorstore-0.1.47-cp310-cp310-manylinux_2_17_x86_64.manylinux2014_x86_64.whl.metadata (2.9 kB)\n  Downloading tensorstore-0.1.46-cp310-cp310-manylinux_2_17_x86_64.manylinux2014_x86_64.whl.metadata (2.9 kB)\n  Downloading tensorstore-0.1.45-cp310-cp310-manylinux_2_17_x86_64.manylinux2014_x86_64.whl.metadata (2.9 kB)\nCollecting orbax-checkpoint (from flax>=0.7.2->tensorflowjs)\n  Downloading orbax_checkpoint-0.5.15-py3-none-any.whl.metadata (1.8 kB)\n  Downloading orbax_checkpoint-0.5.14-py3-none-any.whl.metadata (1.8 kB)\n  Downloading orbax_checkpoint-0.5.13-py3-none-any.whl.metadata (1.8 kB)\n  Downloading orbax_checkpoint-0.5.12-py3-none-any.whl.metadata (1.8 kB)\n  Downloading orbax_checkpoint-0.5.11-py3-none-any.whl.metadata (1.8 kB)\n  Downloading orbax_checkpoint-0.5.10-py3-none-any.whl.metadata (1.8 kB)\n  Downloading orbax_checkpoint-0.5.9-py3-none-any.whl.metadata (1.7 kB)\n  Downloading orbax_checkpoint-0.5.8-py3-none-any.whl.metadata (1.7 kB)\n  Downloading orbax_checkpoint-0.5.7-py3-none-any.whl.metadata (1.7 kB)\n  Downloading orbax_checkpoint-0.5.6-py3-none-any.whl.metadata (1.7 kB)\n  Downloading orbax_checkpoint-0.5.5-py3-none-any.whl.metadata (1.7 kB)\n  Downloading orbax_checkpoint-0.5.4-py3-none-any.whl.metadata (1.7 kB)\n  Downloading orbax_checkpoint-0.5.3-py3-none-any.whl.metadata (1.7 kB)\n  Downloading orbax_checkpoint-0.5.2-py3-none-any.whl.metadata (1.7 kB)\n  Downloading orbax_checkpoint-0.5.1-py3-none-any.whl.metadata (1.7 kB)\n  Downloading orbax_checkpoint-0.5.0-py3-none-any.whl.metadata (1.7 kB)\n  Downloading orbax_checkpoint-0.4.8-py3-none-any.whl.metadata (1.7 kB)\n  Downloading orbax_checkpoint-0.4.7-py3-none-any.whl.metadata (1.7 kB)\n  Downloading orbax_checkpoint-0.4.6-py3-none-any.whl.metadata (1.7 kB)\n  Downloading orbax_checkpoint-0.4.5-py3-none-any.whl.metadata (1.7 kB)\n  Downloading orbax_checkpoint-0.4.4-py3-none-any.whl.metadata (1.7 kB)\nRequirement already satisfied: python-dateutil>=2.8.2 in /opt/conda/lib/python3.10/site-packages (from pandas->tensorflow-decision-forests>=1.5.0->tensorflowjs) (2.9.0.post0)\nRequirement already satisfied: pytz>=2020.1 in /opt/conda/lib/python3.10/site-packages (from pandas->tensorflow-decision-forests>=1.5.0->tensorflowjs) (2023.3.post1)\nRequirement already satisfied: tzdata>=2022.7 in /opt/conda/lib/python3.10/site-packages (from pandas->tensorflow-decision-forests>=1.5.0->tensorflowjs) (2023.4)\nRequirement already satisfied: toolz>=0.9.0 in /opt/conda/lib/python3.10/site-packages (from chex>=0.1.86->optax->flax>=0.7.2->tensorflowjs) (0.12.1)\nRequirement already satisfied: cachetools<6.0,>=2.0.0 in /opt/conda/lib/python3.10/site-packages (from google-auth<3,>=1.6.3->tensorboard<2.16,>=2.15->tensorflow<3,>=2.13.0->tensorflowjs) (4.2.4)\nRequirement already satisfied: pyasn1-modules>=0.2.1 in /opt/conda/lib/python3.10/site-packages (from google-auth<3,>=1.6.3->tensorboard<2.16,>=2.15->tensorflow<3,>=2.13.0->tensorflowjs) (0.3.0)\nRequirement already satisfied: rsa<5,>=3.1.4 in /opt/conda/lib/python3.10/site-packages (from google-auth<3,>=1.6.3->tensorboard<2.16,>=2.15->tensorflow<3,>=2.13.0->tensorflowjs) (4.9)\nRequirement already satisfied: requests-oauthlib>=0.7.0 in /opt/conda/lib/python3.10/site-packages (from google-auth-oauthlib<2,>=0.5->tensorboard<2.16,>=2.15->tensorflow<3,>=2.13.0->tensorflowjs) (1.3.1)\nRequirement already satisfied: mdurl~=0.1 in /opt/conda/lib/python3.10/site-packages (from markdown-it-py>=2.2.0->rich>=11.1->flax>=0.7.2->tensorflowjs) (0.1.2)\nRequirement already satisfied: charset-normalizer<4,>=2 in /opt/conda/lib/python3.10/site-packages (from requests<3,>=2.21.0->tensorboard<2.16,>=2.15->tensorflow<3,>=2.13.0->tensorflowjs) (3.3.2)\nRequirement already satisfied: idna<4,>=2.5 in /opt/conda/lib/python3.10/site-packages (from requests<3,>=2.21.0->tensorboard<2.16,>=2.15->tensorflow<3,>=2.13.0->tensorflowjs) (3.6)\nRequirement already satisfied: urllib3<3,>=1.21.1 in /opt/conda/lib/python3.10/site-packages (from requests<3,>=2.21.0->tensorboard<2.16,>=2.15->tensorflow<3,>=2.13.0->tensorflowjs) (1.26.18)\nRequirement already satisfied: certifi>=2017.4.17 in /opt/conda/lib/python3.10/site-packages (from requests<3,>=2.21.0->tensorboard<2.16,>=2.15->tensorflow<3,>=2.13.0->tensorflowjs) (2024.2.2)\nRequirement already satisfied: MarkupSafe>=2.1.1 in /opt/conda/lib/python3.10/site-packages (from werkzeug>=1.0.1->tensorboard<2.16,>=2.15->tensorflow<3,>=2.13.0->tensorflowjs) (2.1.3)\nRequirement already satisfied: fsspec in /opt/conda/lib/python3.10/site-packages (from etils[epath,epy]->orbax-checkpoint->flax>=0.7.2->tensorflowjs) (2024.3.1)\nRequirement already satisfied: zipp in /opt/conda/lib/python3.10/site-packages (from etils[epath,epy]->orbax-checkpoint->flax>=0.7.2->tensorflowjs) (3.17.0)\nRequirement already satisfied: pyasn1<0.6.0,>=0.4.6 in /opt/conda/lib/python3.10/site-packages (from pyasn1-modules>=0.2.1->google-auth<3,>=1.6.3->tensorboard<2.16,>=2.15->tensorflow<3,>=2.13.0->tensorflowjs) (0.5.1)\nRequirement already satisfied: oauthlib>=3.0.0 in /opt/conda/lib/python3.10/site-packages (from requests-oauthlib>=0.7.0->google-auth-oauthlib<2,>=0.5->tensorboard<2.16,>=2.15->tensorflow<3,>=2.13.0->tensorflowjs) (3.2.2)\nDownloading tensorflowjs-4.20.0-py3-none-any.whl (89 kB)\n\u001b[2K   \u001b[90m━━━━━━━━━━━━━━━━━━━━━━━━━━━━━━━━━━━━━━━━\u001b[0m \u001b[32m89.1/89.1 kB\u001b[0m \u001b[31m3.7 MB/s\u001b[0m eta \u001b[36m0:00:00\u001b[0m\n\u001b[?25hDownloading packaging-23.2-py3-none-any.whl (53 kB)\n\u001b[2K   \u001b[90m━━━━━━━━━━━━━━━━━━━━━━━━━━━━━━━━━━━━━━━━\u001b[0m \u001b[32m53.0/53.0 kB\u001b[0m \u001b[31m3.4 MB/s\u001b[0m eta \u001b[36m0:00:00\u001b[0m\n\u001b[?25hDownloading keras-2.15.0-py3-none-any.whl (1.7 MB)\n\u001b[2K   \u001b[90m━━━━━━━━━━━━━━━━━━━━━━━━━━━━━━━━━━━━━━━━\u001b[0m \u001b[32m1.7/1.7 MB\u001b[0m \u001b[31m41.1 MB/s\u001b[0m eta \u001b[36m0:00:00\u001b[0m00:01\u001b[0m\n\u001b[?25hDownloading tensorstore-0.1.45-cp310-cp310-manylinux_2_17_x86_64.manylinux2014_x86_64.whl (13.5 MB)\n\u001b[2K   \u001b[90m━━━━━━━━━━━━━━━━━━━━━━━━━━━━━━━━━━━━━━━━\u001b[0m \u001b[32m13.5/13.5 MB\u001b[0m \u001b[31m94.3 MB/s\u001b[0m eta \u001b[36m0:00:00\u001b[0m:00:01\u001b[0m00:01\u001b[0m\n\u001b[?25hDownloading orbax_checkpoint-0.4.4-py3-none-any.whl (123 kB)\n\u001b[2K   \u001b[90m━━━━━━━━━━━━━━━━━━━━━━━━━━━━━━━━━━━━━━━━\u001b[0m \u001b[32m124.0/124.0 kB\u001b[0m \u001b[31m8.9 MB/s\u001b[0m eta \u001b[36m0:00:00\u001b[0m\n\u001b[?25hDownloading wurlitzer-3.1.1-py3-none-any.whl (8.6 kB)\nInstalling collected packages: wurlitzer, tensorstore, packaging, keras, orbax-checkpoint, tensorflowjs\n  Attempting uninstall: tensorstore\n    Found existing installation: tensorstore 0.1.60\n    Uninstalling tensorstore-0.1.60:\n      Successfully uninstalled tensorstore-0.1.60\n  Attempting uninstall: packaging\n    Found existing installation: packaging 21.3\n    Uninstalling packaging-21.3:\n      Successfully uninstalled packaging-21.3\n  Attempting uninstall: keras\n    Found existing installation: keras 3.3.3\n    Uninstalling keras-3.3.3:\n      Successfully uninstalled keras-3.3.3\n  Attempting uninstall: orbax-checkpoint\n    Found existing installation: orbax-checkpoint 0.5.15\n    Uninstalling orbax-checkpoint-0.5.15:\n      Successfully uninstalled orbax-checkpoint-0.5.15\n\u001b[31mERROR: pip's dependency resolver does not currently take into account all the packages that are installed. This behaviour is the source of the following dependency conflicts.\ncudf 24.4.1 requires cubinlinker, which is not installed.\ncudf 24.4.1 requires cupy-cuda11x>=12.0.0, which is not installed.\ncudf 24.4.1 requires ptxcompiler, which is not installed.\ncuml 24.4.0 requires cupy-cuda11x>=12.0.0, which is not installed.\ndask-cudf 24.4.1 requires cupy-cuda11x>=12.0.0, which is not installed.\nkeras-cv 0.9.0 requires keras-core, which is not installed.\nkeras-nlp 0.12.1 requires keras-core, which is not installed.\ncudf 24.4.1 requires cuda-python<12.0a0,>=11.7.1, but you have cuda-python 12.5.0 which is incompatible.\ndistributed 2024.1.1 requires dask==2024.1.1, but you have dask 2024.5.2 which is incompatible.\ngoogle-cloud-bigquery 2.34.4 requires packaging<22.0dev,>=14.3, but you have packaging 23.2 which is incompatible.\njupyterlab 4.2.1 requires jupyter-lsp>=2.0.0, but you have jupyter-lsp 1.5.1 which is incompatible.\njupyterlab-lsp 5.1.0 requires jupyter-lsp>=2.0.0, but you have jupyter-lsp 1.5.1 which is incompatible.\nlibpysal 4.9.2 requires shapely>=2.0.1, but you have shapely 1.8.5.post1 which is incompatible.\nmomepy 0.7.0 requires shapely>=2, but you have shapely 1.8.5.post1 which is incompatible.\nosmnx 1.9.3 requires shapely>=2.0, but you have shapely 1.8.5.post1 which is incompatible.\nrapids-dask-dependency 24.4.1a0 requires dask==2024.1.1, but you have dask 2024.5.2 which is incompatible.\nrapids-dask-dependency 24.4.1a0 requires dask-expr==0.4.0, but you have dask-expr 1.1.2 which is incompatible.\nspopt 0.6.0 requires shapely>=2.0.1, but you have shapely 1.8.5.post1 which is incompatible.\nydata-profiling 4.6.4 requires numpy<1.26,>=1.16.0, but you have numpy 1.26.4 which is incompatible.\u001b[0m\u001b[31m\n\u001b[0mSuccessfully installed keras-2.15.0 orbax-checkpoint-0.4.4 packaging-23.2 tensorflowjs-4.20.0 tensorstore-0.1.45 wurlitzer-3.1.1\nCollecting tensorflow==2.12.0\n  Downloading tensorflow-2.12.0-cp310-cp310-manylinux_2_17_x86_64.manylinux2014_x86_64.whl.metadata (3.4 kB)\nRequirement already satisfied: absl-py>=1.0.0 in /opt/conda/lib/python3.10/site-packages (from tensorflow==2.12.0) (1.4.0)\nRequirement already satisfied: astunparse>=1.6.0 in /opt/conda/lib/python3.10/site-packages (from tensorflow==2.12.0) (1.6.3)\nRequirement already satisfied: flatbuffers>=2.0 in /opt/conda/lib/python3.10/site-packages (from tensorflow==2.12.0) (23.5.26)\nCollecting gast<=0.4.0,>=0.2.1 (from tensorflow==2.12.0)\n  Downloading gast-0.4.0-py3-none-any.whl.metadata (1.1 kB)\nRequirement already satisfied: google-pasta>=0.1.1 in /opt/conda/lib/python3.10/site-packages (from tensorflow==2.12.0) (0.2.0)\nRequirement already satisfied: grpcio<2.0,>=1.24.3 in /opt/conda/lib/python3.10/site-packages (from tensorflow==2.12.0) (1.59.3)\nRequirement already satisfied: h5py>=2.9.0 in /opt/conda/lib/python3.10/site-packages (from tensorflow==2.12.0) (3.10.0)\nRequirement already satisfied: jax>=0.3.15 in /opt/conda/lib/python3.10/site-packages (from tensorflow==2.12.0) (0.4.26)\nCollecting keras<2.13,>=2.12.0 (from tensorflow==2.12.0)\n  Downloading keras-2.12.0-py2.py3-none-any.whl.metadata (1.4 kB)\nRequirement already satisfied: libclang>=13.0.0 in /opt/conda/lib/python3.10/site-packages (from tensorflow==2.12.0) (16.0.6)\nCollecting numpy<1.24,>=1.22 (from tensorflow==2.12.0)\n  Downloading numpy-1.23.5-cp310-cp310-manylinux_2_17_x86_64.manylinux2014_x86_64.whl.metadata (2.3 kB)\nRequirement already satisfied: opt-einsum>=2.3.2 in /opt/conda/lib/python3.10/site-packages (from tensorflow==2.12.0) (3.3.0)\nRequirement already satisfied: packaging in /opt/conda/lib/python3.10/site-packages (from tensorflow==2.12.0) (23.2)\nRequirement already satisfied: protobuf!=4.21.0,!=4.21.1,!=4.21.2,!=4.21.3,!=4.21.4,!=4.21.5,<5.0.0dev,>=3.20.3 in /opt/conda/lib/python3.10/site-packages (from tensorflow==2.12.0) (3.20.3)\nRequirement already satisfied: setuptools in /opt/conda/lib/python3.10/site-packages (from tensorflow==2.12.0) (69.0.3)\nRequirement already satisfied: six>=1.12.0 in /opt/conda/lib/python3.10/site-packages (from tensorflow==2.12.0) (1.16.0)\nCollecting tensorboard<2.13,>=2.12 (from tensorflow==2.12.0)\n  Downloading tensorboard-2.12.3-py3-none-any.whl.metadata (1.8 kB)\nCollecting tensorflow-estimator<2.13,>=2.12.0 (from tensorflow==2.12.0)\n  Downloading tensorflow_estimator-2.12.0-py2.py3-none-any.whl.metadata (1.3 kB)\nRequirement already satisfied: termcolor>=1.1.0 in /opt/conda/lib/python3.10/site-packages (from tensorflow==2.12.0) (2.4.0)\nRequirement already satisfied: typing-extensions>=3.6.6 in /opt/conda/lib/python3.10/site-packages (from tensorflow==2.12.0) (4.9.0)\nRequirement already satisfied: wrapt<1.15,>=1.11.0 in /opt/conda/lib/python3.10/site-packages (from tensorflow==2.12.0) (1.14.1)\nRequirement already satisfied: tensorflow-io-gcs-filesystem>=0.23.1 in /opt/conda/lib/python3.10/site-packages (from tensorflow==2.12.0) (0.35.0)\nRequirement already satisfied: wheel<1.0,>=0.23.0 in /opt/conda/lib/python3.10/site-packages (from astunparse>=1.6.0->tensorflow==2.12.0) (0.42.0)\nRequirement already satisfied: ml-dtypes>=0.2.0 in /opt/conda/lib/python3.10/site-packages (from jax>=0.3.15->tensorflow==2.12.0) (0.2.0)\nRequirement already satisfied: scipy>=1.9 in /opt/conda/lib/python3.10/site-packages (from jax>=0.3.15->tensorflow==2.12.0) (1.11.4)\nRequirement already satisfied: google-auth<3,>=1.6.3 in /opt/conda/lib/python3.10/site-packages (from tensorboard<2.13,>=2.12->tensorflow==2.12.0) (2.26.1)\nCollecting google-auth-oauthlib<1.1,>=0.5 (from tensorboard<2.13,>=2.12->tensorflow==2.12.0)\n  Downloading google_auth_oauthlib-1.0.0-py2.py3-none-any.whl.metadata (2.7 kB)\nRequirement already satisfied: markdown>=2.6.8 in /opt/conda/lib/python3.10/site-packages (from tensorboard<2.13,>=2.12->tensorflow==2.12.0) (3.5.2)\nRequirement already satisfied: requests<3,>=2.21.0 in /opt/conda/lib/python3.10/site-packages (from tensorboard<2.13,>=2.12->tensorflow==2.12.0) (2.32.3)\nRequirement already satisfied: tensorboard-data-server<0.8.0,>=0.7.0 in /opt/conda/lib/python3.10/site-packages (from tensorboard<2.13,>=2.12->tensorflow==2.12.0) (0.7.2)\nRequirement already satisfied: werkzeug>=1.0.1 in /opt/conda/lib/python3.10/site-packages (from tensorboard<2.13,>=2.12->tensorflow==2.12.0) (3.0.3)\nRequirement already satisfied: cachetools<6.0,>=2.0.0 in /opt/conda/lib/python3.10/site-packages (from google-auth<3,>=1.6.3->tensorboard<2.13,>=2.12->tensorflow==2.12.0) (4.2.4)\nRequirement already satisfied: pyasn1-modules>=0.2.1 in /opt/conda/lib/python3.10/site-packages (from google-auth<3,>=1.6.3->tensorboard<2.13,>=2.12->tensorflow==2.12.0) (0.3.0)\nRequirement already satisfied: rsa<5,>=3.1.4 in /opt/conda/lib/python3.10/site-packages (from google-auth<3,>=1.6.3->tensorboard<2.13,>=2.12->tensorflow==2.12.0) (4.9)\nRequirement already satisfied: requests-oauthlib>=0.7.0 in /opt/conda/lib/python3.10/site-packages (from google-auth-oauthlib<1.1,>=0.5->tensorboard<2.13,>=2.12->tensorflow==2.12.0) (1.3.1)\nRequirement already satisfied: charset-normalizer<4,>=2 in /opt/conda/lib/python3.10/site-packages (from requests<3,>=2.21.0->tensorboard<2.13,>=2.12->tensorflow==2.12.0) (3.3.2)\nRequirement already satisfied: idna<4,>=2.5 in /opt/conda/lib/python3.10/site-packages (from requests<3,>=2.21.0->tensorboard<2.13,>=2.12->tensorflow==2.12.0) (3.6)\nRequirement already satisfied: urllib3<3,>=1.21.1 in /opt/conda/lib/python3.10/site-packages (from requests<3,>=2.21.0->tensorboard<2.13,>=2.12->tensorflow==2.12.0) (1.26.18)\nRequirement already satisfied: certifi>=2017.4.17 in /opt/conda/lib/python3.10/site-packages (from requests<3,>=2.21.0->tensorboard<2.13,>=2.12->tensorflow==2.12.0) (2024.2.2)\nRequirement already satisfied: MarkupSafe>=2.1.1 in /opt/conda/lib/python3.10/site-packages (from werkzeug>=1.0.1->tensorboard<2.13,>=2.12->tensorflow==2.12.0) (2.1.3)\nRequirement already satisfied: pyasn1<0.6.0,>=0.4.6 in /opt/conda/lib/python3.10/site-packages (from pyasn1-modules>=0.2.1->google-auth<3,>=1.6.3->tensorboard<2.13,>=2.12->tensorflow==2.12.0) (0.5.1)\nRequirement already satisfied: oauthlib>=3.0.0 in /opt/conda/lib/python3.10/site-packages (from requests-oauthlib>=0.7.0->google-auth-oauthlib<1.1,>=0.5->tensorboard<2.13,>=2.12->tensorflow==2.12.0) (3.2.2)\nDownloading tensorflow-2.12.0-cp310-cp310-manylinux_2_17_x86_64.manylinux2014_x86_64.whl (585.9 MB)\n\u001b[2K   \u001b[90m━━━━━━━━━━━━━━━━━━━━━━━━━━━━━━━━━━━━━━━━\u001b[0m \u001b[32m585.9/585.9 MB\u001b[0m \u001b[31m2.7 MB/s\u001b[0m eta \u001b[36m0:00:00\u001b[0m:00:01\u001b[0m00:01\u001b[0m\n\u001b[?25hDownloading gast-0.4.0-py3-none-any.whl (9.8 kB)\nDownloading keras-2.12.0-py2.py3-none-any.whl (1.7 MB)\n\u001b[2K   \u001b[90m━━━━━━━━━━━━━━━━━━━━━━━━━━━━━━━━━━━━━━━━\u001b[0m \u001b[32m1.7/1.7 MB\u001b[0m \u001b[31m12.6 MB/s\u001b[0m eta \u001b[36m0:00:00\u001b[0m:00:01\u001b[0m\n\u001b[?25hDownloading numpy-1.23.5-cp310-cp310-manylinux_2_17_x86_64.manylinux2014_x86_64.whl (17.1 MB)\n\u001b[2K   \u001b[90m━━━━━━━━━━━━━━━━━━━━━━━━━━━━━━━━━━━━━━━━\u001b[0m \u001b[32m17.1/17.1 MB\u001b[0m \u001b[31m15.9 MB/s\u001b[0m eta \u001b[36m0:00:00\u001b[0m:00:01\u001b[0m00:01\u001b[0m\n\u001b[?25hDownloading tensorboard-2.12.3-py3-none-any.whl (5.6 MB)\n\u001b[2K   \u001b[90m━━━━━━━━━━━━━━━━━━━━━━━━━━━━━━━━━━━━━━━━\u001b[0m \u001b[32m5.6/5.6 MB\u001b[0m \u001b[31m21.4 MB/s\u001b[0m eta \u001b[36m0:00:00\u001b[0m:00:01\u001b[0m00:01\u001b[0m\n\u001b[?25hDownloading tensorflow_estimator-2.12.0-py2.py3-none-any.whl (440 kB)\n\u001b[2K   \u001b[90m━━━━━━━━━━━━━━━━━━━━━━━━━━━━━━━━━━━━━━━━\u001b[0m \u001b[32m440.7/440.7 kB\u001b[0m \u001b[31m3.7 MB/s\u001b[0m eta \u001b[36m0:00:00\u001b[0m:00:01\u001b[0m\n\u001b[?25hDownloading google_auth_oauthlib-1.0.0-py2.py3-none-any.whl (18 kB)\nInstalling collected packages: tensorflow-estimator, numpy, keras, gast, google-auth-oauthlib, tensorboard, tensorflow\n  Attempting uninstall: tensorflow-estimator\n    Found existing installation: tensorflow-estimator 2.15.0\n    Uninstalling tensorflow-estimator-2.15.0:\n      Successfully uninstalled tensorflow-estimator-2.15.0\n  Attempting uninstall: numpy\n    Found existing installation: numpy 1.26.4\n    Uninstalling numpy-1.26.4:\n      Successfully uninstalled numpy-1.26.4\n  Attempting uninstall: keras\n    Found existing installation: keras 2.15.0\n    Uninstalling keras-2.15.0:\n      Successfully uninstalled keras-2.15.0\n  Attempting uninstall: gast\n    Found existing installation: gast 0.5.4\n    Uninstalling gast-0.5.4:\n      Successfully uninstalled gast-0.5.4\n  Attempting uninstall: google-auth-oauthlib\n    Found existing installation: google-auth-oauthlib 1.2.0\n    Uninstalling google-auth-oauthlib-1.2.0:\n      Successfully uninstalled google-auth-oauthlib-1.2.0\n  Attempting uninstall: tensorboard\n    Found existing installation: tensorboard 2.15.1\n    Uninstalling tensorboard-2.15.1:\n      Successfully uninstalled tensorboard-2.15.1\n  Attempting uninstall: tensorflow\n    Found existing installation: tensorflow 2.15.0\n    Uninstalling tensorflow-2.15.0:\n      Successfully uninstalled tensorflow-2.15.0\n\u001b[31mERROR: pip's dependency resolver does not currently take into account all the packages that are installed. This behaviour is the source of the following dependency conflicts.\ncudf 24.4.1 requires cubinlinker, which is not installed.\ncudf 24.4.1 requires cupy-cuda11x>=12.0.0, which is not installed.\ncudf 24.4.1 requires ptxcompiler, which is not installed.\ncuml 24.4.0 requires cupy-cuda11x>=12.0.0, which is not installed.\ndask-cudf 24.4.1 requires cupy-cuda11x>=12.0.0, which is not installed.\nkeras-nlp 0.12.1 requires keras-core, which is not installed.\nalbumentations 1.4.0 requires numpy>=1.24.4, but you have numpy 1.23.5 which is incompatible.\napache-beam 2.46.0 requires dill<0.3.2,>=0.3.1.1, but you have dill 0.3.8 which is incompatible.\napache-beam 2.46.0 requires pyarrow<10.0.0,>=3.0.0, but you have pyarrow 14.0.2 which is incompatible.\nchex 0.1.86 requires numpy>=1.24.1, but you have numpy 1.23.5 which is incompatible.\ncudf 24.4.1 requires cuda-python<12.0a0,>=11.7.1, but you have cuda-python 12.5.0 which is incompatible.\nfeaturetools 1.31.0 requires numpy>=1.25.0, but you have numpy 1.23.5 which is incompatible.\nlibpysal 4.9.2 requires shapely>=2.0.1, but you have shapely 1.8.5.post1 which is incompatible.\nmomepy 0.7.0 requires shapely>=2, but you have shapely 1.8.5.post1 which is incompatible.\nosmnx 1.9.3 requires shapely>=2.0, but you have shapely 1.8.5.post1 which is incompatible.\npyldavis 3.4.1 requires numpy>=1.24.2, but you have numpy 1.23.5 which is incompatible.\npylibraft 24.4.0 requires cuda-python<12.0a0,>=11.7.1, but you have cuda-python 12.5.0 which is incompatible.\nrmm 24.4.0 requires cuda-python<12.0a0,>=11.7.1, but you have cuda-python 12.5.0 which is incompatible.\nspopt 0.6.0 requires shapely>=2.0.1, but you have shapely 1.8.5.post1 which is incompatible.\ntensorflow-decision-forests 1.8.1 requires tensorflow~=2.15.0, but you have tensorflow 2.12.0 which is incompatible.\ntensorflow-serving-api 2.14.1 requires tensorflow<3,>=2.14.1, but you have tensorflow 2.12.0 which is incompatible.\ntensorflow-text 2.15.0 requires tensorflow<2.16,>=2.15.0; platform_machine != \"arm64\" or platform_system != \"Darwin\", but you have tensorflow 2.12.0 which is incompatible.\ntensorflowjs 4.20.0 requires tensorflow<3,>=2.13.0, but you have tensorflow 2.12.0 which is incompatible.\ntf-keras 2.15.1 requires tensorflow<2.16,>=2.15, but you have tensorflow 2.12.0 which is incompatible.\nwoodwork 0.31.0 requires numpy>=1.25.0, but you have numpy 1.23.5 which is incompatible.\u001b[0m\u001b[31m\n\u001b[0mSuccessfully installed gast-0.4.0 google-auth-oauthlib-1.0.0 keras-2.12.0 numpy-1.23.5 tensorboard-2.12.3 tensorflow-2.12.0 tensorflow-estimator-2.12.0\nCollecting tensorflow-decision-forests==1.4.0\n  Downloading tensorflow_decision_forests-1.4.0-cp310-cp310-manylinux_2_17_x86_64.manylinux2014_x86_64.whl.metadata (4.8 kB)\nRequirement already satisfied: numpy in /opt/conda/lib/python3.10/site-packages (from tensorflow-decision-forests==1.4.0) (1.23.5)\nRequirement already satisfied: pandas in /opt/conda/lib/python3.10/site-packages (from tensorflow-decision-forests==1.4.0) (2.2.1)\nRequirement already satisfied: tensorflow~=2.12.0 in /opt/conda/lib/python3.10/site-packages (from tensorflow-decision-forests==1.4.0) (2.12.0)\nRequirement already satisfied: six in /opt/conda/lib/python3.10/site-packages (from tensorflow-decision-forests==1.4.0) (1.16.0)\nRequirement already satisfied: absl-py in /opt/conda/lib/python3.10/site-packages (from tensorflow-decision-forests==1.4.0) (1.4.0)\nRequirement already satisfied: wheel in /opt/conda/lib/python3.10/site-packages (from tensorflow-decision-forests==1.4.0) (0.42.0)\nRequirement already satisfied: wurlitzer in /opt/conda/lib/python3.10/site-packages (from tensorflow-decision-forests==1.4.0) (3.1.1)\nRequirement already satisfied: astunparse>=1.6.0 in /opt/conda/lib/python3.10/site-packages (from tensorflow~=2.12.0->tensorflow-decision-forests==1.4.0) (1.6.3)\nRequirement already satisfied: flatbuffers>=2.0 in /opt/conda/lib/python3.10/site-packages (from tensorflow~=2.12.0->tensorflow-decision-forests==1.4.0) (23.5.26)\nRequirement already satisfied: gast<=0.4.0,>=0.2.1 in /opt/conda/lib/python3.10/site-packages (from tensorflow~=2.12.0->tensorflow-decision-forests==1.4.0) (0.4.0)\nRequirement already satisfied: google-pasta>=0.1.1 in /opt/conda/lib/python3.10/site-packages (from tensorflow~=2.12.0->tensorflow-decision-forests==1.4.0) (0.2.0)\nRequirement already satisfied: grpcio<2.0,>=1.24.3 in /opt/conda/lib/python3.10/site-packages (from tensorflow~=2.12.0->tensorflow-decision-forests==1.4.0) (1.59.3)\nRequirement already satisfied: h5py>=2.9.0 in /opt/conda/lib/python3.10/site-packages (from tensorflow~=2.12.0->tensorflow-decision-forests==1.4.0) (3.10.0)\nRequirement already satisfied: jax>=0.3.15 in /opt/conda/lib/python3.10/site-packages (from tensorflow~=2.12.0->tensorflow-decision-forests==1.4.0) (0.4.26)\nRequirement already satisfied: keras<2.13,>=2.12.0 in /opt/conda/lib/python3.10/site-packages (from tensorflow~=2.12.0->tensorflow-decision-forests==1.4.0) (2.12.0)\nRequirement already satisfied: libclang>=13.0.0 in /opt/conda/lib/python3.10/site-packages (from tensorflow~=2.12.0->tensorflow-decision-forests==1.4.0) (16.0.6)\nRequirement already satisfied: opt-einsum>=2.3.2 in /opt/conda/lib/python3.10/site-packages (from tensorflow~=2.12.0->tensorflow-decision-forests==1.4.0) (3.3.0)\nRequirement already satisfied: packaging in /opt/conda/lib/python3.10/site-packages (from tensorflow~=2.12.0->tensorflow-decision-forests==1.4.0) (23.2)\nRequirement already satisfied: protobuf!=4.21.0,!=4.21.1,!=4.21.2,!=4.21.3,!=4.21.4,!=4.21.5,<5.0.0dev,>=3.20.3 in /opt/conda/lib/python3.10/site-packages (from tensorflow~=2.12.0->tensorflow-decision-forests==1.4.0) (3.20.3)\nRequirement already satisfied: setuptools in /opt/conda/lib/python3.10/site-packages (from tensorflow~=2.12.0->tensorflow-decision-forests==1.4.0) (69.0.3)\nRequirement already satisfied: tensorboard<2.13,>=2.12 in /opt/conda/lib/python3.10/site-packages (from tensorflow~=2.12.0->tensorflow-decision-forests==1.4.0) (2.12.3)\nRequirement already satisfied: tensorflow-estimator<2.13,>=2.12.0 in /opt/conda/lib/python3.10/site-packages (from tensorflow~=2.12.0->tensorflow-decision-forests==1.4.0) (2.12.0)\nRequirement already satisfied: termcolor>=1.1.0 in /opt/conda/lib/python3.10/site-packages (from tensorflow~=2.12.0->tensorflow-decision-forests==1.4.0) (2.4.0)\nRequirement already satisfied: typing-extensions>=3.6.6 in /opt/conda/lib/python3.10/site-packages (from tensorflow~=2.12.0->tensorflow-decision-forests==1.4.0) (4.9.0)\nRequirement already satisfied: wrapt<1.15,>=1.11.0 in /opt/conda/lib/python3.10/site-packages (from tensorflow~=2.12.0->tensorflow-decision-forests==1.4.0) (1.14.1)\nRequirement already satisfied: tensorflow-io-gcs-filesystem>=0.23.1 in /opt/conda/lib/python3.10/site-packages (from tensorflow~=2.12.0->tensorflow-decision-forests==1.4.0) (0.35.0)\nRequirement already satisfied: python-dateutil>=2.8.2 in /opt/conda/lib/python3.10/site-packages (from pandas->tensorflow-decision-forests==1.4.0) (2.9.0.post0)\nRequirement already satisfied: pytz>=2020.1 in /opt/conda/lib/python3.10/site-packages (from pandas->tensorflow-decision-forests==1.4.0) (2023.3.post1)\nRequirement already satisfied: tzdata>=2022.7 in /opt/conda/lib/python3.10/site-packages (from pandas->tensorflow-decision-forests==1.4.0) (2023.4)\nRequirement already satisfied: ml-dtypes>=0.2.0 in /opt/conda/lib/python3.10/site-packages (from jax>=0.3.15->tensorflow~=2.12.0->tensorflow-decision-forests==1.4.0) (0.2.0)\nRequirement already satisfied: scipy>=1.9 in /opt/conda/lib/python3.10/site-packages (from jax>=0.3.15->tensorflow~=2.12.0->tensorflow-decision-forests==1.4.0) (1.11.4)\nRequirement already satisfied: google-auth<3,>=1.6.3 in /opt/conda/lib/python3.10/site-packages (from tensorboard<2.13,>=2.12->tensorflow~=2.12.0->tensorflow-decision-forests==1.4.0) (2.26.1)\nRequirement already satisfied: google-auth-oauthlib<1.1,>=0.5 in /opt/conda/lib/python3.10/site-packages (from tensorboard<2.13,>=2.12->tensorflow~=2.12.0->tensorflow-decision-forests==1.4.0) (1.0.0)\nRequirement already satisfied: markdown>=2.6.8 in /opt/conda/lib/python3.10/site-packages (from tensorboard<2.13,>=2.12->tensorflow~=2.12.0->tensorflow-decision-forests==1.4.0) (3.5.2)\nRequirement already satisfied: requests<3,>=2.21.0 in /opt/conda/lib/python3.10/site-packages (from tensorboard<2.13,>=2.12->tensorflow~=2.12.0->tensorflow-decision-forests==1.4.0) (2.32.3)\nRequirement already satisfied: tensorboard-data-server<0.8.0,>=0.7.0 in /opt/conda/lib/python3.10/site-packages (from tensorboard<2.13,>=2.12->tensorflow~=2.12.0->tensorflow-decision-forests==1.4.0) (0.7.2)\nRequirement already satisfied: werkzeug>=1.0.1 in /opt/conda/lib/python3.10/site-packages (from tensorboard<2.13,>=2.12->tensorflow~=2.12.0->tensorflow-decision-forests==1.4.0) (3.0.3)\nRequirement already satisfied: cachetools<6.0,>=2.0.0 in /opt/conda/lib/python3.10/site-packages (from google-auth<3,>=1.6.3->tensorboard<2.13,>=2.12->tensorflow~=2.12.0->tensorflow-decision-forests==1.4.0) (4.2.4)\nRequirement already satisfied: pyasn1-modules>=0.2.1 in /opt/conda/lib/python3.10/site-packages (from google-auth<3,>=1.6.3->tensorboard<2.13,>=2.12->tensorflow~=2.12.0->tensorflow-decision-forests==1.4.0) (0.3.0)\nRequirement already satisfied: rsa<5,>=3.1.4 in /opt/conda/lib/python3.10/site-packages (from google-auth<3,>=1.6.3->tensorboard<2.13,>=2.12->tensorflow~=2.12.0->tensorflow-decision-forests==1.4.0) (4.9)\nRequirement already satisfied: requests-oauthlib>=0.7.0 in /opt/conda/lib/python3.10/site-packages (from google-auth-oauthlib<1.1,>=0.5->tensorboard<2.13,>=2.12->tensorflow~=2.12.0->tensorflow-decision-forests==1.4.0) (1.3.1)\nRequirement already satisfied: charset-normalizer<4,>=2 in /opt/conda/lib/python3.10/site-packages (from requests<3,>=2.21.0->tensorboard<2.13,>=2.12->tensorflow~=2.12.0->tensorflow-decision-forests==1.4.0) (3.3.2)\nRequirement already satisfied: idna<4,>=2.5 in /opt/conda/lib/python3.10/site-packages (from requests<3,>=2.21.0->tensorboard<2.13,>=2.12->tensorflow~=2.12.0->tensorflow-decision-forests==1.4.0) (3.6)\nRequirement already satisfied: urllib3<3,>=1.21.1 in /opt/conda/lib/python3.10/site-packages (from requests<3,>=2.21.0->tensorboard<2.13,>=2.12->tensorflow~=2.12.0->tensorflow-decision-forests==1.4.0) (1.26.18)\nRequirement already satisfied: certifi>=2017.4.17 in /opt/conda/lib/python3.10/site-packages (from requests<3,>=2.21.0->tensorboard<2.13,>=2.12->tensorflow~=2.12.0->tensorflow-decision-forests==1.4.0) (2024.2.2)\nRequirement already satisfied: MarkupSafe>=2.1.1 in /opt/conda/lib/python3.10/site-packages (from werkzeug>=1.0.1->tensorboard<2.13,>=2.12->tensorflow~=2.12.0->tensorflow-decision-forests==1.4.0) (2.1.3)\nRequirement already satisfied: pyasn1<0.6.0,>=0.4.6 in /opt/conda/lib/python3.10/site-packages (from pyasn1-modules>=0.2.1->google-auth<3,>=1.6.3->tensorboard<2.13,>=2.12->tensorflow~=2.12.0->tensorflow-decision-forests==1.4.0) (0.5.1)\nRequirement already satisfied: oauthlib>=3.0.0 in /opt/conda/lib/python3.10/site-packages (from requests-oauthlib>=0.7.0->google-auth-oauthlib<1.1,>=0.5->tensorboard<2.13,>=2.12->tensorflow~=2.12.0->tensorflow-decision-forests==1.4.0) (3.2.2)\nDownloading tensorflow_decision_forests-1.4.0-cp310-cp310-manylinux_2_17_x86_64.manylinux2014_x86_64.whl (16.7 MB)\n\u001b[2K   \u001b[90m━━━━━━━━━━━━━━━━━━━━━━━━━━━━━━━━━━━━━━━━\u001b[0m \u001b[32m16.7/16.7 MB\u001b[0m \u001b[31m82.5 MB/s\u001b[0m eta \u001b[36m0:00:00\u001b[0m:00:01\u001b[0m00:01\u001b[0m\n\u001b[?25hInstalling collected packages: tensorflow-decision-forests\n  Attempting uninstall: tensorflow-decision-forests\n    Found existing installation: tensorflow-decision-forests 1.8.1\n    Uninstalling tensorflow-decision-forests-1.8.1:\n      Successfully uninstalled tensorflow-decision-forests-1.8.1\n\u001b[31mERROR: pip's dependency resolver does not currently take into account all the packages that are installed. This behaviour is the source of the following dependency conflicts.\ntensorflowjs 4.20.0 requires tensorflow<3,>=2.13.0, but you have tensorflow 2.12.0 which is incompatible.\ntensorflowjs 4.20.0 requires tensorflow-decision-forests>=1.5.0, but you have tensorflow-decision-forests 1.4.0 which is incompatible.\u001b[0m\u001b[31m\n\u001b[0mSuccessfully installed tensorflow-decision-forests-1.4.0\n",
          "output_type": "stream"
        }
      ]
    },
    {
      "cell_type": "code",
      "source": [
        "# import tensorflowjs as tfjs\n",
        "# print(tfjs.__version__)\n",
        "import tensorflow_decision_forests as tfdf\n",
        "print(tfdf.__version__)\n",
        "import tensorflow as tf\n",
        "tf.__version__"
      ],
      "metadata": {
        "execution": {
          "iopub.status.busy": "2024-06-18T04:26:36.433942Z",
          "iopub.execute_input": "2024-06-18T04:26:36.434256Z",
          "iopub.status.idle": "2024-06-18T04:26:42.212808Z",
          "shell.execute_reply.started": "2024-06-18T04:26:36.434224Z",
          "shell.execute_reply": "2024-06-18T04:26:42.211945Z"
        },
        "trusted": true,
        "id": "xqgCqdammw3s",
        "outputId": "5e10c070-5362-40b7-ced9-5c031734cd39"
      },
      "execution_count": null,
      "outputs": [
        {
          "name": "stdout",
          "text": "1.4.0\n",
          "output_type": "stream"
        },
        {
          "execution_count": 2,
          "output_type": "execute_result",
          "data": {
            "text/plain": "'2.12.0'"
          },
          "metadata": {}
        }
      ]
    },
    {
      "cell_type": "code",
      "source": [
        "import regex as re\n",
        "import pandas as pd\n",
        "import numpy as np\n",
        "import json\n",
        "from sklearn.preprocessing import LabelEncoder\n",
        "from sklearn.model_selection import train_test_split\n",
        "from sklearn.preprocessing import StandardScaler\n",
        "import tensorflow as tf\n",
        "from tensorflow import keras\n",
        "from tensorflow.keras import layers\n",
        "from tensorflow.keras.callbacks import EarlyStopping\n",
        "from sklearn.preprocessing import MultiLabelBinarizer\n",
        "import warnings\n",
        "warnings.filterwarnings(\"ignore\")\n",
        "pd.set_option('display.max_columns', None)\n",
        "pd.set_option('display.max_rows', None)"
      ],
      "metadata": {
        "_uuid": "8f2839f25d086af736a60e9eeb907d3b93b6e0e5",
        "_cell_guid": "b1076dfc-b9ad-4769-8c92-a6c4dae69d19",
        "execution": {
          "iopub.status.busy": "2024-06-18T04:26:42.21409Z",
          "iopub.execute_input": "2024-06-18T04:26:42.21471Z",
          "iopub.status.idle": "2024-06-18T04:26:42.697344Z",
          "shell.execute_reply.started": "2024-06-18T04:26:42.214677Z",
          "shell.execute_reply": "2024-06-18T04:26:42.696568Z"
        },
        "trusted": true,
        "id": "5sGZ6l8Qmw3s"
      },
      "execution_count": null,
      "outputs": []
    },
    {
      "cell_type": "code",
      "source": [
        "import sklearn\n",
        "print(f'regex version: {re.__version__}')\n",
        "print(f'pandas version: {pd.__version__}')\n",
        "print(f'numpy version: {np.__version__}')\n",
        "print(f'scikit-learn version: {sklearn.__version__}')\n",
        "print(f'tensorflow version: {tf.__version__}')\n",
        "# Define dictionary with library versions\n",
        "library_versions = {\n",
        "    'regex': re.__version__,\n",
        "    'pandas': pd.__version__,\n",
        "    'numpy': np.__version__,\n",
        "    'scikit-learn': sklearn.__version__,\n",
        "    'tensorflow': tf.__version__,\n",
        "}\n",
        "\n",
        "# Save library versions to requirements.txt\n",
        "with open('./requirements.txt', 'w') as f:\n",
        "    for lib, version in library_versions.items():\n",
        "        f.write(f\"{lib}=={version}\\n\")\n",
        "\n",
        "print(\"Library versions saved to requirements.txt\")\n"
      ],
      "metadata": {
        "execution": {
          "iopub.status.busy": "2024-06-18T04:26:42.699817Z",
          "iopub.execute_input": "2024-06-18T04:26:42.700438Z",
          "iopub.status.idle": "2024-06-18T04:26:42.707775Z",
          "shell.execute_reply.started": "2024-06-18T04:26:42.700403Z",
          "shell.execute_reply": "2024-06-18T04:26:42.706864Z"
        },
        "trusted": true,
        "id": "vMnkjgpAmw3s",
        "outputId": "c973abcb-240a-4586-d968-38dfea067b28"
      },
      "execution_count": null,
      "outputs": [
        {
          "name": "stdout",
          "text": "regex version: 2.5.140\npandas version: 2.2.2\nnumpy version: 1.26.4\nscikit-learn version: 1.2.2\ntensorflow version: 2.12.0\nLibrary versions saved to requirements.txt\n",
          "output_type": "stream"
        }
      ]
    },
    {
      "cell_type": "markdown",
      "source": [
        "## Load Data"
      ],
      "metadata": {
        "id": "LgtVJUf5mw3s"
      }
    },
    {
      "cell_type": "code",
      "source": [
        "main_data = pd.read_csv(\"/kaggle/input/disease-symptom-description-dataset/dataset.csv\")"
      ],
      "metadata": {
        "execution": {
          "iopub.status.busy": "2024-06-18T04:26:42.708914Z",
          "iopub.execute_input": "2024-06-18T04:26:42.709189Z",
          "iopub.status.idle": "2024-06-18T04:26:42.761548Z",
          "shell.execute_reply.started": "2024-06-18T04:26:42.709161Z",
          "shell.execute_reply": "2024-06-18T04:26:42.76086Z"
        },
        "trusted": true,
        "id": "QKQu_Ldumw3t"
      },
      "execution_count": null,
      "outputs": []
    },
    {
      "cell_type": "code",
      "source": [
        "with open('/kaggle/input/label-mapping/label_mapping.json', 'r') as file:\n",
        "    label_mapping = json.load(file)"
      ],
      "metadata": {
        "execution": {
          "iopub.status.busy": "2024-06-18T04:26:42.76263Z",
          "iopub.execute_input": "2024-06-18T04:26:42.762901Z",
          "iopub.status.idle": "2024-06-18T04:26:42.777228Z",
          "shell.execute_reply.started": "2024-06-18T04:26:42.762878Z",
          "shell.execute_reply": "2024-06-18T04:26:42.77646Z"
        },
        "trusted": true,
        "id": "LW3g96LOmw3u"
      },
      "execution_count": null,
      "outputs": []
    },
    {
      "cell_type": "code",
      "source": [
        "main_data.head(10)"
      ],
      "metadata": {
        "execution": {
          "iopub.status.busy": "2024-06-18T04:26:42.778339Z",
          "iopub.execute_input": "2024-06-18T04:26:42.779011Z",
          "iopub.status.idle": "2024-06-18T04:26:42.806389Z",
          "shell.execute_reply.started": "2024-06-18T04:26:42.77898Z",
          "shell.execute_reply": "2024-06-18T04:26:42.80563Z"
        },
        "trusted": true,
        "id": "pkRlv-8gmw3u",
        "outputId": "d9fd199c-f0e9-4981-d781-aae4d3d51218"
      },
      "execution_count": null,
      "outputs": [
        {
          "execution_count": 7,
          "output_type": "execute_result",
          "data": {
            "text/plain": "            Disease   Symptom_1              Symptom_2              Symptom_3  \\\n0  Fungal infection     itching              skin_rash   nodal_skin_eruptions   \n1  Fungal infection   skin_rash   nodal_skin_eruptions    dischromic _patches   \n2  Fungal infection     itching   nodal_skin_eruptions    dischromic _patches   \n3  Fungal infection     itching              skin_rash    dischromic _patches   \n4  Fungal infection     itching              skin_rash   nodal_skin_eruptions   \n5  Fungal infection   skin_rash   nodal_skin_eruptions    dischromic _patches   \n6  Fungal infection     itching   nodal_skin_eruptions    dischromic _patches   \n7  Fungal infection     itching              skin_rash    dischromic _patches   \n8  Fungal infection     itching              skin_rash   nodal_skin_eruptions   \n9  Fungal infection     itching              skin_rash   nodal_skin_eruptions   \n\n              Symptom_4 Symptom_5 Symptom_6 Symptom_7 Symptom_8 Symptom_9  \\\n0   dischromic _patches       NaN       NaN       NaN       NaN       NaN   \n1                   NaN       NaN       NaN       NaN       NaN       NaN   \n2                   NaN       NaN       NaN       NaN       NaN       NaN   \n3                   NaN       NaN       NaN       NaN       NaN       NaN   \n4                   NaN       NaN       NaN       NaN       NaN       NaN   \n5                   NaN       NaN       NaN       NaN       NaN       NaN   \n6                   NaN       NaN       NaN       NaN       NaN       NaN   \n7                   NaN       NaN       NaN       NaN       NaN       NaN   \n8                   NaN       NaN       NaN       NaN       NaN       NaN   \n9   dischromic _patches       NaN       NaN       NaN       NaN       NaN   \n\n  Symptom_10 Symptom_11 Symptom_12 Symptom_13 Symptom_14 Symptom_15  \\\n0        NaN        NaN        NaN        NaN        NaN        NaN   \n1        NaN        NaN        NaN        NaN        NaN        NaN   \n2        NaN        NaN        NaN        NaN        NaN        NaN   \n3        NaN        NaN        NaN        NaN        NaN        NaN   \n4        NaN        NaN        NaN        NaN        NaN        NaN   \n5        NaN        NaN        NaN        NaN        NaN        NaN   \n6        NaN        NaN        NaN        NaN        NaN        NaN   \n7        NaN        NaN        NaN        NaN        NaN        NaN   \n8        NaN        NaN        NaN        NaN        NaN        NaN   \n9        NaN        NaN        NaN        NaN        NaN        NaN   \n\n  Symptom_16 Symptom_17  \n0        NaN        NaN  \n1        NaN        NaN  \n2        NaN        NaN  \n3        NaN        NaN  \n4        NaN        NaN  \n5        NaN        NaN  \n6        NaN        NaN  \n7        NaN        NaN  \n8        NaN        NaN  \n9        NaN        NaN  ",
            "text/html": "<div>\n<style scoped>\n    .dataframe tbody tr th:only-of-type {\n        vertical-align: middle;\n    }\n\n    .dataframe tbody tr th {\n        vertical-align: top;\n    }\n\n    .dataframe thead th {\n        text-align: right;\n    }\n</style>\n<table border=\"1\" class=\"dataframe\">\n  <thead>\n    <tr style=\"text-align: right;\">\n      <th></th>\n      <th>Disease</th>\n      <th>Symptom_1</th>\n      <th>Symptom_2</th>\n      <th>Symptom_3</th>\n      <th>Symptom_4</th>\n      <th>Symptom_5</th>\n      <th>Symptom_6</th>\n      <th>Symptom_7</th>\n      <th>Symptom_8</th>\n      <th>Symptom_9</th>\n      <th>Symptom_10</th>\n      <th>Symptom_11</th>\n      <th>Symptom_12</th>\n      <th>Symptom_13</th>\n      <th>Symptom_14</th>\n      <th>Symptom_15</th>\n      <th>Symptom_16</th>\n      <th>Symptom_17</th>\n    </tr>\n  </thead>\n  <tbody>\n    <tr>\n      <th>0</th>\n      <td>Fungal infection</td>\n      <td>itching</td>\n      <td>skin_rash</td>\n      <td>nodal_skin_eruptions</td>\n      <td>dischromic _patches</td>\n      <td>NaN</td>\n      <td>NaN</td>\n      <td>NaN</td>\n      <td>NaN</td>\n      <td>NaN</td>\n      <td>NaN</td>\n      <td>NaN</td>\n      <td>NaN</td>\n      <td>NaN</td>\n      <td>NaN</td>\n      <td>NaN</td>\n      <td>NaN</td>\n      <td>NaN</td>\n    </tr>\n    <tr>\n      <th>1</th>\n      <td>Fungal infection</td>\n      <td>skin_rash</td>\n      <td>nodal_skin_eruptions</td>\n      <td>dischromic _patches</td>\n      <td>NaN</td>\n      <td>NaN</td>\n      <td>NaN</td>\n      <td>NaN</td>\n      <td>NaN</td>\n      <td>NaN</td>\n      <td>NaN</td>\n      <td>NaN</td>\n      <td>NaN</td>\n      <td>NaN</td>\n      <td>NaN</td>\n      <td>NaN</td>\n      <td>NaN</td>\n      <td>NaN</td>\n    </tr>\n    <tr>\n      <th>2</th>\n      <td>Fungal infection</td>\n      <td>itching</td>\n      <td>nodal_skin_eruptions</td>\n      <td>dischromic _patches</td>\n      <td>NaN</td>\n      <td>NaN</td>\n      <td>NaN</td>\n      <td>NaN</td>\n      <td>NaN</td>\n      <td>NaN</td>\n      <td>NaN</td>\n      <td>NaN</td>\n      <td>NaN</td>\n      <td>NaN</td>\n      <td>NaN</td>\n      <td>NaN</td>\n      <td>NaN</td>\n      <td>NaN</td>\n    </tr>\n    <tr>\n      <th>3</th>\n      <td>Fungal infection</td>\n      <td>itching</td>\n      <td>skin_rash</td>\n      <td>dischromic _patches</td>\n      <td>NaN</td>\n      <td>NaN</td>\n      <td>NaN</td>\n      <td>NaN</td>\n      <td>NaN</td>\n      <td>NaN</td>\n      <td>NaN</td>\n      <td>NaN</td>\n      <td>NaN</td>\n      <td>NaN</td>\n      <td>NaN</td>\n      <td>NaN</td>\n      <td>NaN</td>\n      <td>NaN</td>\n    </tr>\n    <tr>\n      <th>4</th>\n      <td>Fungal infection</td>\n      <td>itching</td>\n      <td>skin_rash</td>\n      <td>nodal_skin_eruptions</td>\n      <td>NaN</td>\n      <td>NaN</td>\n      <td>NaN</td>\n      <td>NaN</td>\n      <td>NaN</td>\n      <td>NaN</td>\n      <td>NaN</td>\n      <td>NaN</td>\n      <td>NaN</td>\n      <td>NaN</td>\n      <td>NaN</td>\n      <td>NaN</td>\n      <td>NaN</td>\n      <td>NaN</td>\n    </tr>\n    <tr>\n      <th>5</th>\n      <td>Fungal infection</td>\n      <td>skin_rash</td>\n      <td>nodal_skin_eruptions</td>\n      <td>dischromic _patches</td>\n      <td>NaN</td>\n      <td>NaN</td>\n      <td>NaN</td>\n      <td>NaN</td>\n      <td>NaN</td>\n      <td>NaN</td>\n      <td>NaN</td>\n      <td>NaN</td>\n      <td>NaN</td>\n      <td>NaN</td>\n      <td>NaN</td>\n      <td>NaN</td>\n      <td>NaN</td>\n      <td>NaN</td>\n    </tr>\n    <tr>\n      <th>6</th>\n      <td>Fungal infection</td>\n      <td>itching</td>\n      <td>nodal_skin_eruptions</td>\n      <td>dischromic _patches</td>\n      <td>NaN</td>\n      <td>NaN</td>\n      <td>NaN</td>\n      <td>NaN</td>\n      <td>NaN</td>\n      <td>NaN</td>\n      <td>NaN</td>\n      <td>NaN</td>\n      <td>NaN</td>\n      <td>NaN</td>\n      <td>NaN</td>\n      <td>NaN</td>\n      <td>NaN</td>\n      <td>NaN</td>\n    </tr>\n    <tr>\n      <th>7</th>\n      <td>Fungal infection</td>\n      <td>itching</td>\n      <td>skin_rash</td>\n      <td>dischromic _patches</td>\n      <td>NaN</td>\n      <td>NaN</td>\n      <td>NaN</td>\n      <td>NaN</td>\n      <td>NaN</td>\n      <td>NaN</td>\n      <td>NaN</td>\n      <td>NaN</td>\n      <td>NaN</td>\n      <td>NaN</td>\n      <td>NaN</td>\n      <td>NaN</td>\n      <td>NaN</td>\n      <td>NaN</td>\n    </tr>\n    <tr>\n      <th>8</th>\n      <td>Fungal infection</td>\n      <td>itching</td>\n      <td>skin_rash</td>\n      <td>nodal_skin_eruptions</td>\n      <td>NaN</td>\n      <td>NaN</td>\n      <td>NaN</td>\n      <td>NaN</td>\n      <td>NaN</td>\n      <td>NaN</td>\n      <td>NaN</td>\n      <td>NaN</td>\n      <td>NaN</td>\n      <td>NaN</td>\n      <td>NaN</td>\n      <td>NaN</td>\n      <td>NaN</td>\n      <td>NaN</td>\n    </tr>\n    <tr>\n      <th>9</th>\n      <td>Fungal infection</td>\n      <td>itching</td>\n      <td>skin_rash</td>\n      <td>nodal_skin_eruptions</td>\n      <td>dischromic _patches</td>\n      <td>NaN</td>\n      <td>NaN</td>\n      <td>NaN</td>\n      <td>NaN</td>\n      <td>NaN</td>\n      <td>NaN</td>\n      <td>NaN</td>\n      <td>NaN</td>\n      <td>NaN</td>\n      <td>NaN</td>\n      <td>NaN</td>\n      <td>NaN</td>\n      <td>NaN</td>\n    </tr>\n  </tbody>\n</table>\n</div>"
          },
          "metadata": {}
        }
      ]
    },
    {
      "cell_type": "code",
      "source": [
        "main_data.sample(5)"
      ],
      "metadata": {
        "execution": {
          "iopub.status.busy": "2024-06-18T04:26:42.8073Z",
          "iopub.execute_input": "2024-06-18T04:26:42.807541Z",
          "iopub.status.idle": "2024-06-18T04:26:42.825804Z",
          "shell.execute_reply.started": "2024-06-18T04:26:42.80752Z",
          "shell.execute_reply": "2024-06-18T04:26:42.82489Z"
        },
        "trusted": true,
        "id": "oosHWw2amw3u",
        "outputId": "a4cc59be-06a4-47e6-9f19-e6dde22f1b4b"
      },
      "execution_count": null,
      "outputs": [
        {
          "execution_count": 8,
          "output_type": "execute_result",
          "data": {
            "text/plain": "                      Disease             Symptom_1            Symptom_2  \\\n2049                 Impetigo             skin_rash              blister   \n4558                Diabetes                fatigue          weight_loss   \n2858             Heart attack              vomiting       breathlessness   \n3277  Urinary tract infection   burning_micturition   bladder_discomfort   \n977                   Malaria                chills             vomiting   \n\n                  Symptom_3                  Symptom_4  \\\n2049   red_sore_around_nose          yellow_crust_ooze   \n4558           restlessness                   lethargy   \n2858               sweating                 chest_pain   \n3277    foul_smell_of urine   continuous_feel_of_urine   \n977              high_fever                   sweating   \n\n                   Symptom_5                      Symptom_6     Symptom_7  \\\n2049                     NaN                            NaN           NaN   \n4558   irregular_sugar_level   blurred_and_distorted_vision       obesity   \n2858                     NaN                            NaN           NaN   \n3277                     NaN                            NaN           NaN   \n977                   nausea                      diarrhoea   muscle_pain   \n\n              Symptom_8            Symptom_9 Symptom_10 Symptom_11 Symptom_12  \\\n2049                NaN                  NaN        NaN        NaN        NaN   \n4558   excessive_hunger   increased_appetite   polyuria        NaN        NaN   \n2858                NaN                  NaN        NaN        NaN        NaN   \n3277                NaN                  NaN        NaN        NaN        NaN   \n977                 NaN                  NaN        NaN        NaN        NaN   \n\n     Symptom_13 Symptom_14 Symptom_15 Symptom_16 Symptom_17  \n2049        NaN        NaN        NaN        NaN        NaN  \n4558        NaN        NaN        NaN        NaN        NaN  \n2858        NaN        NaN        NaN        NaN        NaN  \n3277        NaN        NaN        NaN        NaN        NaN  \n977         NaN        NaN        NaN        NaN        NaN  ",
            "text/html": "<div>\n<style scoped>\n    .dataframe tbody tr th:only-of-type {\n        vertical-align: middle;\n    }\n\n    .dataframe tbody tr th {\n        vertical-align: top;\n    }\n\n    .dataframe thead th {\n        text-align: right;\n    }\n</style>\n<table border=\"1\" class=\"dataframe\">\n  <thead>\n    <tr style=\"text-align: right;\">\n      <th></th>\n      <th>Disease</th>\n      <th>Symptom_1</th>\n      <th>Symptom_2</th>\n      <th>Symptom_3</th>\n      <th>Symptom_4</th>\n      <th>Symptom_5</th>\n      <th>Symptom_6</th>\n      <th>Symptom_7</th>\n      <th>Symptom_8</th>\n      <th>Symptom_9</th>\n      <th>Symptom_10</th>\n      <th>Symptom_11</th>\n      <th>Symptom_12</th>\n      <th>Symptom_13</th>\n      <th>Symptom_14</th>\n      <th>Symptom_15</th>\n      <th>Symptom_16</th>\n      <th>Symptom_17</th>\n    </tr>\n  </thead>\n  <tbody>\n    <tr>\n      <th>2049</th>\n      <td>Impetigo</td>\n      <td>skin_rash</td>\n      <td>blister</td>\n      <td>red_sore_around_nose</td>\n      <td>yellow_crust_ooze</td>\n      <td>NaN</td>\n      <td>NaN</td>\n      <td>NaN</td>\n      <td>NaN</td>\n      <td>NaN</td>\n      <td>NaN</td>\n      <td>NaN</td>\n      <td>NaN</td>\n      <td>NaN</td>\n      <td>NaN</td>\n      <td>NaN</td>\n      <td>NaN</td>\n      <td>NaN</td>\n    </tr>\n    <tr>\n      <th>4558</th>\n      <td>Diabetes</td>\n      <td>fatigue</td>\n      <td>weight_loss</td>\n      <td>restlessness</td>\n      <td>lethargy</td>\n      <td>irregular_sugar_level</td>\n      <td>blurred_and_distorted_vision</td>\n      <td>obesity</td>\n      <td>excessive_hunger</td>\n      <td>increased_appetite</td>\n      <td>polyuria</td>\n      <td>NaN</td>\n      <td>NaN</td>\n      <td>NaN</td>\n      <td>NaN</td>\n      <td>NaN</td>\n      <td>NaN</td>\n      <td>NaN</td>\n    </tr>\n    <tr>\n      <th>2858</th>\n      <td>Heart attack</td>\n      <td>vomiting</td>\n      <td>breathlessness</td>\n      <td>sweating</td>\n      <td>chest_pain</td>\n      <td>NaN</td>\n      <td>NaN</td>\n      <td>NaN</td>\n      <td>NaN</td>\n      <td>NaN</td>\n      <td>NaN</td>\n      <td>NaN</td>\n      <td>NaN</td>\n      <td>NaN</td>\n      <td>NaN</td>\n      <td>NaN</td>\n      <td>NaN</td>\n      <td>NaN</td>\n    </tr>\n    <tr>\n      <th>3277</th>\n      <td>Urinary tract infection</td>\n      <td>burning_micturition</td>\n      <td>bladder_discomfort</td>\n      <td>foul_smell_of urine</td>\n      <td>continuous_feel_of_urine</td>\n      <td>NaN</td>\n      <td>NaN</td>\n      <td>NaN</td>\n      <td>NaN</td>\n      <td>NaN</td>\n      <td>NaN</td>\n      <td>NaN</td>\n      <td>NaN</td>\n      <td>NaN</td>\n      <td>NaN</td>\n      <td>NaN</td>\n      <td>NaN</td>\n      <td>NaN</td>\n    </tr>\n    <tr>\n      <th>977</th>\n      <td>Malaria</td>\n      <td>chills</td>\n      <td>vomiting</td>\n      <td>high_fever</td>\n      <td>sweating</td>\n      <td>nausea</td>\n      <td>diarrhoea</td>\n      <td>muscle_pain</td>\n      <td>NaN</td>\n      <td>NaN</td>\n      <td>NaN</td>\n      <td>NaN</td>\n      <td>NaN</td>\n      <td>NaN</td>\n      <td>NaN</td>\n      <td>NaN</td>\n      <td>NaN</td>\n      <td>NaN</td>\n    </tr>\n  </tbody>\n</table>\n</div>"
          },
          "metadata": {}
        }
      ]
    },
    {
      "cell_type": "code",
      "source": [
        "main_data.shape"
      ],
      "metadata": {
        "execution": {
          "iopub.status.busy": "2024-06-18T04:26:42.826892Z",
          "iopub.execute_input": "2024-06-18T04:26:42.827147Z",
          "iopub.status.idle": "2024-06-18T04:26:42.835549Z",
          "shell.execute_reply.started": "2024-06-18T04:26:42.827125Z",
          "shell.execute_reply": "2024-06-18T04:26:42.834603Z"
        },
        "trusted": true,
        "id": "mOdA6RYlmw3u",
        "outputId": "488f6629-c65a-4696-f32f-4bfdb946c8b2"
      },
      "execution_count": null,
      "outputs": [
        {
          "execution_count": 9,
          "output_type": "execute_result",
          "data": {
            "text/plain": "(4920, 18)"
          },
          "metadata": {}
        }
      ]
    },
    {
      "cell_type": "markdown",
      "source": [
        "## Balance Check"
      ],
      "metadata": {
        "id": "DTLjaFuPmw3v"
      }
    },
    {
      "cell_type": "code",
      "source": [
        "main_data.Disease.value_counts()"
      ],
      "metadata": {
        "execution": {
          "iopub.status.busy": "2024-06-18T04:26:42.839055Z",
          "iopub.execute_input": "2024-06-18T04:26:42.839313Z",
          "iopub.status.idle": "2024-06-18T04:26:42.850797Z",
          "shell.execute_reply.started": "2024-06-18T04:26:42.839283Z",
          "shell.execute_reply": "2024-06-18T04:26:42.849928Z"
        },
        "trusted": true,
        "id": "K-OxLlM1mw3v",
        "outputId": "5304cda2-f91b-4df9-a7f8-cb54d39ee78f"
      },
      "execution_count": null,
      "outputs": [
        {
          "execution_count": 10,
          "output_type": "execute_result",
          "data": {
            "text/plain": "Disease\nFungal infection                           120\nAllergy                                    120\nGERD                                       120\nChronic cholestasis                        120\nDrug Reaction                              120\nPeptic ulcer diseae                        120\nAIDS                                       120\nDiabetes                                   120\nGastroenteritis                            120\nBronchial Asthma                           120\nHypertension                               120\nMigraine                                   120\nCervical spondylosis                       120\nParalysis (brain hemorrhage)               120\nJaundice                                   120\nMalaria                                    120\nChicken pox                                120\nDengue                                     120\nTyphoid                                    120\nhepatitis A                                120\nHepatitis B                                120\nHepatitis C                                120\nHepatitis D                                120\nHepatitis E                                120\nAlcoholic hepatitis                        120\nTuberculosis                               120\nCommon Cold                                120\nPneumonia                                  120\nDimorphic hemmorhoids(piles)               120\nHeart attack                               120\nVaricose veins                             120\nHypothyroidism                             120\nHyperthyroidism                            120\nHypoglycemia                               120\nOsteoarthristis                            120\nArthritis                                  120\n(vertigo) Paroymsal  Positional Vertigo    120\nAcne                                       120\nUrinary tract infection                    120\nPsoriasis                                  120\nImpetigo                                   120\nName: count, dtype: int64"
          },
          "metadata": {}
        }
      ]
    },
    {
      "cell_type": "markdown",
      "source": [
        "# One Hot Encoding"
      ],
      "metadata": {
        "id": "_oHISFvImw3v"
      }
    },
    {
      "cell_type": "code",
      "source": [
        "main_data.head()"
      ],
      "metadata": {
        "execution": {
          "iopub.status.busy": "2024-06-18T04:26:42.851922Z",
          "iopub.execute_input": "2024-06-18T04:26:42.852254Z",
          "iopub.status.idle": "2024-06-18T04:26:42.870636Z",
          "shell.execute_reply.started": "2024-06-18T04:26:42.852225Z",
          "shell.execute_reply": "2024-06-18T04:26:42.869807Z"
        },
        "trusted": true,
        "id": "M56s-fsamw3v",
        "outputId": "c138596c-26d1-4dc0-f7ba-75d34cf0af62"
      },
      "execution_count": null,
      "outputs": [
        {
          "execution_count": 11,
          "output_type": "execute_result",
          "data": {
            "text/plain": "            Disease   Symptom_1              Symptom_2              Symptom_3  \\\n0  Fungal infection     itching              skin_rash   nodal_skin_eruptions   \n1  Fungal infection   skin_rash   nodal_skin_eruptions    dischromic _patches   \n2  Fungal infection     itching   nodal_skin_eruptions    dischromic _patches   \n3  Fungal infection     itching              skin_rash    dischromic _patches   \n4  Fungal infection     itching              skin_rash   nodal_skin_eruptions   \n\n              Symptom_4 Symptom_5 Symptom_6 Symptom_7 Symptom_8 Symptom_9  \\\n0   dischromic _patches       NaN       NaN       NaN       NaN       NaN   \n1                   NaN       NaN       NaN       NaN       NaN       NaN   \n2                   NaN       NaN       NaN       NaN       NaN       NaN   \n3                   NaN       NaN       NaN       NaN       NaN       NaN   \n4                   NaN       NaN       NaN       NaN       NaN       NaN   \n\n  Symptom_10 Symptom_11 Symptom_12 Symptom_13 Symptom_14 Symptom_15  \\\n0        NaN        NaN        NaN        NaN        NaN        NaN   \n1        NaN        NaN        NaN        NaN        NaN        NaN   \n2        NaN        NaN        NaN        NaN        NaN        NaN   \n3        NaN        NaN        NaN        NaN        NaN        NaN   \n4        NaN        NaN        NaN        NaN        NaN        NaN   \n\n  Symptom_16 Symptom_17  \n0        NaN        NaN  \n1        NaN        NaN  \n2        NaN        NaN  \n3        NaN        NaN  \n4        NaN        NaN  ",
            "text/html": "<div>\n<style scoped>\n    .dataframe tbody tr th:only-of-type {\n        vertical-align: middle;\n    }\n\n    .dataframe tbody tr th {\n        vertical-align: top;\n    }\n\n    .dataframe thead th {\n        text-align: right;\n    }\n</style>\n<table border=\"1\" class=\"dataframe\">\n  <thead>\n    <tr style=\"text-align: right;\">\n      <th></th>\n      <th>Disease</th>\n      <th>Symptom_1</th>\n      <th>Symptom_2</th>\n      <th>Symptom_3</th>\n      <th>Symptom_4</th>\n      <th>Symptom_5</th>\n      <th>Symptom_6</th>\n      <th>Symptom_7</th>\n      <th>Symptom_8</th>\n      <th>Symptom_9</th>\n      <th>Symptom_10</th>\n      <th>Symptom_11</th>\n      <th>Symptom_12</th>\n      <th>Symptom_13</th>\n      <th>Symptom_14</th>\n      <th>Symptom_15</th>\n      <th>Symptom_16</th>\n      <th>Symptom_17</th>\n    </tr>\n  </thead>\n  <tbody>\n    <tr>\n      <th>0</th>\n      <td>Fungal infection</td>\n      <td>itching</td>\n      <td>skin_rash</td>\n      <td>nodal_skin_eruptions</td>\n      <td>dischromic _patches</td>\n      <td>NaN</td>\n      <td>NaN</td>\n      <td>NaN</td>\n      <td>NaN</td>\n      <td>NaN</td>\n      <td>NaN</td>\n      <td>NaN</td>\n      <td>NaN</td>\n      <td>NaN</td>\n      <td>NaN</td>\n      <td>NaN</td>\n      <td>NaN</td>\n      <td>NaN</td>\n    </tr>\n    <tr>\n      <th>1</th>\n      <td>Fungal infection</td>\n      <td>skin_rash</td>\n      <td>nodal_skin_eruptions</td>\n      <td>dischromic _patches</td>\n      <td>NaN</td>\n      <td>NaN</td>\n      <td>NaN</td>\n      <td>NaN</td>\n      <td>NaN</td>\n      <td>NaN</td>\n      <td>NaN</td>\n      <td>NaN</td>\n      <td>NaN</td>\n      <td>NaN</td>\n      <td>NaN</td>\n      <td>NaN</td>\n      <td>NaN</td>\n      <td>NaN</td>\n    </tr>\n    <tr>\n      <th>2</th>\n      <td>Fungal infection</td>\n      <td>itching</td>\n      <td>nodal_skin_eruptions</td>\n      <td>dischromic _patches</td>\n      <td>NaN</td>\n      <td>NaN</td>\n      <td>NaN</td>\n      <td>NaN</td>\n      <td>NaN</td>\n      <td>NaN</td>\n      <td>NaN</td>\n      <td>NaN</td>\n      <td>NaN</td>\n      <td>NaN</td>\n      <td>NaN</td>\n      <td>NaN</td>\n      <td>NaN</td>\n      <td>NaN</td>\n    </tr>\n    <tr>\n      <th>3</th>\n      <td>Fungal infection</td>\n      <td>itching</td>\n      <td>skin_rash</td>\n      <td>dischromic _patches</td>\n      <td>NaN</td>\n      <td>NaN</td>\n      <td>NaN</td>\n      <td>NaN</td>\n      <td>NaN</td>\n      <td>NaN</td>\n      <td>NaN</td>\n      <td>NaN</td>\n      <td>NaN</td>\n      <td>NaN</td>\n      <td>NaN</td>\n      <td>NaN</td>\n      <td>NaN</td>\n      <td>NaN</td>\n    </tr>\n    <tr>\n      <th>4</th>\n      <td>Fungal infection</td>\n      <td>itching</td>\n      <td>skin_rash</td>\n      <td>nodal_skin_eruptions</td>\n      <td>NaN</td>\n      <td>NaN</td>\n      <td>NaN</td>\n      <td>NaN</td>\n      <td>NaN</td>\n      <td>NaN</td>\n      <td>NaN</td>\n      <td>NaN</td>\n      <td>NaN</td>\n      <td>NaN</td>\n      <td>NaN</td>\n      <td>NaN</td>\n      <td>NaN</td>\n      <td>NaN</td>\n    </tr>\n  </tbody>\n</table>\n</div>"
          },
          "metadata": {}
        }
      ]
    },
    {
      "cell_type": "code",
      "source": [
        "df = main_data.copy() # As usual, taking a copy from that data incase we needed the original later\n",
        "# Combine all symptom columns into a single column\n",
        "df['All Symptoms'] = df.apply(lambda row: ','.join(row.dropna()), axis=1)\n",
        "# Drop duplicate symptoms within each cell\n",
        "df['All Symptoms'] = df['All Symptoms'].apply(lambda x: ','.join(sorted(set(x.split(','))) if x else ''))\n",
        "stay_cols= ['Disease', 'All Symptoms']\n",
        "df = df[stay_cols]\n",
        "df.head()"
      ],
      "metadata": {
        "execution": {
          "iopub.status.busy": "2024-06-18T04:26:42.871718Z",
          "iopub.execute_input": "2024-06-18T04:26:42.872464Z",
          "iopub.status.idle": "2024-06-18T04:26:43.333801Z",
          "shell.execute_reply.started": "2024-06-18T04:26:42.872429Z",
          "shell.execute_reply": "2024-06-18T04:26:43.33295Z"
        },
        "trusted": true,
        "id": "cE36YOUvmw3v",
        "outputId": "cfa6f582-b616-4baf-8cd9-2abbaa3dbf7e"
      },
      "execution_count": null,
      "outputs": [
        {
          "execution_count": 12,
          "output_type": "execute_result",
          "data": {
            "text/plain": "            Disease                                       All Symptoms\n0  Fungal infection   dischromic _patches, nodal_skin_eruptions, sk...\n1  Fungal infection   dischromic _patches, nodal_skin_eruptions, sk...\n2  Fungal infection   dischromic _patches, nodal_skin_eruptions,Fun...\n3  Fungal infection   dischromic _patches, skin_rash,Fungal infecti...\n4  Fungal infection   nodal_skin_eruptions, skin_rash,Fungal infect...",
            "text/html": "<div>\n<style scoped>\n    .dataframe tbody tr th:only-of-type {\n        vertical-align: middle;\n    }\n\n    .dataframe tbody tr th {\n        vertical-align: top;\n    }\n\n    .dataframe thead th {\n        text-align: right;\n    }\n</style>\n<table border=\"1\" class=\"dataframe\">\n  <thead>\n    <tr style=\"text-align: right;\">\n      <th></th>\n      <th>Disease</th>\n      <th>All Symptoms</th>\n    </tr>\n  </thead>\n  <tbody>\n    <tr>\n      <th>0</th>\n      <td>Fungal infection</td>\n      <td>dischromic _patches, nodal_skin_eruptions, sk...</td>\n    </tr>\n    <tr>\n      <th>1</th>\n      <td>Fungal infection</td>\n      <td>dischromic _patches, nodal_skin_eruptions, sk...</td>\n    </tr>\n    <tr>\n      <th>2</th>\n      <td>Fungal infection</td>\n      <td>dischromic _patches, nodal_skin_eruptions,Fun...</td>\n    </tr>\n    <tr>\n      <th>3</th>\n      <td>Fungal infection</td>\n      <td>dischromic _patches, skin_rash,Fungal infecti...</td>\n    </tr>\n    <tr>\n      <th>4</th>\n      <td>Fungal infection</td>\n      <td>nodal_skin_eruptions, skin_rash,Fungal infect...</td>\n    </tr>\n  </tbody>\n</table>\n</div>"
          },
          "metadata": {}
        }
      ]
    },
    {
      "cell_type": "code",
      "source": [
        "df['All Symptoms'][0]"
      ],
      "metadata": {
        "execution": {
          "iopub.status.busy": "2024-06-18T04:26:43.334989Z",
          "iopub.execute_input": "2024-06-18T04:26:43.33533Z",
          "iopub.status.idle": "2024-06-18T04:26:43.340963Z",
          "shell.execute_reply.started": "2024-06-18T04:26:43.335297Z",
          "shell.execute_reply": "2024-06-18T04:26:43.340124Z"
        },
        "trusted": true,
        "id": "r1eskYk-mw3v",
        "outputId": "c378479f-5cb6-46ba-b875-87902269dcd9"
      },
      "execution_count": null,
      "outputs": [
        {
          "execution_count": 13,
          "output_type": "execute_result",
          "data": {
            "text/plain": "' dischromic _patches, nodal_skin_eruptions, skin_rash,Fungal infection,itching'"
          },
          "metadata": {}
        }
      ]
    },
    {
      "cell_type": "markdown",
      "source": [
        "## Clear Data"
      ],
      "metadata": {
        "id": "anOSm12-mw3w"
      }
    },
    {
      "cell_type": "code",
      "source": [
        "def strip_to_basic_tokens(text):\n",
        "    # Remove doble spaces and underscores\n",
        "    text = re.sub(r'[_\\s]+', ' ', text)\n",
        "    # Split by commas and lowercase the tokens\n",
        "    tokens = [token.strip().lower() for token in text.split(',')]\n",
        "    return tokens\n",
        "\n",
        "# Apply the function to 'All Symptoms' column\n",
        "df['Basic Tokens'] = df['All Symptoms'].apply(strip_to_basic_tokens)\n",
        "df['Basic Tokens'] = df['Basic Tokens'].apply(lambda x: ', '.join(x))\n",
        "df = df.drop(['All Symptoms'], axis = 1)\n",
        "df.head()"
      ],
      "metadata": {
        "execution": {
          "iopub.status.busy": "2024-06-18T04:26:43.342268Z",
          "iopub.execute_input": "2024-06-18T04:26:43.342685Z",
          "iopub.status.idle": "2024-06-18T04:26:43.496083Z",
          "shell.execute_reply.started": "2024-06-18T04:26:43.342656Z",
          "shell.execute_reply": "2024-06-18T04:26:43.495284Z"
        },
        "trusted": true,
        "id": "9AK3im9Pmw3w",
        "outputId": "66ea57bf-442a-4834-fa5d-dd3ce7f7d33f"
      },
      "execution_count": null,
      "outputs": [
        {
          "execution_count": 14,
          "output_type": "execute_result",
          "data": {
            "text/plain": "            Disease                                       Basic Tokens\n0  Fungal infection  dischromic patches, nodal skin eruptions, skin...\n1  Fungal infection  dischromic patches, nodal skin eruptions, skin...\n2  Fungal infection  dischromic patches, nodal skin eruptions, fung...\n3  Fungal infection  dischromic patches, skin rash, fungal infectio...\n4  Fungal infection  nodal skin eruptions, skin rash, fungal infect...",
            "text/html": "<div>\n<style scoped>\n    .dataframe tbody tr th:only-of-type {\n        vertical-align: middle;\n    }\n\n    .dataframe tbody tr th {\n        vertical-align: top;\n    }\n\n    .dataframe thead th {\n        text-align: right;\n    }\n</style>\n<table border=\"1\" class=\"dataframe\">\n  <thead>\n    <tr style=\"text-align: right;\">\n      <th></th>\n      <th>Disease</th>\n      <th>Basic Tokens</th>\n    </tr>\n  </thead>\n  <tbody>\n    <tr>\n      <th>0</th>\n      <td>Fungal infection</td>\n      <td>dischromic patches, nodal skin eruptions, skin...</td>\n    </tr>\n    <tr>\n      <th>1</th>\n      <td>Fungal infection</td>\n      <td>dischromic patches, nodal skin eruptions, skin...</td>\n    </tr>\n    <tr>\n      <th>2</th>\n      <td>Fungal infection</td>\n      <td>dischromic patches, nodal skin eruptions, fung...</td>\n    </tr>\n    <tr>\n      <th>3</th>\n      <td>Fungal infection</td>\n      <td>dischromic patches, skin rash, fungal infectio...</td>\n    </tr>\n    <tr>\n      <th>4</th>\n      <td>Fungal infection</td>\n      <td>nodal skin eruptions, skin rash, fungal infect...</td>\n    </tr>\n  </tbody>\n</table>\n</div>"
          },
          "metadata": {}
        }
      ]
    },
    {
      "cell_type": "code",
      "source": [
        "df['Basic Tokens'][0]"
      ],
      "metadata": {
        "execution": {
          "iopub.status.busy": "2024-06-18T04:26:43.497112Z",
          "iopub.execute_input": "2024-06-18T04:26:43.497373Z",
          "iopub.status.idle": "2024-06-18T04:26:43.502632Z",
          "shell.execute_reply.started": "2024-06-18T04:26:43.49735Z",
          "shell.execute_reply": "2024-06-18T04:26:43.501763Z"
        },
        "trusted": true,
        "id": "-cQy_PjKmw3w",
        "outputId": "746b3c5c-3b94-49a3-837a-725a289cec68"
      },
      "execution_count": null,
      "outputs": [
        {
          "execution_count": 15,
          "output_type": "execute_result",
          "data": {
            "text/plain": "'dischromic patches, nodal skin eruptions, skin rash, fungal infection, itching'"
          },
          "metadata": {}
        }
      ]
    },
    {
      "cell_type": "markdown",
      "source": [
        "### One-Hot-Encode\" using Multi-Label Binarizer"
      ],
      "metadata": {
        "id": "ZYntJHq2mw3w"
      }
    },
    {
      "cell_type": "code",
      "source": [
        "dfE = df.copy() # Taking a copy because we never know what might happen\n",
        "dfE['Basic Tokens'] = dfE['Basic Tokens'].apply(lambda x: x.split(', '))\n",
        "\n",
        "mlb = MultiLabelBinarizer()\n",
        "# Fit and transform the 'Basic Tokens' column\n",
        "one_hot_encoded = pd.DataFrame(mlb.fit_transform(dfE['Basic Tokens']), columns=mlb.classes_, index=df.index)\n",
        "\n",
        "# Concatenate the one-hot encoded DataFrame with the original DataFrame\n",
        "df_encoded = pd.concat([dfE, one_hot_encoded], axis=1)\n",
        "\n",
        "# Drop the 'Basic Tokens' column\n",
        "df_encoded = df_encoded.drop(columns=['Basic Tokens'])\n",
        "df_encoded.head()"
      ],
      "metadata": {
        "execution": {
          "iopub.status.busy": "2024-06-18T04:26:43.503957Z",
          "iopub.execute_input": "2024-06-18T04:26:43.504273Z",
          "iopub.status.idle": "2024-06-18T04:26:43.61093Z",
          "shell.execute_reply.started": "2024-06-18T04:26:43.504243Z",
          "shell.execute_reply": "2024-06-18T04:26:43.610097Z"
        },
        "trusted": true,
        "id": "11px82SFmw3w",
        "outputId": "26462ff6-5e98-4cd8-d010-d1e88a6c8510"
      },
      "execution_count": null,
      "outputs": [
        {
          "execution_count": 16,
          "output_type": "execute_result",
          "data": {
            "text/plain": "            Disease  (vertigo) paroymsal positional vertigo  abdominal pain  \\\n0  Fungal infection                                       0               0   \n1  Fungal infection                                       0               0   \n2  Fungal infection                                       0               0   \n3  Fungal infection                                       0               0   \n4  Fungal infection                                       0               0   \n\n   abnormal menstruation  acidity  acne  acute liver failure  aids  \\\n0                      0        0     0                    0     0   \n1                      0        0     0                    0     0   \n2                      0        0     0                    0     0   \n3                      0        0     0                    0     0   \n4                      0        0     0                    0     0   \n\n   alcoholic hepatitis  allergy  altered sensorium  anxiety  arthritis  \\\n0                    0        0                  0        0          0   \n1                    0        0                  0        0          0   \n2                    0        0                  0        0          0   \n3                    0        0                  0        0          0   \n4                    0        0                  0        0          0   \n\n   back pain  belly pain  blackheads  bladder discomfort  blister  \\\n0          0           0           0                   0        0   \n1          0           0           0                   0        0   \n2          0           0           0                   0        0   \n3          0           0           0                   0        0   \n4          0           0           0                   0        0   \n\n   blood in sputum  bloody stool  blurred and distorted vision  \\\n0                0             0                             0   \n1                0             0                             0   \n2                0             0                             0   \n3                0             0                             0   \n4                0             0                             0   \n\n   breathlessness  brittle nails  bronchial asthma  bruising  \\\n0               0              0                 0         0   \n1               0              0                 0         0   \n2               0              0                 0         0   \n3               0              0                 0         0   \n4               0              0                 0         0   \n\n   burning micturition  cervical spondylosis  chest pain  chicken pox  chills  \\\n0                    0                     0           0            0       0   \n1                    0                     0           0            0       0   \n2                    0                     0           0            0       0   \n3                    0                     0           0            0       0   \n4                    0                     0           0            0       0   \n\n   chronic cholestasis  cold hands and feets  coma  common cold  congestion  \\\n0                    0                     0     0            0           0   \n1                    0                     0     0            0           0   \n2                    0                     0     0            0           0   \n3                    0                     0     0            0           0   \n4                    0                     0     0            0           0   \n\n   constipation  continuous feel of urine  continuous sneezing  cough  cramps  \\\n0             0                         0                    0      0       0   \n1             0                         0                    0      0       0   \n2             0                         0                    0      0       0   \n3             0                         0                    0      0       0   \n4             0                         0                    0      0       0   \n\n   dark urine  dehydration  dengue  depression  diabetes  diarrhoea  \\\n0           0            0       0           0         0          0   \n1           0            0       0           0         0          0   \n2           0            0       0           0         0          0   \n3           0            0       0           0         0          0   \n4           0            0       0           0         0          0   \n\n   dimorphic hemmorhoids(piles)  dischromic patches  distention of abdomen  \\\n0                             0                   1                      0   \n1                             0                   1                      0   \n2                             0                   1                      0   \n3                             0                   1                      0   \n4                             0                   0                      0   \n\n   dizziness  drug reaction  drying and tingling lips  enlarged thyroid  \\\n0          0              0                         0                 0   \n1          0              0                         0                 0   \n2          0              0                         0                 0   \n3          0              0                         0                 0   \n4          0              0                         0                 0   \n\n   excessive hunger  extra marital contacts  family history  fast heart rate  \\\n0                 0                       0               0                0   \n1                 0                       0               0                0   \n2                 0                       0               0                0   \n3                 0                       0               0                0   \n4                 0                       0               0                0   \n\n   fatigue  fluid overload  foul smell of urine  fungal infection  \\\n0        0               0                    0                 1   \n1        0               0                    0                 1   \n2        0               0                    0                 1   \n3        0               0                    0                 1   \n4        0               0                    0                 1   \n\n   gastroenteritis  gerd  headache  heart attack  hepatitis a  hepatitis b  \\\n0                0     0         0             0            0            0   \n1                0     0         0             0            0            0   \n2                0     0         0             0            0            0   \n3                0     0         0             0            0            0   \n4                0     0         0             0            0            0   \n\n   hepatitis c  hepatitis d  hepatitis e  high fever  hip joint pain  \\\n0            0            0            0           0               0   \n1            0            0            0           0               0   \n2            0            0            0           0               0   \n3            0            0            0           0               0   \n4            0            0            0           0               0   \n\n   history of alcohol consumption  hypertension  hyperthyroidism  \\\n0                               0             0                0   \n1                               0             0                0   \n2                               0             0                0   \n3                               0             0                0   \n4                               0             0                0   \n\n   hypoglycemia  hypothyroidism  impetigo  increased appetite  indigestion  \\\n0             0               0         0                   0            0   \n1             0               0         0                   0            0   \n2             0               0         0                   0            0   \n3             0               0         0                   0            0   \n4             0               0         0                   0            0   \n\n   inflammatory nails  internal itching  irregular sugar level  irritability  \\\n0                   0                 0                      0             0   \n1                   0                 0                      0             0   \n2                   0                 0                      0             0   \n3                   0                 0                      0             0   \n4                   0                 0                      0             0   \n\n   irritation in anus  itching  jaundice  joint pain  knee pain  \\\n0                   0        1         0           0          0   \n1                   0        0         0           0          0   \n2                   0        1         0           0          0   \n3                   0        1         0           0          0   \n4                   0        1         0           0          0   \n\n   lack of concentration  lethargy  loss of appetite  loss of balance  \\\n0                      0         0                 0                0   \n1                      0         0                 0                0   \n2                      0         0                 0                0   \n3                      0         0                 0                0   \n4                      0         0                 0                0   \n\n   loss of smell  malaise  malaria  migraine  mild fever  mood swings  \\\n0              0        0        0         0           0            0   \n1              0        0        0         0           0            0   \n2              0        0        0         0           0            0   \n3              0        0        0         0           0            0   \n4              0        0        0         0           0            0   \n\n   movement stiffness  mucoid sputum  muscle pain  muscle wasting  \\\n0                   0              0            0               0   \n1                   0              0            0               0   \n2                   0              0            0               0   \n3                   0              0            0               0   \n4                   0              0            0               0   \n\n   muscle weakness  nausea  neck pain  nodal skin eruptions  obesity  \\\n0                0       0          0                     1        0   \n1                0       0          0                     1        0   \n2                0       0          0                     1        0   \n3                0       0          0                     0        0   \n4                0       0          0                     1        0   \n\n   osteoarthristis  pain behind the eyes  pain during bowel movements  \\\n0                0                     0                            0   \n1                0                     0                            0   \n2                0                     0                            0   \n3                0                     0                            0   \n4                0                     0                            0   \n\n   pain in anal region  painful walking  palpitations  \\\n0                    0                0             0   \n1                    0                0             0   \n2                    0                0             0   \n3                    0                0             0   \n4                    0                0             0   \n\n   paralysis (brain hemorrhage)  passage of gases  patches in throat  \\\n0                             0                 0                  0   \n1                             0                 0                  0   \n2                             0                 0                  0   \n3                             0                 0                  0   \n4                             0                 0                  0   \n\n   peptic ulcer diseae  phlegm  pneumonia  polyuria  prominent veins on calf  \\\n0                    0       0          0         0                        0   \n1                    0       0          0         0                        0   \n2                    0       0          0         0                        0   \n3                    0       0          0         0                        0   \n4                    0       0          0         0                        0   \n\n   psoriasis  puffy face and eyes  pus filled pimples  \\\n0          0                    0                   0   \n1          0                    0                   0   \n2          0                    0                   0   \n3          0                    0                   0   \n4          0                    0                   0   \n\n   receiving blood transfusion  receiving unsterile injections  \\\n0                            0                               0   \n1                            0                               0   \n2                            0                               0   \n3                            0                               0   \n4                            0                               0   \n\n   red sore around nose  red spots over body  redness of eyes  restlessness  \\\n0                     0                    0                0             0   \n1                     0                    0                0             0   \n2                     0                    0                0             0   \n3                     0                    0                0             0   \n4                     0                    0                0             0   \n\n   runny nose  rusty sputum  scurring  shivering  silver like dusting  \\\n0           0             0         0          0                    0   \n1           0             0         0          0                    0   \n2           0             0         0          0                    0   \n3           0             0         0          0                    0   \n4           0             0         0          0                    0   \n\n   sinus pressure  skin peeling  skin rash  slurred speech  \\\n0               0             0          1               0   \n1               0             0          1               0   \n2               0             0          0               0   \n3               0             0          1               0   \n4               0             0          1               0   \n\n   small dents in nails  spinning movements  spotting urination  stiff neck  \\\n0                     0                   0                   0           0   \n1                     0                   0                   0           0   \n2                     0                   0                   0           0   \n3                     0                   0                   0           0   \n4                     0                   0                   0           0   \n\n   stomach bleeding  stomach pain  sunken eyes  sweating  swelled lymph nodes  \\\n0                 0             0            0         0                    0   \n1                 0             0            0         0                    0   \n2                 0             0            0         0                    0   \n3                 0             0            0         0                    0   \n4                 0             0            0         0                    0   \n\n   swelling joints  swelling of stomach  swollen blood vessels  \\\n0                0                    0                      0   \n1                0                    0                      0   \n2                0                    0                      0   \n3                0                    0                      0   \n4                0                    0                      0   \n\n   swollen extremeties  swollen legs  throat irritation  toxic look (typhos)  \\\n0                    0             0                  0                    0   \n1                    0             0                  0                    0   \n2                    0             0                  0                    0   \n3                    0             0                  0                    0   \n4                    0             0                  0                    0   \n\n   tuberculosis  typhoid  ulcers on tongue  unsteadiness  \\\n0             0        0                 0             0   \n1             0        0                 0             0   \n2             0        0                 0             0   \n3             0        0                 0             0   \n4             0        0                 0             0   \n\n   urinary tract infection  varicose veins  visual disturbances  vomiting  \\\n0                        0               0                    0         0   \n1                        0               0                    0         0   \n2                        0               0                    0         0   \n3                        0               0                    0         0   \n4                        0               0                    0         0   \n\n   watering from eyes  weakness in limbs  weakness of one body side  \\\n0                   0                  0                          0   \n1                   0                  0                          0   \n2                   0                  0                          0   \n3                   0                  0                          0   \n4                   0                  0                          0   \n\n   weight gain  weight loss  yellow crust ooze  yellow urine  \\\n0            0            0                  0             0   \n1            0            0                  0             0   \n2            0            0                  0             0   \n3            0            0                  0             0   \n4            0            0                  0             0   \n\n   yellowing of eyes  yellowish skin  \n0                  0               0  \n1                  0               0  \n2                  0               0  \n3                  0               0  \n4                  0               0  ",
            "text/html": "<div>\n<style scoped>\n    .dataframe tbody tr th:only-of-type {\n        vertical-align: middle;\n    }\n\n    .dataframe tbody tr th {\n        vertical-align: top;\n    }\n\n    .dataframe thead th {\n        text-align: right;\n    }\n</style>\n<table border=\"1\" class=\"dataframe\">\n  <thead>\n    <tr style=\"text-align: right;\">\n      <th></th>\n      <th>Disease</th>\n      <th>(vertigo) paroymsal positional vertigo</th>\n      <th>abdominal pain</th>\n      <th>abnormal menstruation</th>\n      <th>acidity</th>\n      <th>acne</th>\n      <th>acute liver failure</th>\n      <th>aids</th>\n      <th>alcoholic hepatitis</th>\n      <th>allergy</th>\n      <th>altered sensorium</th>\n      <th>anxiety</th>\n      <th>arthritis</th>\n      <th>back pain</th>\n      <th>belly pain</th>\n      <th>blackheads</th>\n      <th>bladder discomfort</th>\n      <th>blister</th>\n      <th>blood in sputum</th>\n      <th>bloody stool</th>\n      <th>blurred and distorted vision</th>\n      <th>breathlessness</th>\n      <th>brittle nails</th>\n      <th>bronchial asthma</th>\n      <th>bruising</th>\n      <th>burning micturition</th>\n      <th>cervical spondylosis</th>\n      <th>chest pain</th>\n      <th>chicken pox</th>\n      <th>chills</th>\n      <th>chronic cholestasis</th>\n      <th>cold hands and feets</th>\n      <th>coma</th>\n      <th>common cold</th>\n      <th>congestion</th>\n      <th>constipation</th>\n      <th>continuous feel of urine</th>\n      <th>continuous sneezing</th>\n      <th>cough</th>\n      <th>cramps</th>\n      <th>dark urine</th>\n      <th>dehydration</th>\n      <th>dengue</th>\n      <th>depression</th>\n      <th>diabetes</th>\n      <th>diarrhoea</th>\n      <th>dimorphic hemmorhoids(piles)</th>\n      <th>dischromic patches</th>\n      <th>distention of abdomen</th>\n      <th>dizziness</th>\n      <th>drug reaction</th>\n      <th>drying and tingling lips</th>\n      <th>enlarged thyroid</th>\n      <th>excessive hunger</th>\n      <th>extra marital contacts</th>\n      <th>family history</th>\n      <th>fast heart rate</th>\n      <th>fatigue</th>\n      <th>fluid overload</th>\n      <th>foul smell of urine</th>\n      <th>fungal infection</th>\n      <th>gastroenteritis</th>\n      <th>gerd</th>\n      <th>headache</th>\n      <th>heart attack</th>\n      <th>hepatitis a</th>\n      <th>hepatitis b</th>\n      <th>hepatitis c</th>\n      <th>hepatitis d</th>\n      <th>hepatitis e</th>\n      <th>high fever</th>\n      <th>hip joint pain</th>\n      <th>history of alcohol consumption</th>\n      <th>hypertension</th>\n      <th>hyperthyroidism</th>\n      <th>hypoglycemia</th>\n      <th>hypothyroidism</th>\n      <th>impetigo</th>\n      <th>increased appetite</th>\n      <th>indigestion</th>\n      <th>inflammatory nails</th>\n      <th>internal itching</th>\n      <th>irregular sugar level</th>\n      <th>irritability</th>\n      <th>irritation in anus</th>\n      <th>itching</th>\n      <th>jaundice</th>\n      <th>joint pain</th>\n      <th>knee pain</th>\n      <th>lack of concentration</th>\n      <th>lethargy</th>\n      <th>loss of appetite</th>\n      <th>loss of balance</th>\n      <th>loss of smell</th>\n      <th>malaise</th>\n      <th>malaria</th>\n      <th>migraine</th>\n      <th>mild fever</th>\n      <th>mood swings</th>\n      <th>movement stiffness</th>\n      <th>mucoid sputum</th>\n      <th>muscle pain</th>\n      <th>muscle wasting</th>\n      <th>muscle weakness</th>\n      <th>nausea</th>\n      <th>neck pain</th>\n      <th>nodal skin eruptions</th>\n      <th>obesity</th>\n      <th>osteoarthristis</th>\n      <th>pain behind the eyes</th>\n      <th>pain during bowel movements</th>\n      <th>pain in anal region</th>\n      <th>painful walking</th>\n      <th>palpitations</th>\n      <th>paralysis (brain hemorrhage)</th>\n      <th>passage of gases</th>\n      <th>patches in throat</th>\n      <th>peptic ulcer diseae</th>\n      <th>phlegm</th>\n      <th>pneumonia</th>\n      <th>polyuria</th>\n      <th>prominent veins on calf</th>\n      <th>psoriasis</th>\n      <th>puffy face and eyes</th>\n      <th>pus filled pimples</th>\n      <th>receiving blood transfusion</th>\n      <th>receiving unsterile injections</th>\n      <th>red sore around nose</th>\n      <th>red spots over body</th>\n      <th>redness of eyes</th>\n      <th>restlessness</th>\n      <th>runny nose</th>\n      <th>rusty sputum</th>\n      <th>scurring</th>\n      <th>shivering</th>\n      <th>silver like dusting</th>\n      <th>sinus pressure</th>\n      <th>skin peeling</th>\n      <th>skin rash</th>\n      <th>slurred speech</th>\n      <th>small dents in nails</th>\n      <th>spinning movements</th>\n      <th>spotting urination</th>\n      <th>stiff neck</th>\n      <th>stomach bleeding</th>\n      <th>stomach pain</th>\n      <th>sunken eyes</th>\n      <th>sweating</th>\n      <th>swelled lymph nodes</th>\n      <th>swelling joints</th>\n      <th>swelling of stomach</th>\n      <th>swollen blood vessels</th>\n      <th>swollen extremeties</th>\n      <th>swollen legs</th>\n      <th>throat irritation</th>\n      <th>toxic look (typhos)</th>\n      <th>tuberculosis</th>\n      <th>typhoid</th>\n      <th>ulcers on tongue</th>\n      <th>unsteadiness</th>\n      <th>urinary tract infection</th>\n      <th>varicose veins</th>\n      <th>visual disturbances</th>\n      <th>vomiting</th>\n      <th>watering from eyes</th>\n      <th>weakness in limbs</th>\n      <th>weakness of one body side</th>\n      <th>weight gain</th>\n      <th>weight loss</th>\n      <th>yellow crust ooze</th>\n      <th>yellow urine</th>\n      <th>yellowing of eyes</th>\n      <th>yellowish skin</th>\n    </tr>\n  </thead>\n  <tbody>\n    <tr>\n      <th>0</th>\n      <td>Fungal infection</td>\n      <td>0</td>\n      <td>0</td>\n      <td>0</td>\n      <td>0</td>\n      <td>0</td>\n      <td>0</td>\n      <td>0</td>\n      <td>0</td>\n      <td>0</td>\n      <td>0</td>\n      <td>0</td>\n      <td>0</td>\n      <td>0</td>\n      <td>0</td>\n      <td>0</td>\n      <td>0</td>\n      <td>0</td>\n      <td>0</td>\n      <td>0</td>\n      <td>0</td>\n      <td>0</td>\n      <td>0</td>\n      <td>0</td>\n      <td>0</td>\n      <td>0</td>\n      <td>0</td>\n      <td>0</td>\n      <td>0</td>\n      <td>0</td>\n      <td>0</td>\n      <td>0</td>\n      <td>0</td>\n      <td>0</td>\n      <td>0</td>\n      <td>0</td>\n      <td>0</td>\n      <td>0</td>\n      <td>0</td>\n      <td>0</td>\n      <td>0</td>\n      <td>0</td>\n      <td>0</td>\n      <td>0</td>\n      <td>0</td>\n      <td>0</td>\n      <td>0</td>\n      <td>1</td>\n      <td>0</td>\n      <td>0</td>\n      <td>0</td>\n      <td>0</td>\n      <td>0</td>\n      <td>0</td>\n      <td>0</td>\n      <td>0</td>\n      <td>0</td>\n      <td>0</td>\n      <td>0</td>\n      <td>0</td>\n      <td>1</td>\n      <td>0</td>\n      <td>0</td>\n      <td>0</td>\n      <td>0</td>\n      <td>0</td>\n      <td>0</td>\n      <td>0</td>\n      <td>0</td>\n      <td>0</td>\n      <td>0</td>\n      <td>0</td>\n      <td>0</td>\n      <td>0</td>\n      <td>0</td>\n      <td>0</td>\n      <td>0</td>\n      <td>0</td>\n      <td>0</td>\n      <td>0</td>\n      <td>0</td>\n      <td>0</td>\n      <td>0</td>\n      <td>0</td>\n      <td>0</td>\n      <td>1</td>\n      <td>0</td>\n      <td>0</td>\n      <td>0</td>\n      <td>0</td>\n      <td>0</td>\n      <td>0</td>\n      <td>0</td>\n      <td>0</td>\n      <td>0</td>\n      <td>0</td>\n      <td>0</td>\n      <td>0</td>\n      <td>0</td>\n      <td>0</td>\n      <td>0</td>\n      <td>0</td>\n      <td>0</td>\n      <td>0</td>\n      <td>0</td>\n      <td>0</td>\n      <td>1</td>\n      <td>0</td>\n      <td>0</td>\n      <td>0</td>\n      <td>0</td>\n      <td>0</td>\n      <td>0</td>\n      <td>0</td>\n      <td>0</td>\n      <td>0</td>\n      <td>0</td>\n      <td>0</td>\n      <td>0</td>\n      <td>0</td>\n      <td>0</td>\n      <td>0</td>\n      <td>0</td>\n      <td>0</td>\n      <td>0</td>\n      <td>0</td>\n      <td>0</td>\n      <td>0</td>\n      <td>0</td>\n      <td>0</td>\n      <td>0</td>\n      <td>0</td>\n      <td>0</td>\n      <td>0</td>\n      <td>0</td>\n      <td>0</td>\n      <td>0</td>\n      <td>0</td>\n      <td>1</td>\n      <td>0</td>\n      <td>0</td>\n      <td>0</td>\n      <td>0</td>\n      <td>0</td>\n      <td>0</td>\n      <td>0</td>\n      <td>0</td>\n      <td>0</td>\n      <td>0</td>\n      <td>0</td>\n      <td>0</td>\n      <td>0</td>\n      <td>0</td>\n      <td>0</td>\n      <td>0</td>\n      <td>0</td>\n      <td>0</td>\n      <td>0</td>\n      <td>0</td>\n      <td>0</td>\n      <td>0</td>\n      <td>0</td>\n      <td>0</td>\n      <td>0</td>\n      <td>0</td>\n      <td>0</td>\n      <td>0</td>\n      <td>0</td>\n      <td>0</td>\n      <td>0</td>\n      <td>0</td>\n      <td>0</td>\n      <td>0</td>\n    </tr>\n    <tr>\n      <th>1</th>\n      <td>Fungal infection</td>\n      <td>0</td>\n      <td>0</td>\n      <td>0</td>\n      <td>0</td>\n      <td>0</td>\n      <td>0</td>\n      <td>0</td>\n      <td>0</td>\n      <td>0</td>\n      <td>0</td>\n      <td>0</td>\n      <td>0</td>\n      <td>0</td>\n      <td>0</td>\n      <td>0</td>\n      <td>0</td>\n      <td>0</td>\n      <td>0</td>\n      <td>0</td>\n      <td>0</td>\n      <td>0</td>\n      <td>0</td>\n      <td>0</td>\n      <td>0</td>\n      <td>0</td>\n      <td>0</td>\n      <td>0</td>\n      <td>0</td>\n      <td>0</td>\n      <td>0</td>\n      <td>0</td>\n      <td>0</td>\n      <td>0</td>\n      <td>0</td>\n      <td>0</td>\n      <td>0</td>\n      <td>0</td>\n      <td>0</td>\n      <td>0</td>\n      <td>0</td>\n      <td>0</td>\n      <td>0</td>\n      <td>0</td>\n      <td>0</td>\n      <td>0</td>\n      <td>0</td>\n      <td>1</td>\n      <td>0</td>\n      <td>0</td>\n      <td>0</td>\n      <td>0</td>\n      <td>0</td>\n      <td>0</td>\n      <td>0</td>\n      <td>0</td>\n      <td>0</td>\n      <td>0</td>\n      <td>0</td>\n      <td>0</td>\n      <td>1</td>\n      <td>0</td>\n      <td>0</td>\n      <td>0</td>\n      <td>0</td>\n      <td>0</td>\n      <td>0</td>\n      <td>0</td>\n      <td>0</td>\n      <td>0</td>\n      <td>0</td>\n      <td>0</td>\n      <td>0</td>\n      <td>0</td>\n      <td>0</td>\n      <td>0</td>\n      <td>0</td>\n      <td>0</td>\n      <td>0</td>\n      <td>0</td>\n      <td>0</td>\n      <td>0</td>\n      <td>0</td>\n      <td>0</td>\n      <td>0</td>\n      <td>0</td>\n      <td>0</td>\n      <td>0</td>\n      <td>0</td>\n      <td>0</td>\n      <td>0</td>\n      <td>0</td>\n      <td>0</td>\n      <td>0</td>\n      <td>0</td>\n      <td>0</td>\n      <td>0</td>\n      <td>0</td>\n      <td>0</td>\n      <td>0</td>\n      <td>0</td>\n      <td>0</td>\n      <td>0</td>\n      <td>0</td>\n      <td>0</td>\n      <td>0</td>\n      <td>1</td>\n      <td>0</td>\n      <td>0</td>\n      <td>0</td>\n      <td>0</td>\n      <td>0</td>\n      <td>0</td>\n      <td>0</td>\n      <td>0</td>\n      <td>0</td>\n      <td>0</td>\n      <td>0</td>\n      <td>0</td>\n      <td>0</td>\n      <td>0</td>\n      <td>0</td>\n      <td>0</td>\n      <td>0</td>\n      <td>0</td>\n      <td>0</td>\n      <td>0</td>\n      <td>0</td>\n      <td>0</td>\n      <td>0</td>\n      <td>0</td>\n      <td>0</td>\n      <td>0</td>\n      <td>0</td>\n      <td>0</td>\n      <td>0</td>\n      <td>0</td>\n      <td>0</td>\n      <td>1</td>\n      <td>0</td>\n      <td>0</td>\n      <td>0</td>\n      <td>0</td>\n      <td>0</td>\n      <td>0</td>\n      <td>0</td>\n      <td>0</td>\n      <td>0</td>\n      <td>0</td>\n      <td>0</td>\n      <td>0</td>\n      <td>0</td>\n      <td>0</td>\n      <td>0</td>\n      <td>0</td>\n      <td>0</td>\n      <td>0</td>\n      <td>0</td>\n      <td>0</td>\n      <td>0</td>\n      <td>0</td>\n      <td>0</td>\n      <td>0</td>\n      <td>0</td>\n      <td>0</td>\n      <td>0</td>\n      <td>0</td>\n      <td>0</td>\n      <td>0</td>\n      <td>0</td>\n      <td>0</td>\n      <td>0</td>\n      <td>0</td>\n    </tr>\n    <tr>\n      <th>2</th>\n      <td>Fungal infection</td>\n      <td>0</td>\n      <td>0</td>\n      <td>0</td>\n      <td>0</td>\n      <td>0</td>\n      <td>0</td>\n      <td>0</td>\n      <td>0</td>\n      <td>0</td>\n      <td>0</td>\n      <td>0</td>\n      <td>0</td>\n      <td>0</td>\n      <td>0</td>\n      <td>0</td>\n      <td>0</td>\n      <td>0</td>\n      <td>0</td>\n      <td>0</td>\n      <td>0</td>\n      <td>0</td>\n      <td>0</td>\n      <td>0</td>\n      <td>0</td>\n      <td>0</td>\n      <td>0</td>\n      <td>0</td>\n      <td>0</td>\n      <td>0</td>\n      <td>0</td>\n      <td>0</td>\n      <td>0</td>\n      <td>0</td>\n      <td>0</td>\n      <td>0</td>\n      <td>0</td>\n      <td>0</td>\n      <td>0</td>\n      <td>0</td>\n      <td>0</td>\n      <td>0</td>\n      <td>0</td>\n      <td>0</td>\n      <td>0</td>\n      <td>0</td>\n      <td>0</td>\n      <td>1</td>\n      <td>0</td>\n      <td>0</td>\n      <td>0</td>\n      <td>0</td>\n      <td>0</td>\n      <td>0</td>\n      <td>0</td>\n      <td>0</td>\n      <td>0</td>\n      <td>0</td>\n      <td>0</td>\n      <td>0</td>\n      <td>1</td>\n      <td>0</td>\n      <td>0</td>\n      <td>0</td>\n      <td>0</td>\n      <td>0</td>\n      <td>0</td>\n      <td>0</td>\n      <td>0</td>\n      <td>0</td>\n      <td>0</td>\n      <td>0</td>\n      <td>0</td>\n      <td>0</td>\n      <td>0</td>\n      <td>0</td>\n      <td>0</td>\n      <td>0</td>\n      <td>0</td>\n      <td>0</td>\n      <td>0</td>\n      <td>0</td>\n      <td>0</td>\n      <td>0</td>\n      <td>0</td>\n      <td>1</td>\n      <td>0</td>\n      <td>0</td>\n      <td>0</td>\n      <td>0</td>\n      <td>0</td>\n      <td>0</td>\n      <td>0</td>\n      <td>0</td>\n      <td>0</td>\n      <td>0</td>\n      <td>0</td>\n      <td>0</td>\n      <td>0</td>\n      <td>0</td>\n      <td>0</td>\n      <td>0</td>\n      <td>0</td>\n      <td>0</td>\n      <td>0</td>\n      <td>0</td>\n      <td>1</td>\n      <td>0</td>\n      <td>0</td>\n      <td>0</td>\n      <td>0</td>\n      <td>0</td>\n      <td>0</td>\n      <td>0</td>\n      <td>0</td>\n      <td>0</td>\n      <td>0</td>\n      <td>0</td>\n      <td>0</td>\n      <td>0</td>\n      <td>0</td>\n      <td>0</td>\n      <td>0</td>\n      <td>0</td>\n      <td>0</td>\n      <td>0</td>\n      <td>0</td>\n      <td>0</td>\n      <td>0</td>\n      <td>0</td>\n      <td>0</td>\n      <td>0</td>\n      <td>0</td>\n      <td>0</td>\n      <td>0</td>\n      <td>0</td>\n      <td>0</td>\n      <td>0</td>\n      <td>0</td>\n      <td>0</td>\n      <td>0</td>\n      <td>0</td>\n      <td>0</td>\n      <td>0</td>\n      <td>0</td>\n      <td>0</td>\n      <td>0</td>\n      <td>0</td>\n      <td>0</td>\n      <td>0</td>\n      <td>0</td>\n      <td>0</td>\n      <td>0</td>\n      <td>0</td>\n      <td>0</td>\n      <td>0</td>\n      <td>0</td>\n      <td>0</td>\n      <td>0</td>\n      <td>0</td>\n      <td>0</td>\n      <td>0</td>\n      <td>0</td>\n      <td>0</td>\n      <td>0</td>\n      <td>0</td>\n      <td>0</td>\n      <td>0</td>\n      <td>0</td>\n      <td>0</td>\n      <td>0</td>\n      <td>0</td>\n      <td>0</td>\n    </tr>\n    <tr>\n      <th>3</th>\n      <td>Fungal infection</td>\n      <td>0</td>\n      <td>0</td>\n      <td>0</td>\n      <td>0</td>\n      <td>0</td>\n      <td>0</td>\n      <td>0</td>\n      <td>0</td>\n      <td>0</td>\n      <td>0</td>\n      <td>0</td>\n      <td>0</td>\n      <td>0</td>\n      <td>0</td>\n      <td>0</td>\n      <td>0</td>\n      <td>0</td>\n      <td>0</td>\n      <td>0</td>\n      <td>0</td>\n      <td>0</td>\n      <td>0</td>\n      <td>0</td>\n      <td>0</td>\n      <td>0</td>\n      <td>0</td>\n      <td>0</td>\n      <td>0</td>\n      <td>0</td>\n      <td>0</td>\n      <td>0</td>\n      <td>0</td>\n      <td>0</td>\n      <td>0</td>\n      <td>0</td>\n      <td>0</td>\n      <td>0</td>\n      <td>0</td>\n      <td>0</td>\n      <td>0</td>\n      <td>0</td>\n      <td>0</td>\n      <td>0</td>\n      <td>0</td>\n      <td>0</td>\n      <td>0</td>\n      <td>1</td>\n      <td>0</td>\n      <td>0</td>\n      <td>0</td>\n      <td>0</td>\n      <td>0</td>\n      <td>0</td>\n      <td>0</td>\n      <td>0</td>\n      <td>0</td>\n      <td>0</td>\n      <td>0</td>\n      <td>0</td>\n      <td>1</td>\n      <td>0</td>\n      <td>0</td>\n      <td>0</td>\n      <td>0</td>\n      <td>0</td>\n      <td>0</td>\n      <td>0</td>\n      <td>0</td>\n      <td>0</td>\n      <td>0</td>\n      <td>0</td>\n      <td>0</td>\n      <td>0</td>\n      <td>0</td>\n      <td>0</td>\n      <td>0</td>\n      <td>0</td>\n      <td>0</td>\n      <td>0</td>\n      <td>0</td>\n      <td>0</td>\n      <td>0</td>\n      <td>0</td>\n      <td>0</td>\n      <td>1</td>\n      <td>0</td>\n      <td>0</td>\n      <td>0</td>\n      <td>0</td>\n      <td>0</td>\n      <td>0</td>\n      <td>0</td>\n      <td>0</td>\n      <td>0</td>\n      <td>0</td>\n      <td>0</td>\n      <td>0</td>\n      <td>0</td>\n      <td>0</td>\n      <td>0</td>\n      <td>0</td>\n      <td>0</td>\n      <td>0</td>\n      <td>0</td>\n      <td>0</td>\n      <td>0</td>\n      <td>0</td>\n      <td>0</td>\n      <td>0</td>\n      <td>0</td>\n      <td>0</td>\n      <td>0</td>\n      <td>0</td>\n      <td>0</td>\n      <td>0</td>\n      <td>0</td>\n      <td>0</td>\n      <td>0</td>\n      <td>0</td>\n      <td>0</td>\n      <td>0</td>\n      <td>0</td>\n      <td>0</td>\n      <td>0</td>\n      <td>0</td>\n      <td>0</td>\n      <td>0</td>\n      <td>0</td>\n      <td>0</td>\n      <td>0</td>\n      <td>0</td>\n      <td>0</td>\n      <td>0</td>\n      <td>0</td>\n      <td>0</td>\n      <td>0</td>\n      <td>0</td>\n      <td>1</td>\n      <td>0</td>\n      <td>0</td>\n      <td>0</td>\n      <td>0</td>\n      <td>0</td>\n      <td>0</td>\n      <td>0</td>\n      <td>0</td>\n      <td>0</td>\n      <td>0</td>\n      <td>0</td>\n      <td>0</td>\n      <td>0</td>\n      <td>0</td>\n      <td>0</td>\n      <td>0</td>\n      <td>0</td>\n      <td>0</td>\n      <td>0</td>\n      <td>0</td>\n      <td>0</td>\n      <td>0</td>\n      <td>0</td>\n      <td>0</td>\n      <td>0</td>\n      <td>0</td>\n      <td>0</td>\n      <td>0</td>\n      <td>0</td>\n      <td>0</td>\n      <td>0</td>\n      <td>0</td>\n      <td>0</td>\n      <td>0</td>\n    </tr>\n    <tr>\n      <th>4</th>\n      <td>Fungal infection</td>\n      <td>0</td>\n      <td>0</td>\n      <td>0</td>\n      <td>0</td>\n      <td>0</td>\n      <td>0</td>\n      <td>0</td>\n      <td>0</td>\n      <td>0</td>\n      <td>0</td>\n      <td>0</td>\n      <td>0</td>\n      <td>0</td>\n      <td>0</td>\n      <td>0</td>\n      <td>0</td>\n      <td>0</td>\n      <td>0</td>\n      <td>0</td>\n      <td>0</td>\n      <td>0</td>\n      <td>0</td>\n      <td>0</td>\n      <td>0</td>\n      <td>0</td>\n      <td>0</td>\n      <td>0</td>\n      <td>0</td>\n      <td>0</td>\n      <td>0</td>\n      <td>0</td>\n      <td>0</td>\n      <td>0</td>\n      <td>0</td>\n      <td>0</td>\n      <td>0</td>\n      <td>0</td>\n      <td>0</td>\n      <td>0</td>\n      <td>0</td>\n      <td>0</td>\n      <td>0</td>\n      <td>0</td>\n      <td>0</td>\n      <td>0</td>\n      <td>0</td>\n      <td>0</td>\n      <td>0</td>\n      <td>0</td>\n      <td>0</td>\n      <td>0</td>\n      <td>0</td>\n      <td>0</td>\n      <td>0</td>\n      <td>0</td>\n      <td>0</td>\n      <td>0</td>\n      <td>0</td>\n      <td>0</td>\n      <td>1</td>\n      <td>0</td>\n      <td>0</td>\n      <td>0</td>\n      <td>0</td>\n      <td>0</td>\n      <td>0</td>\n      <td>0</td>\n      <td>0</td>\n      <td>0</td>\n      <td>0</td>\n      <td>0</td>\n      <td>0</td>\n      <td>0</td>\n      <td>0</td>\n      <td>0</td>\n      <td>0</td>\n      <td>0</td>\n      <td>0</td>\n      <td>0</td>\n      <td>0</td>\n      <td>0</td>\n      <td>0</td>\n      <td>0</td>\n      <td>0</td>\n      <td>1</td>\n      <td>0</td>\n      <td>0</td>\n      <td>0</td>\n      <td>0</td>\n      <td>0</td>\n      <td>0</td>\n      <td>0</td>\n      <td>0</td>\n      <td>0</td>\n      <td>0</td>\n      <td>0</td>\n      <td>0</td>\n      <td>0</td>\n      <td>0</td>\n      <td>0</td>\n      <td>0</td>\n      <td>0</td>\n      <td>0</td>\n      <td>0</td>\n      <td>0</td>\n      <td>1</td>\n      <td>0</td>\n      <td>0</td>\n      <td>0</td>\n      <td>0</td>\n      <td>0</td>\n      <td>0</td>\n      <td>0</td>\n      <td>0</td>\n      <td>0</td>\n      <td>0</td>\n      <td>0</td>\n      <td>0</td>\n      <td>0</td>\n      <td>0</td>\n      <td>0</td>\n      <td>0</td>\n      <td>0</td>\n      <td>0</td>\n      <td>0</td>\n      <td>0</td>\n      <td>0</td>\n      <td>0</td>\n      <td>0</td>\n      <td>0</td>\n      <td>0</td>\n      <td>0</td>\n      <td>0</td>\n      <td>0</td>\n      <td>0</td>\n      <td>0</td>\n      <td>0</td>\n      <td>1</td>\n      <td>0</td>\n      <td>0</td>\n      <td>0</td>\n      <td>0</td>\n      <td>0</td>\n      <td>0</td>\n      <td>0</td>\n      <td>0</td>\n      <td>0</td>\n      <td>0</td>\n      <td>0</td>\n      <td>0</td>\n      <td>0</td>\n      <td>0</td>\n      <td>0</td>\n      <td>0</td>\n      <td>0</td>\n      <td>0</td>\n      <td>0</td>\n      <td>0</td>\n      <td>0</td>\n      <td>0</td>\n      <td>0</td>\n      <td>0</td>\n      <td>0</td>\n      <td>0</td>\n      <td>0</td>\n      <td>0</td>\n      <td>0</td>\n      <td>0</td>\n      <td>0</td>\n      <td>0</td>\n      <td>0</td>\n      <td>0</td>\n    </tr>\n  </tbody>\n</table>\n</div>"
          },
          "metadata": {}
        }
      ]
    },
    {
      "cell_type": "code",
      "source": [
        "df_encoded.shape"
      ],
      "metadata": {
        "execution": {
          "iopub.status.busy": "2024-06-18T04:26:43.611975Z",
          "iopub.execute_input": "2024-06-18T04:26:43.612238Z",
          "iopub.status.idle": "2024-06-18T04:26:43.617869Z",
          "shell.execute_reply.started": "2024-06-18T04:26:43.612215Z",
          "shell.execute_reply": "2024-06-18T04:26:43.616936Z"
        },
        "trusted": true,
        "id": "0Pyx4BNCmw3w",
        "outputId": "6265d465-885d-47fe-d035-44a94b9dbd98"
      },
      "execution_count": null,
      "outputs": [
        {
          "execution_count": 17,
          "output_type": "execute_result",
          "data": {
            "text/plain": "(4920, 173)"
          },
          "metadata": {}
        }
      ]
    },
    {
      "cell_type": "code",
      "source": [
        "disease_names = [key for key in label_mapping.keys()]\n",
        "diseases = [strip_to_basic_tokens(disease) for disease in disease_names]\n",
        "diseases_cleaned = [item[0] if isinstance(item, list) else item for item in diseases]\n",
        "df_encoded = df_encoded.drop(diseases_cleaned, axis = 1)\n",
        "df_encoded.shape"
      ],
      "metadata": {
        "execution": {
          "iopub.status.busy": "2024-06-18T04:26:43.619291Z",
          "iopub.execute_input": "2024-06-18T04:26:43.619627Z",
          "iopub.status.idle": "2024-06-18T04:26:43.632558Z",
          "shell.execute_reply.started": "2024-06-18T04:26:43.619594Z",
          "shell.execute_reply": "2024-06-18T04:26:43.631735Z"
        },
        "trusted": true,
        "id": "uYpI3wCNmw3w",
        "outputId": "35a8eb90-3007-476c-b1fd-3659b177036d"
      },
      "execution_count": null,
      "outputs": [
        {
          "execution_count": 18,
          "output_type": "execute_result",
          "data": {
            "text/plain": "(4920, 132)"
          },
          "metadata": {}
        }
      ]
    },
    {
      "cell_type": "code",
      "source": [
        "model_features = df_encoded.columns.tolist()\n",
        "model_features.remove(\"Disease\")\n",
        "X = df_encoded[model_features]\n",
        "y = df_encoded[\"Disease\"]"
      ],
      "metadata": {
        "execution": {
          "iopub.status.busy": "2024-06-18T04:26:43.633811Z",
          "iopub.execute_input": "2024-06-18T04:26:43.634433Z",
          "iopub.status.idle": "2024-06-18T04:26:43.641966Z",
          "shell.execute_reply.started": "2024-06-18T04:26:43.634401Z",
          "shell.execute_reply": "2024-06-18T04:26:43.641196Z"
        },
        "trusted": true,
        "id": "pHAuWo6Nmw3x"
      },
      "execution_count": null,
      "outputs": []
    },
    {
      "cell_type": "code",
      "source": [
        "print(X.shape)\n",
        "X.head()"
      ],
      "metadata": {
        "execution": {
          "iopub.status.busy": "2024-06-18T04:26:43.643107Z",
          "iopub.execute_input": "2024-06-18T04:26:43.643378Z",
          "iopub.status.idle": "2024-06-18T04:26:43.697814Z",
          "shell.execute_reply.started": "2024-06-18T04:26:43.643355Z",
          "shell.execute_reply": "2024-06-18T04:26:43.69698Z"
        },
        "trusted": true,
        "id": "RV-L_YGZmw3x",
        "outputId": "05f98d52-eb13-463c-c62c-3c94d578691d"
      },
      "execution_count": null,
      "outputs": [
        {
          "name": "stdout",
          "text": "(4920, 131)\n",
          "output_type": "stream"
        },
        {
          "execution_count": 20,
          "output_type": "execute_result",
          "data": {
            "text/plain": "   abdominal pain  abnormal menstruation  acidity  acute liver failure  \\\n0               0                      0        0                    0   \n1               0                      0        0                    0   \n2               0                      0        0                    0   \n3               0                      0        0                    0   \n4               0                      0        0                    0   \n\n   altered sensorium  anxiety  back pain  belly pain  blackheads  \\\n0                  0        0          0           0           0   \n1                  0        0          0           0           0   \n2                  0        0          0           0           0   \n3                  0        0          0           0           0   \n4                  0        0          0           0           0   \n\n   bladder discomfort  blister  blood in sputum  bloody stool  \\\n0                   0        0                0             0   \n1                   0        0                0             0   \n2                   0        0                0             0   \n3                   0        0                0             0   \n4                   0        0                0             0   \n\n   blurred and distorted vision  breathlessness  brittle nails  bruising  \\\n0                             0               0              0         0   \n1                             0               0              0         0   \n2                             0               0              0         0   \n3                             0               0              0         0   \n4                             0               0              0         0   \n\n   burning micturition  chest pain  chills  cold hands and feets  coma  \\\n0                    0           0       0                     0     0   \n1                    0           0       0                     0     0   \n2                    0           0       0                     0     0   \n3                    0           0       0                     0     0   \n4                    0           0       0                     0     0   \n\n   congestion  constipation  continuous feel of urine  continuous sneezing  \\\n0           0             0                         0                    0   \n1           0             0                         0                    0   \n2           0             0                         0                    0   \n3           0             0                         0                    0   \n4           0             0                         0                    0   \n\n   cough  cramps  dark urine  dehydration  depression  diarrhoea  \\\n0      0       0           0            0           0          0   \n1      0       0           0            0           0          0   \n2      0       0           0            0           0          0   \n3      0       0           0            0           0          0   \n4      0       0           0            0           0          0   \n\n   dischromic patches  distention of abdomen  dizziness  \\\n0                   1                      0          0   \n1                   1                      0          0   \n2                   1                      0          0   \n3                   1                      0          0   \n4                   0                      0          0   \n\n   drying and tingling lips  enlarged thyroid  excessive hunger  \\\n0                         0                 0                 0   \n1                         0                 0                 0   \n2                         0                 0                 0   \n3                         0                 0                 0   \n4                         0                 0                 0   \n\n   extra marital contacts  family history  fast heart rate  fatigue  \\\n0                       0               0                0        0   \n1                       0               0                0        0   \n2                       0               0                0        0   \n3                       0               0                0        0   \n4                       0               0                0        0   \n\n   fluid overload  foul smell of urine  headache  high fever  hip joint pain  \\\n0               0                    0         0           0               0   \n1               0                    0         0           0               0   \n2               0                    0         0           0               0   \n3               0                    0         0           0               0   \n4               0                    0         0           0               0   \n\n   history of alcohol consumption  increased appetite  indigestion  \\\n0                               0                   0            0   \n1                               0                   0            0   \n2                               0                   0            0   \n3                               0                   0            0   \n4                               0                   0            0   \n\n   inflammatory nails  internal itching  irregular sugar level  irritability  \\\n0                   0                 0                      0             0   \n1                   0                 0                      0             0   \n2                   0                 0                      0             0   \n3                   0                 0                      0             0   \n4                   0                 0                      0             0   \n\n   irritation in anus  itching  joint pain  knee pain  lack of concentration  \\\n0                   0        1           0          0                      0   \n1                   0        0           0          0                      0   \n2                   0        1           0          0                      0   \n3                   0        1           0          0                      0   \n4                   0        1           0          0                      0   \n\n   lethargy  loss of appetite  loss of balance  loss of smell  malaise  \\\n0         0                 0                0              0        0   \n1         0                 0                0              0        0   \n2         0                 0                0              0        0   \n3         0                 0                0              0        0   \n4         0                 0                0              0        0   \n\n   mild fever  mood swings  movement stiffness  mucoid sputum  muscle pain  \\\n0           0            0                   0              0            0   \n1           0            0                   0              0            0   \n2           0            0                   0              0            0   \n3           0            0                   0              0            0   \n4           0            0                   0              0            0   \n\n   muscle wasting  muscle weakness  nausea  neck pain  nodal skin eruptions  \\\n0               0                0       0          0                     1   \n1               0                0       0          0                     1   \n2               0                0       0          0                     1   \n3               0                0       0          0                     0   \n4               0                0       0          0                     1   \n\n   obesity  pain behind the eyes  pain during bowel movements  \\\n0        0                     0                            0   \n1        0                     0                            0   \n2        0                     0                            0   \n3        0                     0                            0   \n4        0                     0                            0   \n\n   pain in anal region  painful walking  palpitations  passage of gases  \\\n0                    0                0             0                 0   \n1                    0                0             0                 0   \n2                    0                0             0                 0   \n3                    0                0             0                 0   \n4                    0                0             0                 0   \n\n   patches in throat  phlegm  polyuria  prominent veins on calf  \\\n0                  0       0         0                        0   \n1                  0       0         0                        0   \n2                  0       0         0                        0   \n3                  0       0         0                        0   \n4                  0       0         0                        0   \n\n   puffy face and eyes  pus filled pimples  receiving blood transfusion  \\\n0                    0                   0                            0   \n1                    0                   0                            0   \n2                    0                   0                            0   \n3                    0                   0                            0   \n4                    0                   0                            0   \n\n   receiving unsterile injections  red sore around nose  red spots over body  \\\n0                               0                     0                    0   \n1                               0                     0                    0   \n2                               0                     0                    0   \n3                               0                     0                    0   \n4                               0                     0                    0   \n\n   redness of eyes  restlessness  runny nose  rusty sputum  scurring  \\\n0                0             0           0             0         0   \n1                0             0           0             0         0   \n2                0             0           0             0         0   \n3                0             0           0             0         0   \n4                0             0           0             0         0   \n\n   shivering  silver like dusting  sinus pressure  skin peeling  skin rash  \\\n0          0                    0               0             0          1   \n1          0                    0               0             0          1   \n2          0                    0               0             0          0   \n3          0                    0               0             0          1   \n4          0                    0               0             0          1   \n\n   slurred speech  small dents in nails  spinning movements  \\\n0               0                     0                   0   \n1               0                     0                   0   \n2               0                     0                   0   \n3               0                     0                   0   \n4               0                     0                   0   \n\n   spotting urination  stiff neck  stomach bleeding  stomach pain  \\\n0                   0           0                 0             0   \n1                   0           0                 0             0   \n2                   0           0                 0             0   \n3                   0           0                 0             0   \n4                   0           0                 0             0   \n\n   sunken eyes  sweating  swelled lymph nodes  swelling joints  \\\n0            0         0                    0                0   \n1            0         0                    0                0   \n2            0         0                    0                0   \n3            0         0                    0                0   \n4            0         0                    0                0   \n\n   swelling of stomach  swollen blood vessels  swollen extremeties  \\\n0                    0                      0                    0   \n1                    0                      0                    0   \n2                    0                      0                    0   \n3                    0                      0                    0   \n4                    0                      0                    0   \n\n   swollen legs  throat irritation  toxic look (typhos)  ulcers on tongue  \\\n0             0                  0                    0                 0   \n1             0                  0                    0                 0   \n2             0                  0                    0                 0   \n3             0                  0                    0                 0   \n4             0                  0                    0                 0   \n\n   unsteadiness  visual disturbances  vomiting  watering from eyes  \\\n0             0                    0         0                   0   \n1             0                    0         0                   0   \n2             0                    0         0                   0   \n3             0                    0         0                   0   \n4             0                    0         0                   0   \n\n   weakness in limbs  weakness of one body side  weight gain  weight loss  \\\n0                  0                          0            0            0   \n1                  0                          0            0            0   \n2                  0                          0            0            0   \n3                  0                          0            0            0   \n4                  0                          0            0            0   \n\n   yellow crust ooze  yellow urine  yellowing of eyes  yellowish skin  \n0                  0             0                  0               0  \n1                  0             0                  0               0  \n2                  0             0                  0               0  \n3                  0             0                  0               0  \n4                  0             0                  0               0  ",
            "text/html": "<div>\n<style scoped>\n    .dataframe tbody tr th:only-of-type {\n        vertical-align: middle;\n    }\n\n    .dataframe tbody tr th {\n        vertical-align: top;\n    }\n\n    .dataframe thead th {\n        text-align: right;\n    }\n</style>\n<table border=\"1\" class=\"dataframe\">\n  <thead>\n    <tr style=\"text-align: right;\">\n      <th></th>\n      <th>abdominal pain</th>\n      <th>abnormal menstruation</th>\n      <th>acidity</th>\n      <th>acute liver failure</th>\n      <th>altered sensorium</th>\n      <th>anxiety</th>\n      <th>back pain</th>\n      <th>belly pain</th>\n      <th>blackheads</th>\n      <th>bladder discomfort</th>\n      <th>blister</th>\n      <th>blood in sputum</th>\n      <th>bloody stool</th>\n      <th>blurred and distorted vision</th>\n      <th>breathlessness</th>\n      <th>brittle nails</th>\n      <th>bruising</th>\n      <th>burning micturition</th>\n      <th>chest pain</th>\n      <th>chills</th>\n      <th>cold hands and feets</th>\n      <th>coma</th>\n      <th>congestion</th>\n      <th>constipation</th>\n      <th>continuous feel of urine</th>\n      <th>continuous sneezing</th>\n      <th>cough</th>\n      <th>cramps</th>\n      <th>dark urine</th>\n      <th>dehydration</th>\n      <th>depression</th>\n      <th>diarrhoea</th>\n      <th>dischromic patches</th>\n      <th>distention of abdomen</th>\n      <th>dizziness</th>\n      <th>drying and tingling lips</th>\n      <th>enlarged thyroid</th>\n      <th>excessive hunger</th>\n      <th>extra marital contacts</th>\n      <th>family history</th>\n      <th>fast heart rate</th>\n      <th>fatigue</th>\n      <th>fluid overload</th>\n      <th>foul smell of urine</th>\n      <th>headache</th>\n      <th>high fever</th>\n      <th>hip joint pain</th>\n      <th>history of alcohol consumption</th>\n      <th>increased appetite</th>\n      <th>indigestion</th>\n      <th>inflammatory nails</th>\n      <th>internal itching</th>\n      <th>irregular sugar level</th>\n      <th>irritability</th>\n      <th>irritation in anus</th>\n      <th>itching</th>\n      <th>joint pain</th>\n      <th>knee pain</th>\n      <th>lack of concentration</th>\n      <th>lethargy</th>\n      <th>loss of appetite</th>\n      <th>loss of balance</th>\n      <th>loss of smell</th>\n      <th>malaise</th>\n      <th>mild fever</th>\n      <th>mood swings</th>\n      <th>movement stiffness</th>\n      <th>mucoid sputum</th>\n      <th>muscle pain</th>\n      <th>muscle wasting</th>\n      <th>muscle weakness</th>\n      <th>nausea</th>\n      <th>neck pain</th>\n      <th>nodal skin eruptions</th>\n      <th>obesity</th>\n      <th>pain behind the eyes</th>\n      <th>pain during bowel movements</th>\n      <th>pain in anal region</th>\n      <th>painful walking</th>\n      <th>palpitations</th>\n      <th>passage of gases</th>\n      <th>patches in throat</th>\n      <th>phlegm</th>\n      <th>polyuria</th>\n      <th>prominent veins on calf</th>\n      <th>puffy face and eyes</th>\n      <th>pus filled pimples</th>\n      <th>receiving blood transfusion</th>\n      <th>receiving unsterile injections</th>\n      <th>red sore around nose</th>\n      <th>red spots over body</th>\n      <th>redness of eyes</th>\n      <th>restlessness</th>\n      <th>runny nose</th>\n      <th>rusty sputum</th>\n      <th>scurring</th>\n      <th>shivering</th>\n      <th>silver like dusting</th>\n      <th>sinus pressure</th>\n      <th>skin peeling</th>\n      <th>skin rash</th>\n      <th>slurred speech</th>\n      <th>small dents in nails</th>\n      <th>spinning movements</th>\n      <th>spotting urination</th>\n      <th>stiff neck</th>\n      <th>stomach bleeding</th>\n      <th>stomach pain</th>\n      <th>sunken eyes</th>\n      <th>sweating</th>\n      <th>swelled lymph nodes</th>\n      <th>swelling joints</th>\n      <th>swelling of stomach</th>\n      <th>swollen blood vessels</th>\n      <th>swollen extremeties</th>\n      <th>swollen legs</th>\n      <th>throat irritation</th>\n      <th>toxic look (typhos)</th>\n      <th>ulcers on tongue</th>\n      <th>unsteadiness</th>\n      <th>visual disturbances</th>\n      <th>vomiting</th>\n      <th>watering from eyes</th>\n      <th>weakness in limbs</th>\n      <th>weakness of one body side</th>\n      <th>weight gain</th>\n      <th>weight loss</th>\n      <th>yellow crust ooze</th>\n      <th>yellow urine</th>\n      <th>yellowing of eyes</th>\n      <th>yellowish skin</th>\n    </tr>\n  </thead>\n  <tbody>\n    <tr>\n      <th>0</th>\n      <td>0</td>\n      <td>0</td>\n      <td>0</td>\n      <td>0</td>\n      <td>0</td>\n      <td>0</td>\n      <td>0</td>\n      <td>0</td>\n      <td>0</td>\n      <td>0</td>\n      <td>0</td>\n      <td>0</td>\n      <td>0</td>\n      <td>0</td>\n      <td>0</td>\n      <td>0</td>\n      <td>0</td>\n      <td>0</td>\n      <td>0</td>\n      <td>0</td>\n      <td>0</td>\n      <td>0</td>\n      <td>0</td>\n      <td>0</td>\n      <td>0</td>\n      <td>0</td>\n      <td>0</td>\n      <td>0</td>\n      <td>0</td>\n      <td>0</td>\n      <td>0</td>\n      <td>0</td>\n      <td>1</td>\n      <td>0</td>\n      <td>0</td>\n      <td>0</td>\n      <td>0</td>\n      <td>0</td>\n      <td>0</td>\n      <td>0</td>\n      <td>0</td>\n      <td>0</td>\n      <td>0</td>\n      <td>0</td>\n      <td>0</td>\n      <td>0</td>\n      <td>0</td>\n      <td>0</td>\n      <td>0</td>\n      <td>0</td>\n      <td>0</td>\n      <td>0</td>\n      <td>0</td>\n      <td>0</td>\n      <td>0</td>\n      <td>1</td>\n      <td>0</td>\n      <td>0</td>\n      <td>0</td>\n      <td>0</td>\n      <td>0</td>\n      <td>0</td>\n      <td>0</td>\n      <td>0</td>\n      <td>0</td>\n      <td>0</td>\n      <td>0</td>\n      <td>0</td>\n      <td>0</td>\n      <td>0</td>\n      <td>0</td>\n      <td>0</td>\n      <td>0</td>\n      <td>1</td>\n      <td>0</td>\n      <td>0</td>\n      <td>0</td>\n      <td>0</td>\n      <td>0</td>\n      <td>0</td>\n      <td>0</td>\n      <td>0</td>\n      <td>0</td>\n      <td>0</td>\n      <td>0</td>\n      <td>0</td>\n      <td>0</td>\n      <td>0</td>\n      <td>0</td>\n      <td>0</td>\n      <td>0</td>\n      <td>0</td>\n      <td>0</td>\n      <td>0</td>\n      <td>0</td>\n      <td>0</td>\n      <td>0</td>\n      <td>0</td>\n      <td>0</td>\n      <td>0</td>\n      <td>1</td>\n      <td>0</td>\n      <td>0</td>\n      <td>0</td>\n      <td>0</td>\n      <td>0</td>\n      <td>0</td>\n      <td>0</td>\n      <td>0</td>\n      <td>0</td>\n      <td>0</td>\n      <td>0</td>\n      <td>0</td>\n      <td>0</td>\n      <td>0</td>\n      <td>0</td>\n      <td>0</td>\n      <td>0</td>\n      <td>0</td>\n      <td>0</td>\n      <td>0</td>\n      <td>0</td>\n      <td>0</td>\n      <td>0</td>\n      <td>0</td>\n      <td>0</td>\n      <td>0</td>\n      <td>0</td>\n      <td>0</td>\n      <td>0</td>\n      <td>0</td>\n    </tr>\n    <tr>\n      <th>1</th>\n      <td>0</td>\n      <td>0</td>\n      <td>0</td>\n      <td>0</td>\n      <td>0</td>\n      <td>0</td>\n      <td>0</td>\n      <td>0</td>\n      <td>0</td>\n      <td>0</td>\n      <td>0</td>\n      <td>0</td>\n      <td>0</td>\n      <td>0</td>\n      <td>0</td>\n      <td>0</td>\n      <td>0</td>\n      <td>0</td>\n      <td>0</td>\n      <td>0</td>\n      <td>0</td>\n      <td>0</td>\n      <td>0</td>\n      <td>0</td>\n      <td>0</td>\n      <td>0</td>\n      <td>0</td>\n      <td>0</td>\n      <td>0</td>\n      <td>0</td>\n      <td>0</td>\n      <td>0</td>\n      <td>1</td>\n      <td>0</td>\n      <td>0</td>\n      <td>0</td>\n      <td>0</td>\n      <td>0</td>\n      <td>0</td>\n      <td>0</td>\n      <td>0</td>\n      <td>0</td>\n      <td>0</td>\n      <td>0</td>\n      <td>0</td>\n      <td>0</td>\n      <td>0</td>\n      <td>0</td>\n      <td>0</td>\n      <td>0</td>\n      <td>0</td>\n      <td>0</td>\n      <td>0</td>\n      <td>0</td>\n      <td>0</td>\n      <td>0</td>\n      <td>0</td>\n      <td>0</td>\n      <td>0</td>\n      <td>0</td>\n      <td>0</td>\n      <td>0</td>\n      <td>0</td>\n      <td>0</td>\n      <td>0</td>\n      <td>0</td>\n      <td>0</td>\n      <td>0</td>\n      <td>0</td>\n      <td>0</td>\n      <td>0</td>\n      <td>0</td>\n      <td>0</td>\n      <td>1</td>\n      <td>0</td>\n      <td>0</td>\n      <td>0</td>\n      <td>0</td>\n      <td>0</td>\n      <td>0</td>\n      <td>0</td>\n      <td>0</td>\n      <td>0</td>\n      <td>0</td>\n      <td>0</td>\n      <td>0</td>\n      <td>0</td>\n      <td>0</td>\n      <td>0</td>\n      <td>0</td>\n      <td>0</td>\n      <td>0</td>\n      <td>0</td>\n      <td>0</td>\n      <td>0</td>\n      <td>0</td>\n      <td>0</td>\n      <td>0</td>\n      <td>0</td>\n      <td>0</td>\n      <td>1</td>\n      <td>0</td>\n      <td>0</td>\n      <td>0</td>\n      <td>0</td>\n      <td>0</td>\n      <td>0</td>\n      <td>0</td>\n      <td>0</td>\n      <td>0</td>\n      <td>0</td>\n      <td>0</td>\n      <td>0</td>\n      <td>0</td>\n      <td>0</td>\n      <td>0</td>\n      <td>0</td>\n      <td>0</td>\n      <td>0</td>\n      <td>0</td>\n      <td>0</td>\n      <td>0</td>\n      <td>0</td>\n      <td>0</td>\n      <td>0</td>\n      <td>0</td>\n      <td>0</td>\n      <td>0</td>\n      <td>0</td>\n      <td>0</td>\n      <td>0</td>\n    </tr>\n    <tr>\n      <th>2</th>\n      <td>0</td>\n      <td>0</td>\n      <td>0</td>\n      <td>0</td>\n      <td>0</td>\n      <td>0</td>\n      <td>0</td>\n      <td>0</td>\n      <td>0</td>\n      <td>0</td>\n      <td>0</td>\n      <td>0</td>\n      <td>0</td>\n      <td>0</td>\n      <td>0</td>\n      <td>0</td>\n      <td>0</td>\n      <td>0</td>\n      <td>0</td>\n      <td>0</td>\n      <td>0</td>\n      <td>0</td>\n      <td>0</td>\n      <td>0</td>\n      <td>0</td>\n      <td>0</td>\n      <td>0</td>\n      <td>0</td>\n      <td>0</td>\n      <td>0</td>\n      <td>0</td>\n      <td>0</td>\n      <td>1</td>\n      <td>0</td>\n      <td>0</td>\n      <td>0</td>\n      <td>0</td>\n      <td>0</td>\n      <td>0</td>\n      <td>0</td>\n      <td>0</td>\n      <td>0</td>\n      <td>0</td>\n      <td>0</td>\n      <td>0</td>\n      <td>0</td>\n      <td>0</td>\n      <td>0</td>\n      <td>0</td>\n      <td>0</td>\n      <td>0</td>\n      <td>0</td>\n      <td>0</td>\n      <td>0</td>\n      <td>0</td>\n      <td>1</td>\n      <td>0</td>\n      <td>0</td>\n      <td>0</td>\n      <td>0</td>\n      <td>0</td>\n      <td>0</td>\n      <td>0</td>\n      <td>0</td>\n      <td>0</td>\n      <td>0</td>\n      <td>0</td>\n      <td>0</td>\n      <td>0</td>\n      <td>0</td>\n      <td>0</td>\n      <td>0</td>\n      <td>0</td>\n      <td>1</td>\n      <td>0</td>\n      <td>0</td>\n      <td>0</td>\n      <td>0</td>\n      <td>0</td>\n      <td>0</td>\n      <td>0</td>\n      <td>0</td>\n      <td>0</td>\n      <td>0</td>\n      <td>0</td>\n      <td>0</td>\n      <td>0</td>\n      <td>0</td>\n      <td>0</td>\n      <td>0</td>\n      <td>0</td>\n      <td>0</td>\n      <td>0</td>\n      <td>0</td>\n      <td>0</td>\n      <td>0</td>\n      <td>0</td>\n      <td>0</td>\n      <td>0</td>\n      <td>0</td>\n      <td>0</td>\n      <td>0</td>\n      <td>0</td>\n      <td>0</td>\n      <td>0</td>\n      <td>0</td>\n      <td>0</td>\n      <td>0</td>\n      <td>0</td>\n      <td>0</td>\n      <td>0</td>\n      <td>0</td>\n      <td>0</td>\n      <td>0</td>\n      <td>0</td>\n      <td>0</td>\n      <td>0</td>\n      <td>0</td>\n      <td>0</td>\n      <td>0</td>\n      <td>0</td>\n      <td>0</td>\n      <td>0</td>\n      <td>0</td>\n      <td>0</td>\n      <td>0</td>\n      <td>0</td>\n      <td>0</td>\n      <td>0</td>\n      <td>0</td>\n      <td>0</td>\n    </tr>\n    <tr>\n      <th>3</th>\n      <td>0</td>\n      <td>0</td>\n      <td>0</td>\n      <td>0</td>\n      <td>0</td>\n      <td>0</td>\n      <td>0</td>\n      <td>0</td>\n      <td>0</td>\n      <td>0</td>\n      <td>0</td>\n      <td>0</td>\n      <td>0</td>\n      <td>0</td>\n      <td>0</td>\n      <td>0</td>\n      <td>0</td>\n      <td>0</td>\n      <td>0</td>\n      <td>0</td>\n      <td>0</td>\n      <td>0</td>\n      <td>0</td>\n      <td>0</td>\n      <td>0</td>\n      <td>0</td>\n      <td>0</td>\n      <td>0</td>\n      <td>0</td>\n      <td>0</td>\n      <td>0</td>\n      <td>0</td>\n      <td>1</td>\n      <td>0</td>\n      <td>0</td>\n      <td>0</td>\n      <td>0</td>\n      <td>0</td>\n      <td>0</td>\n      <td>0</td>\n      <td>0</td>\n      <td>0</td>\n      <td>0</td>\n      <td>0</td>\n      <td>0</td>\n      <td>0</td>\n      <td>0</td>\n      <td>0</td>\n      <td>0</td>\n      <td>0</td>\n      <td>0</td>\n      <td>0</td>\n      <td>0</td>\n      <td>0</td>\n      <td>0</td>\n      <td>1</td>\n      <td>0</td>\n      <td>0</td>\n      <td>0</td>\n      <td>0</td>\n      <td>0</td>\n      <td>0</td>\n      <td>0</td>\n      <td>0</td>\n      <td>0</td>\n      <td>0</td>\n      <td>0</td>\n      <td>0</td>\n      <td>0</td>\n      <td>0</td>\n      <td>0</td>\n      <td>0</td>\n      <td>0</td>\n      <td>0</td>\n      <td>0</td>\n      <td>0</td>\n      <td>0</td>\n      <td>0</td>\n      <td>0</td>\n      <td>0</td>\n      <td>0</td>\n      <td>0</td>\n      <td>0</td>\n      <td>0</td>\n      <td>0</td>\n      <td>0</td>\n      <td>0</td>\n      <td>0</td>\n      <td>0</td>\n      <td>0</td>\n      <td>0</td>\n      <td>0</td>\n      <td>0</td>\n      <td>0</td>\n      <td>0</td>\n      <td>0</td>\n      <td>0</td>\n      <td>0</td>\n      <td>0</td>\n      <td>0</td>\n      <td>1</td>\n      <td>0</td>\n      <td>0</td>\n      <td>0</td>\n      <td>0</td>\n      <td>0</td>\n      <td>0</td>\n      <td>0</td>\n      <td>0</td>\n      <td>0</td>\n      <td>0</td>\n      <td>0</td>\n      <td>0</td>\n      <td>0</td>\n      <td>0</td>\n      <td>0</td>\n      <td>0</td>\n      <td>0</td>\n      <td>0</td>\n      <td>0</td>\n      <td>0</td>\n      <td>0</td>\n      <td>0</td>\n      <td>0</td>\n      <td>0</td>\n      <td>0</td>\n      <td>0</td>\n      <td>0</td>\n      <td>0</td>\n      <td>0</td>\n      <td>0</td>\n    </tr>\n    <tr>\n      <th>4</th>\n      <td>0</td>\n      <td>0</td>\n      <td>0</td>\n      <td>0</td>\n      <td>0</td>\n      <td>0</td>\n      <td>0</td>\n      <td>0</td>\n      <td>0</td>\n      <td>0</td>\n      <td>0</td>\n      <td>0</td>\n      <td>0</td>\n      <td>0</td>\n      <td>0</td>\n      <td>0</td>\n      <td>0</td>\n      <td>0</td>\n      <td>0</td>\n      <td>0</td>\n      <td>0</td>\n      <td>0</td>\n      <td>0</td>\n      <td>0</td>\n      <td>0</td>\n      <td>0</td>\n      <td>0</td>\n      <td>0</td>\n      <td>0</td>\n      <td>0</td>\n      <td>0</td>\n      <td>0</td>\n      <td>0</td>\n      <td>0</td>\n      <td>0</td>\n      <td>0</td>\n      <td>0</td>\n      <td>0</td>\n      <td>0</td>\n      <td>0</td>\n      <td>0</td>\n      <td>0</td>\n      <td>0</td>\n      <td>0</td>\n      <td>0</td>\n      <td>0</td>\n      <td>0</td>\n      <td>0</td>\n      <td>0</td>\n      <td>0</td>\n      <td>0</td>\n      <td>0</td>\n      <td>0</td>\n      <td>0</td>\n      <td>0</td>\n      <td>1</td>\n      <td>0</td>\n      <td>0</td>\n      <td>0</td>\n      <td>0</td>\n      <td>0</td>\n      <td>0</td>\n      <td>0</td>\n      <td>0</td>\n      <td>0</td>\n      <td>0</td>\n      <td>0</td>\n      <td>0</td>\n      <td>0</td>\n      <td>0</td>\n      <td>0</td>\n      <td>0</td>\n      <td>0</td>\n      <td>1</td>\n      <td>0</td>\n      <td>0</td>\n      <td>0</td>\n      <td>0</td>\n      <td>0</td>\n      <td>0</td>\n      <td>0</td>\n      <td>0</td>\n      <td>0</td>\n      <td>0</td>\n      <td>0</td>\n      <td>0</td>\n      <td>0</td>\n      <td>0</td>\n      <td>0</td>\n      <td>0</td>\n      <td>0</td>\n      <td>0</td>\n      <td>0</td>\n      <td>0</td>\n      <td>0</td>\n      <td>0</td>\n      <td>0</td>\n      <td>0</td>\n      <td>0</td>\n      <td>0</td>\n      <td>1</td>\n      <td>0</td>\n      <td>0</td>\n      <td>0</td>\n      <td>0</td>\n      <td>0</td>\n      <td>0</td>\n      <td>0</td>\n      <td>0</td>\n      <td>0</td>\n      <td>0</td>\n      <td>0</td>\n      <td>0</td>\n      <td>0</td>\n      <td>0</td>\n      <td>0</td>\n      <td>0</td>\n      <td>0</td>\n      <td>0</td>\n      <td>0</td>\n      <td>0</td>\n      <td>0</td>\n      <td>0</td>\n      <td>0</td>\n      <td>0</td>\n      <td>0</td>\n      <td>0</td>\n      <td>0</td>\n      <td>0</td>\n      <td>0</td>\n      <td>0</td>\n    </tr>\n  </tbody>\n</table>\n</div>"
          },
          "metadata": {}
        }
      ]
    },
    {
      "cell_type": "code",
      "source": [
        "y_encoded = pd.get_dummies(y)\n",
        "print(y_encoded.shape)\n",
        "y_encoded.head()"
      ],
      "metadata": {
        "execution": {
          "iopub.status.busy": "2024-06-18T04:26:43.698871Z",
          "iopub.execute_input": "2024-06-18T04:26:43.699167Z",
          "iopub.status.idle": "2024-06-18T04:26:43.734864Z",
          "shell.execute_reply.started": "2024-06-18T04:26:43.699144Z",
          "shell.execute_reply": "2024-06-18T04:26:43.73397Z"
        },
        "trusted": true,
        "id": "HZCLnrh6mw3x",
        "outputId": "084998f7-117a-416f-c6d3-14e6e80383f9"
      },
      "execution_count": null,
      "outputs": [
        {
          "name": "stdout",
          "text": "(4920, 41)\n",
          "output_type": "stream"
        },
        {
          "execution_count": 21,
          "output_type": "execute_result",
          "data": {
            "text/plain": "   (vertigo) Paroymsal  Positional Vertigo   AIDS   Acne  Alcoholic hepatitis  \\\n0                                    False  False  False                False   \n1                                    False  False  False                False   \n2                                    False  False  False                False   \n3                                    False  False  False                False   \n4                                    False  False  False                False   \n\n   Allergy  Arthritis  Bronchial Asthma  Cervical spondylosis  Chicken pox  \\\n0    False      False             False                 False        False   \n1    False      False             False                 False        False   \n2    False      False             False                 False        False   \n3    False      False             False                 False        False   \n4    False      False             False                 False        False   \n\n   Chronic cholestasis  Common Cold  Dengue  Diabetes   \\\n0                False        False   False      False   \n1                False        False   False      False   \n2                False        False   False      False   \n3                False        False   False      False   \n4                False        False   False      False   \n\n   Dimorphic hemmorhoids(piles)  Drug Reaction  Fungal infection   GERD  \\\n0                         False          False              True  False   \n1                         False          False              True  False   \n2                         False          False              True  False   \n3                         False          False              True  False   \n4                         False          False              True  False   \n\n   Gastroenteritis  Heart attack  Hepatitis B  Hepatitis C  Hepatitis D  \\\n0            False         False        False        False        False   \n1            False         False        False        False        False   \n2            False         False        False        False        False   \n3            False         False        False        False        False   \n4            False         False        False        False        False   \n\n   Hepatitis E  Hypertension   Hyperthyroidism  Hypoglycemia  Hypothyroidism  \\\n0        False          False            False         False           False   \n1        False          False            False         False           False   \n2        False          False            False         False           False   \n3        False          False            False         False           False   \n4        False          False            False         False           False   \n\n   Impetigo  Jaundice  Malaria  Migraine  Osteoarthristis  \\\n0     False     False    False     False            False   \n1     False     False    False     False            False   \n2     False     False    False     False            False   \n3     False     False    False     False            False   \n4     False     False    False     False            False   \n\n   Paralysis (brain hemorrhage)  Peptic ulcer diseae  Pneumonia  Psoriasis  \\\n0                         False                False      False      False   \n1                         False                False      False      False   \n2                         False                False      False      False   \n3                         False                False      False      False   \n4                         False                False      False      False   \n\n   Tuberculosis  Typhoid  Urinary tract infection  Varicose veins  hepatitis A  \n0         False    False                    False           False        False  \n1         False    False                    False           False        False  \n2         False    False                    False           False        False  \n3         False    False                    False           False        False  \n4         False    False                    False           False        False  ",
            "text/html": "<div>\n<style scoped>\n    .dataframe tbody tr th:only-of-type {\n        vertical-align: middle;\n    }\n\n    .dataframe tbody tr th {\n        vertical-align: top;\n    }\n\n    .dataframe thead th {\n        text-align: right;\n    }\n</style>\n<table border=\"1\" class=\"dataframe\">\n  <thead>\n    <tr style=\"text-align: right;\">\n      <th></th>\n      <th>(vertigo) Paroymsal  Positional Vertigo</th>\n      <th>AIDS</th>\n      <th>Acne</th>\n      <th>Alcoholic hepatitis</th>\n      <th>Allergy</th>\n      <th>Arthritis</th>\n      <th>Bronchial Asthma</th>\n      <th>Cervical spondylosis</th>\n      <th>Chicken pox</th>\n      <th>Chronic cholestasis</th>\n      <th>Common Cold</th>\n      <th>Dengue</th>\n      <th>Diabetes</th>\n      <th>Dimorphic hemmorhoids(piles)</th>\n      <th>Drug Reaction</th>\n      <th>Fungal infection</th>\n      <th>GERD</th>\n      <th>Gastroenteritis</th>\n      <th>Heart attack</th>\n      <th>Hepatitis B</th>\n      <th>Hepatitis C</th>\n      <th>Hepatitis D</th>\n      <th>Hepatitis E</th>\n      <th>Hypertension</th>\n      <th>Hyperthyroidism</th>\n      <th>Hypoglycemia</th>\n      <th>Hypothyroidism</th>\n      <th>Impetigo</th>\n      <th>Jaundice</th>\n      <th>Malaria</th>\n      <th>Migraine</th>\n      <th>Osteoarthristis</th>\n      <th>Paralysis (brain hemorrhage)</th>\n      <th>Peptic ulcer diseae</th>\n      <th>Pneumonia</th>\n      <th>Psoriasis</th>\n      <th>Tuberculosis</th>\n      <th>Typhoid</th>\n      <th>Urinary tract infection</th>\n      <th>Varicose veins</th>\n      <th>hepatitis A</th>\n    </tr>\n  </thead>\n  <tbody>\n    <tr>\n      <th>0</th>\n      <td>False</td>\n      <td>False</td>\n      <td>False</td>\n      <td>False</td>\n      <td>False</td>\n      <td>False</td>\n      <td>False</td>\n      <td>False</td>\n      <td>False</td>\n      <td>False</td>\n      <td>False</td>\n      <td>False</td>\n      <td>False</td>\n      <td>False</td>\n      <td>False</td>\n      <td>True</td>\n      <td>False</td>\n      <td>False</td>\n      <td>False</td>\n      <td>False</td>\n      <td>False</td>\n      <td>False</td>\n      <td>False</td>\n      <td>False</td>\n      <td>False</td>\n      <td>False</td>\n      <td>False</td>\n      <td>False</td>\n      <td>False</td>\n      <td>False</td>\n      <td>False</td>\n      <td>False</td>\n      <td>False</td>\n      <td>False</td>\n      <td>False</td>\n      <td>False</td>\n      <td>False</td>\n      <td>False</td>\n      <td>False</td>\n      <td>False</td>\n      <td>False</td>\n    </tr>\n    <tr>\n      <th>1</th>\n      <td>False</td>\n      <td>False</td>\n      <td>False</td>\n      <td>False</td>\n      <td>False</td>\n      <td>False</td>\n      <td>False</td>\n      <td>False</td>\n      <td>False</td>\n      <td>False</td>\n      <td>False</td>\n      <td>False</td>\n      <td>False</td>\n      <td>False</td>\n      <td>False</td>\n      <td>True</td>\n      <td>False</td>\n      <td>False</td>\n      <td>False</td>\n      <td>False</td>\n      <td>False</td>\n      <td>False</td>\n      <td>False</td>\n      <td>False</td>\n      <td>False</td>\n      <td>False</td>\n      <td>False</td>\n      <td>False</td>\n      <td>False</td>\n      <td>False</td>\n      <td>False</td>\n      <td>False</td>\n      <td>False</td>\n      <td>False</td>\n      <td>False</td>\n      <td>False</td>\n      <td>False</td>\n      <td>False</td>\n      <td>False</td>\n      <td>False</td>\n      <td>False</td>\n    </tr>\n    <tr>\n      <th>2</th>\n      <td>False</td>\n      <td>False</td>\n      <td>False</td>\n      <td>False</td>\n      <td>False</td>\n      <td>False</td>\n      <td>False</td>\n      <td>False</td>\n      <td>False</td>\n      <td>False</td>\n      <td>False</td>\n      <td>False</td>\n      <td>False</td>\n      <td>False</td>\n      <td>False</td>\n      <td>True</td>\n      <td>False</td>\n      <td>False</td>\n      <td>False</td>\n      <td>False</td>\n      <td>False</td>\n      <td>False</td>\n      <td>False</td>\n      <td>False</td>\n      <td>False</td>\n      <td>False</td>\n      <td>False</td>\n      <td>False</td>\n      <td>False</td>\n      <td>False</td>\n      <td>False</td>\n      <td>False</td>\n      <td>False</td>\n      <td>False</td>\n      <td>False</td>\n      <td>False</td>\n      <td>False</td>\n      <td>False</td>\n      <td>False</td>\n      <td>False</td>\n      <td>False</td>\n    </tr>\n    <tr>\n      <th>3</th>\n      <td>False</td>\n      <td>False</td>\n      <td>False</td>\n      <td>False</td>\n      <td>False</td>\n      <td>False</td>\n      <td>False</td>\n      <td>False</td>\n      <td>False</td>\n      <td>False</td>\n      <td>False</td>\n      <td>False</td>\n      <td>False</td>\n      <td>False</td>\n      <td>False</td>\n      <td>True</td>\n      <td>False</td>\n      <td>False</td>\n      <td>False</td>\n      <td>False</td>\n      <td>False</td>\n      <td>False</td>\n      <td>False</td>\n      <td>False</td>\n      <td>False</td>\n      <td>False</td>\n      <td>False</td>\n      <td>False</td>\n      <td>False</td>\n      <td>False</td>\n      <td>False</td>\n      <td>False</td>\n      <td>False</td>\n      <td>False</td>\n      <td>False</td>\n      <td>False</td>\n      <td>False</td>\n      <td>False</td>\n      <td>False</td>\n      <td>False</td>\n      <td>False</td>\n    </tr>\n    <tr>\n      <th>4</th>\n      <td>False</td>\n      <td>False</td>\n      <td>False</td>\n      <td>False</td>\n      <td>False</td>\n      <td>False</td>\n      <td>False</td>\n      <td>False</td>\n      <td>False</td>\n      <td>False</td>\n      <td>False</td>\n      <td>False</td>\n      <td>False</td>\n      <td>False</td>\n      <td>False</td>\n      <td>True</td>\n      <td>False</td>\n      <td>False</td>\n      <td>False</td>\n      <td>False</td>\n      <td>False</td>\n      <td>False</td>\n      <td>False</td>\n      <td>False</td>\n      <td>False</td>\n      <td>False</td>\n      <td>False</td>\n      <td>False</td>\n      <td>False</td>\n      <td>False</td>\n      <td>False</td>\n      <td>False</td>\n      <td>False</td>\n      <td>False</td>\n      <td>False</td>\n      <td>False</td>\n      <td>False</td>\n      <td>False</td>\n      <td>False</td>\n      <td>False</td>\n      <td>False</td>\n    </tr>\n  </tbody>\n</table>\n</div>"
          },
          "metadata": {}
        },
        {
          "execution_count": 21,
          "output_type": "execute_result",
          "data": {
            "text/plain": "   (vertigo) Paroymsal  Positional Vertigo   AIDS   Acne  Alcoholic hepatitis  \\\n0                                    False  False  False                False   \n1                                    False  False  False                False   \n2                                    False  False  False                False   \n3                                    False  False  False                False   \n4                                    False  False  False                False   \n\n   Allergy  Arthritis  Bronchial Asthma  Cervical spondylosis  Chicken pox  \\\n0    False      False             False                 False        False   \n1    False      False             False                 False        False   \n2    False      False             False                 False        False   \n3    False      False             False                 False        False   \n4    False      False             False                 False        False   \n\n   Chronic cholestasis  Common Cold  Dengue  Diabetes   \\\n0                False        False   False      False   \n1                False        False   False      False   \n2                False        False   False      False   \n3                False        False   False      False   \n4                False        False   False      False   \n\n   Dimorphic hemmorhoids(piles)  Drug Reaction  Fungal infection   GERD  \\\n0                         False          False              True  False   \n1                         False          False              True  False   \n2                         False          False              True  False   \n3                         False          False              True  False   \n4                         False          False              True  False   \n\n   Gastroenteritis  Heart attack  Hepatitis B  Hepatitis C  Hepatitis D  \\\n0            False         False        False        False        False   \n1            False         False        False        False        False   \n2            False         False        False        False        False   \n3            False         False        False        False        False   \n4            False         False        False        False        False   \n\n   Hepatitis E  Hypertension   Hyperthyroidism  Hypoglycemia  Hypothyroidism  \\\n0        False          False            False         False           False   \n1        False          False            False         False           False   \n2        False          False            False         False           False   \n3        False          False            False         False           False   \n4        False          False            False         False           False   \n\n   Impetigo  Jaundice  Malaria  Migraine  Osteoarthristis  \\\n0     False     False    False     False            False   \n1     False     False    False     False            False   \n2     False     False    False     False            False   \n3     False     False    False     False            False   \n4     False     False    False     False            False   \n\n   Paralysis (brain hemorrhage)  Peptic ulcer diseae  Pneumonia  Psoriasis  \\\n0                         False                False      False      False   \n1                         False                False      False      False   \n2                         False                False      False      False   \n3                         False                False      False      False   \n4                         False                False      False      False   \n\n   Tuberculosis  Typhoid  Urinary tract infection  Varicose veins  hepatitis A  \n0         False    False                    False           False        False  \n1         False    False                    False           False        False  \n2         False    False                    False           False        False  \n3         False    False                    False           False        False  \n4         False    False                    False           False        False  ",
            "text/html": "<div>\n<style scoped>\n    .dataframe tbody tr th:only-of-type {\n        vertical-align: middle;\n    }\n\n    .dataframe tbody tr th {\n        vertical-align: top;\n    }\n\n    .dataframe thead th {\n        text-align: right;\n    }\n</style>\n<table border=\"1\" class=\"dataframe\">\n  <thead>\n    <tr style=\"text-align: right;\">\n      <th></th>\n      <th>(vertigo) Paroymsal  Positional Vertigo</th>\n      <th>AIDS</th>\n      <th>Acne</th>\n      <th>Alcoholic hepatitis</th>\n      <th>Allergy</th>\n      <th>Arthritis</th>\n      <th>Bronchial Asthma</th>\n      <th>Cervical spondylosis</th>\n      <th>Chicken pox</th>\n      <th>Chronic cholestasis</th>\n      <th>Common Cold</th>\n      <th>Dengue</th>\n      <th>Diabetes</th>\n      <th>Dimorphic hemmorhoids(piles)</th>\n      <th>Drug Reaction</th>\n      <th>Fungal infection</th>\n      <th>GERD</th>\n      <th>Gastroenteritis</th>\n      <th>Heart attack</th>\n      <th>Hepatitis B</th>\n      <th>Hepatitis C</th>\n      <th>Hepatitis D</th>\n      <th>Hepatitis E</th>\n      <th>Hypertension</th>\n      <th>Hyperthyroidism</th>\n      <th>Hypoglycemia</th>\n      <th>Hypothyroidism</th>\n      <th>Impetigo</th>\n      <th>Jaundice</th>\n      <th>Malaria</th>\n      <th>Migraine</th>\n      <th>Osteoarthristis</th>\n      <th>Paralysis (brain hemorrhage)</th>\n      <th>Peptic ulcer diseae</th>\n      <th>Pneumonia</th>\n      <th>Psoriasis</th>\n      <th>Tuberculosis</th>\n      <th>Typhoid</th>\n      <th>Urinary tract infection</th>\n      <th>Varicose veins</th>\n      <th>hepatitis A</th>\n    </tr>\n  </thead>\n  <tbody>\n    <tr>\n      <th>0</th>\n      <td>False</td>\n      <td>False</td>\n      <td>False</td>\n      <td>False</td>\n      <td>False</td>\n      <td>False</td>\n      <td>False</td>\n      <td>False</td>\n      <td>False</td>\n      <td>False</td>\n      <td>False</td>\n      <td>False</td>\n      <td>False</td>\n      <td>False</td>\n      <td>False</td>\n      <td>True</td>\n      <td>False</td>\n      <td>False</td>\n      <td>False</td>\n      <td>False</td>\n      <td>False</td>\n      <td>False</td>\n      <td>False</td>\n      <td>False</td>\n      <td>False</td>\n      <td>False</td>\n      <td>False</td>\n      <td>False</td>\n      <td>False</td>\n      <td>False</td>\n      <td>False</td>\n      <td>False</td>\n      <td>False</td>\n      <td>False</td>\n      <td>False</td>\n      <td>False</td>\n      <td>False</td>\n      <td>False</td>\n      <td>False</td>\n      <td>False</td>\n      <td>False</td>\n    </tr>\n    <tr>\n      <th>1</th>\n      <td>False</td>\n      <td>False</td>\n      <td>False</td>\n      <td>False</td>\n      <td>False</td>\n      <td>False</td>\n      <td>False</td>\n      <td>False</td>\n      <td>False</td>\n      <td>False</td>\n      <td>False</td>\n      <td>False</td>\n      <td>False</td>\n      <td>False</td>\n      <td>False</td>\n      <td>True</td>\n      <td>False</td>\n      <td>False</td>\n      <td>False</td>\n      <td>False</td>\n      <td>False</td>\n      <td>False</td>\n      <td>False</td>\n      <td>False</td>\n      <td>False</td>\n      <td>False</td>\n      <td>False</td>\n      <td>False</td>\n      <td>False</td>\n      <td>False</td>\n      <td>False</td>\n      <td>False</td>\n      <td>False</td>\n      <td>False</td>\n      <td>False</td>\n      <td>False</td>\n      <td>False</td>\n      <td>False</td>\n      <td>False</td>\n      <td>False</td>\n      <td>False</td>\n    </tr>\n    <tr>\n      <th>2</th>\n      <td>False</td>\n      <td>False</td>\n      <td>False</td>\n      <td>False</td>\n      <td>False</td>\n      <td>False</td>\n      <td>False</td>\n      <td>False</td>\n      <td>False</td>\n      <td>False</td>\n      <td>False</td>\n      <td>False</td>\n      <td>False</td>\n      <td>False</td>\n      <td>False</td>\n      <td>True</td>\n      <td>False</td>\n      <td>False</td>\n      <td>False</td>\n      <td>False</td>\n      <td>False</td>\n      <td>False</td>\n      <td>False</td>\n      <td>False</td>\n      <td>False</td>\n      <td>False</td>\n      <td>False</td>\n      <td>False</td>\n      <td>False</td>\n      <td>False</td>\n      <td>False</td>\n      <td>False</td>\n      <td>False</td>\n      <td>False</td>\n      <td>False</td>\n      <td>False</td>\n      <td>False</td>\n      <td>False</td>\n      <td>False</td>\n      <td>False</td>\n      <td>False</td>\n    </tr>\n    <tr>\n      <th>3</th>\n      <td>False</td>\n      <td>False</td>\n      <td>False</td>\n      <td>False</td>\n      <td>False</td>\n      <td>False</td>\n      <td>False</td>\n      <td>False</td>\n      <td>False</td>\n      <td>False</td>\n      <td>False</td>\n      <td>False</td>\n      <td>False</td>\n      <td>False</td>\n      <td>False</td>\n      <td>True</td>\n      <td>False</td>\n      <td>False</td>\n      <td>False</td>\n      <td>False</td>\n      <td>False</td>\n      <td>False</td>\n      <td>False</td>\n      <td>False</td>\n      <td>False</td>\n      <td>False</td>\n      <td>False</td>\n      <td>False</td>\n      <td>False</td>\n      <td>False</td>\n      <td>False</td>\n      <td>False</td>\n      <td>False</td>\n      <td>False</td>\n      <td>False</td>\n      <td>False</td>\n      <td>False</td>\n      <td>False</td>\n      <td>False</td>\n      <td>False</td>\n      <td>False</td>\n    </tr>\n    <tr>\n      <th>4</th>\n      <td>False</td>\n      <td>False</td>\n      <td>False</td>\n      <td>False</td>\n      <td>False</td>\n      <td>False</td>\n      <td>False</td>\n      <td>False</td>\n      <td>False</td>\n      <td>False</td>\n      <td>False</td>\n      <td>False</td>\n      <td>False</td>\n      <td>False</td>\n      <td>False</td>\n      <td>True</td>\n      <td>False</td>\n      <td>False</td>\n      <td>False</td>\n      <td>False</td>\n      <td>False</td>\n      <td>False</td>\n      <td>False</td>\n      <td>False</td>\n      <td>False</td>\n      <td>False</td>\n      <td>False</td>\n      <td>False</td>\n      <td>False</td>\n      <td>False</td>\n      <td>False</td>\n      <td>False</td>\n      <td>False</td>\n      <td>False</td>\n      <td>False</td>\n      <td>False</td>\n      <td>False</td>\n      <td>False</td>\n      <td>False</td>\n      <td>False</td>\n      <td>False</td>\n    </tr>\n  </tbody>\n</table>\n</div>"
          },
          "metadata": {}
        }
      ]
    },
    {
      "cell_type": "code",
      "source": [
        "target_index = y_encoded.columns.tolist()\n",
        "target_index"
      ],
      "metadata": {
        "execution": {
          "iopub.status.busy": "2024-06-18T04:26:43.735947Z",
          "iopub.execute_input": "2024-06-18T04:26:43.736296Z",
          "iopub.status.idle": "2024-06-18T04:26:43.743418Z",
          "shell.execute_reply.started": "2024-06-18T04:26:43.736265Z",
          "shell.execute_reply": "2024-06-18T04:26:43.742566Z"
        },
        "trusted": true,
        "id": "5oJL56vkmw3x",
        "outputId": "331623c8-2a75-4b06-8c0b-ddc0b010471c"
      },
      "execution_count": null,
      "outputs": [
        {
          "execution_count": 22,
          "output_type": "execute_result",
          "data": {
            "text/plain": "['(vertigo) Paroymsal  Positional Vertigo',\n 'AIDS',\n 'Acne',\n 'Alcoholic hepatitis',\n 'Allergy',\n 'Arthritis',\n 'Bronchial Asthma',\n 'Cervical spondylosis',\n 'Chicken pox',\n 'Chronic cholestasis',\n 'Common Cold',\n 'Dengue',\n 'Diabetes ',\n 'Dimorphic hemmorhoids(piles)',\n 'Drug Reaction',\n 'Fungal infection',\n 'GERD',\n 'Gastroenteritis',\n 'Heart attack',\n 'Hepatitis B',\n 'Hepatitis C',\n 'Hepatitis D',\n 'Hepatitis E',\n 'Hypertension ',\n 'Hyperthyroidism',\n 'Hypoglycemia',\n 'Hypothyroidism',\n 'Impetigo',\n 'Jaundice',\n 'Malaria',\n 'Migraine',\n 'Osteoarthristis',\n 'Paralysis (brain hemorrhage)',\n 'Peptic ulcer diseae',\n 'Pneumonia',\n 'Psoriasis',\n 'Tuberculosis',\n 'Typhoid',\n 'Urinary tract infection',\n 'Varicose veins',\n 'hepatitis A']"
          },
          "metadata": {}
        }
      ]
    },
    {
      "cell_type": "markdown",
      "source": [
        "## Modelling"
      ],
      "metadata": {
        "id": "6KTqRM1Bmw3x"
      }
    },
    {
      "cell_type": "code",
      "source": [
        "X_train, X_test, y_train, y_test = train_test_split(X, y_encoded, test_size = 0.25, random_state=42)\n",
        "X_eval, X_test, y_eval, y_test = train_test_split(X_test, y_test, test_size=0.5, random_state=42)"
      ],
      "metadata": {
        "execution": {
          "iopub.status.busy": "2024-06-18T04:26:43.744492Z",
          "iopub.execute_input": "2024-06-18T04:26:43.744908Z",
          "iopub.status.idle": "2024-06-18T04:26:43.760621Z",
          "shell.execute_reply.started": "2024-06-18T04:26:43.744877Z",
          "shell.execute_reply": "2024-06-18T04:26:43.760007Z"
        },
        "trusted": true,
        "id": "_M2xqwvCmw3y"
      },
      "execution_count": null,
      "outputs": []
    },
    {
      "cell_type": "code",
      "source": [
        "X_train_tensor = tf.convert_to_tensor(X_train.values, dtype=tf.float32)\n",
        "X_test_tensor = tf.convert_to_tensor(X_test.values, dtype=tf.float32)\n",
        "X_eval_tensor = tf.convert_to_tensor(X_eval.values, dtype=tf.float32)\n",
        "y_train_tensor = tf.convert_to_tensor(y_train, dtype=tf.float64)\n",
        "y_test_tensor = tf.convert_to_tensor(y_test, dtype=tf.float64)\n",
        "y_eval_tensor = tf.convert_to_tensor(y_eval, dtype=tf.float64)"
      ],
      "metadata": {
        "execution": {
          "iopub.status.busy": "2024-06-18T04:26:43.761814Z",
          "iopub.execute_input": "2024-06-18T04:26:43.762143Z",
          "iopub.status.idle": "2024-06-18T04:26:43.943742Z",
          "shell.execute_reply.started": "2024-06-18T04:26:43.762114Z",
          "shell.execute_reply": "2024-06-18T04:26:43.942996Z"
        },
        "trusted": true,
        "id": "Kj0828xGmw3y"
      },
      "execution_count": null,
      "outputs": []
    },
    {
      "cell_type": "code",
      "source": [
        "X_train_tensor"
      ],
      "metadata": {
        "execution": {
          "iopub.status.busy": "2024-06-18T04:26:43.944979Z",
          "iopub.execute_input": "2024-06-18T04:26:43.945608Z",
          "iopub.status.idle": "2024-06-18T04:26:43.953349Z",
          "shell.execute_reply.started": "2024-06-18T04:26:43.945571Z",
          "shell.execute_reply": "2024-06-18T04:26:43.952591Z"
        },
        "trusted": true,
        "id": "ZZLI6Tyjmw3y",
        "outputId": "df19e38b-acea-4d94-a923-4458fc30f2c1"
      },
      "execution_count": null,
      "outputs": [
        {
          "execution_count": 25,
          "output_type": "execute_result",
          "data": {
            "text/plain": "<tf.Tensor: shape=(3690, 131), dtype=float32, numpy=\narray([[0., 0., 0., ..., 0., 1., 1.],\n       [1., 0., 0., ..., 0., 1., 1.],\n       [0., 0., 0., ..., 0., 0., 0.],\n       ...,\n       [0., 0., 0., ..., 0., 0., 0.],\n       [0., 0., 0., ..., 0., 0., 0.],\n       [0., 0., 0., ..., 0., 0., 0.]], dtype=float32)>"
          },
          "metadata": {}
        }
      ]
    },
    {
      "cell_type": "code",
      "source": [
        "# with tf.device('/GPU:0'):\n",
        "#     model = keras.Sequential([\n",
        "#         layers.Input(shape=(X_train_tensor.shape[1],)),\n",
        "#         layers.Dense(160, activation='relu'),\n",
        "#         layers.Dropout(0.1),\n",
        "#         layers.Dense(200, activation='relu'),\n",
        "#         layers.Dropout(0.2),\n",
        "#         layers.Dense(240, activation='tanh'),\n",
        "#         layers.BatchNormalization(),\n",
        "#         layers.Dense(240, activation='tanh'),\n",
        "#         layers.Dropout(0.2),\n",
        "#         layers.Dense(200, activation='relu'),\n",
        "#         layers.Dropout(0.1),\n",
        "#         layers.Dense(160, activation='relu'),\n",
        "#         layers.Dense(y_train_tensor.shape[1], activation='softmax')])\n",
        "\n",
        "#     model.compile(optimizer= 'adam', loss='categorical_crossentropy', metrics=['accuracy'])\n",
        "#     early_stopping = EarlyStopping(monitor='val_accuracy', patience=4, mode='max')\n",
        "#     history = model.fit(X_train_tensor, y_train_tensor, epochs=500, callbacks=[early_stopping],\n",
        "#                 batch_size=16, validation_data=(X_eval_tensor, y_eval_tensor))"
      ],
      "metadata": {
        "execution": {
          "iopub.status.busy": "2024-06-18T04:26:43.954369Z",
          "iopub.execute_input": "2024-06-18T04:26:43.954622Z",
          "iopub.status.idle": "2024-06-18T04:26:43.961504Z",
          "shell.execute_reply.started": "2024-06-18T04:26:43.954601Z",
          "shell.execute_reply": "2024-06-18T04:26:43.960737Z"
        },
        "trusted": true,
        "id": "1BxpqKefmw3y"
      },
      "execution_count": null,
      "outputs": []
    },
    {
      "cell_type": "code",
      "source": [
        "with tf.device('/GPU:0'):\n",
        "    model = keras.Sequential([\n",
        "        layers.Input(shape=(X_train_tensor.shape[1],)),\n",
        "        layers.Dense(160, activation='relu'),\n",
        "        layers.Dropout(0.2),\n",
        "        layers.Dense(200, activation='relu'),\n",
        "        layers.BatchNormalization(),\n",
        "        layers.Dropout(0.2),\n",
        "        layers.Dense(160, activation='relu'),\n",
        "        layers.Dense(y_train_tensor.shape[1], activation='softmax')\n",
        "    ])\n",
        "\n",
        "    model.compile(optimizer='adam', loss='categorical_crossentropy', metrics=['accuracy'])\n",
        "\n",
        "    early_stopping = EarlyStopping(monitor='val_accuracy', patience=4, mode='max')\n",
        "\n",
        "    history = model.fit(X_train_tensor, y_train_tensor, epochs=500, callbacks=[early_stopping],\n",
        "                        batch_size=16, validation_data=(X_eval_tensor, y_eval_tensor))"
      ],
      "metadata": {
        "execution": {
          "iopub.status.busy": "2024-06-18T04:26:43.962498Z",
          "iopub.execute_input": "2024-06-18T04:26:43.962795Z",
          "iopub.status.idle": "2024-06-18T04:26:48.703404Z",
          "shell.execute_reply.started": "2024-06-18T04:26:43.962772Z",
          "shell.execute_reply": "2024-06-18T04:26:48.702556Z"
        },
        "trusted": true,
        "id": "FekdYm7ymw3y",
        "outputId": "99f077fc-1b4b-4f3f-e9b9-d5679a95a55d"
      },
      "execution_count": null,
      "outputs": [
        {
          "name": "stdout",
          "text": "Epoch 1/500\n231/231 [==============================] - 2s 3ms/step - loss: 0.4978 - accuracy: 0.9144 - val_loss: 0.5276 - val_accuracy: 1.0000\nEpoch 2/500\n231/231 [==============================] - 1s 3ms/step - loss: 0.0131 - accuracy: 1.0000 - val_loss: 0.0032 - val_accuracy: 1.0000\nEpoch 3/500\n231/231 [==============================] - 1s 2ms/step - loss: 0.0071 - accuracy: 0.9995 - val_loss: 1.4826e-04 - val_accuracy: 1.0000\nEpoch 4/500\n231/231 [==============================] - 1s 2ms/step - loss: 0.0026 - accuracy: 1.0000 - val_loss: 6.4394e-05 - val_accuracy: 1.0000\nEpoch 5/500\n231/231 [==============================] - 1s 2ms/step - loss: 0.0020 - accuracy: 1.0000 - val_loss: 3.3630e-05 - val_accuracy: 1.0000\n",
          "output_type": "stream"
        }
      ]
    },
    {
      "cell_type": "code",
      "source": [
        "model.evaluate(X_test_tensor, y_test_tensor)"
      ],
      "metadata": {
        "execution": {
          "iopub.status.busy": "2024-06-18T04:26:48.70941Z",
          "iopub.execute_input": "2024-06-18T04:26:48.709967Z",
          "iopub.status.idle": "2024-06-18T04:26:48.809689Z",
          "shell.execute_reply.started": "2024-06-18T04:26:48.70994Z",
          "shell.execute_reply": "2024-06-18T04:26:48.808817Z"
        },
        "trusted": true,
        "id": "KX2MaywHmw3y",
        "outputId": "5a7645bf-72c9-41a9-e95e-e12d56e5d73d"
      },
      "execution_count": null,
      "outputs": [
        {
          "name": "stdout",
          "text": "20/20 [==============================] - 0s 1ms/step - loss: 2.7259e-05 - accuracy: 1.0000\n",
          "output_type": "stream"
        },
        {
          "execution_count": 28,
          "output_type": "execute_result",
          "data": {
            "text/plain": "[2.7258591217105277e-05, 1.0]"
          },
          "metadata": {}
        }
      ]
    },
    {
      "cell_type": "markdown",
      "source": [
        "## Testing"
      ],
      "metadata": {
        "id": "STnIek9emw3z"
      }
    },
    {
      "cell_type": "markdown",
      "source": [
        "### Manual Test"
      ],
      "metadata": {
        "id": "KYH8qkFTmw3z"
      }
    },
    {
      "cell_type": "code",
      "source": [
        "# If you remember in the first model, we took a row from the origial data to test the model\n",
        "# We aren't going to do this here, let's REALLY test it\n",
        "user_input = ['stomach_pain','acidity','chest_pain'] # This should be GERD\n",
        "\n",
        "original_data = df_encoded.copy()\n",
        "\n",
        "# We will change the strip_to_basic_tokens function just a little bit to be able to deal with the user input\n",
        "def strip_to_basic_tokens(symptoms):\n",
        "    symptoms = [symptom.strip().lower().replace(' ', '_').replace('_', ' ') for symptom in symptoms]\n",
        "    return [re.sub(r'\\s+', ' ', symptom) for symptom in symptoms]\n",
        "# Apply strip_to_basic_tokens function to user input\n",
        "user_input_stripped = strip_to_basic_tokens(user_input)\n",
        "\n",
        "# Initialize MultiLabelBinarizer with all symptoms\n",
        "mlb = MultiLabelBinarizer(classes=df_encoded.columns)\n",
        "\n",
        "# Fit and transform user input\n",
        "user_input_encoded = pd.DataFrame(mlb.fit_transform([user_input_stripped]), columns=mlb.classes_)\n",
        "\n",
        "# Concatenate user input with original data\n",
        "final_user_input = pd.concat([pd.DataFrame(columns=original_data.columns), user_input_encoded], axis=0)\n",
        "final_user_input = final_user_input.drop(['Disease'],axis = 1)\n",
        "# Print the final user input shape\n",
        "final_user_input.head()"
      ],
      "metadata": {
        "execution": {
          "iopub.status.busy": "2024-06-18T04:26:48.810958Z",
          "iopub.execute_input": "2024-06-18T04:26:48.811324Z",
          "iopub.status.idle": "2024-06-18T04:26:49.3668Z",
          "shell.execute_reply.started": "2024-06-18T04:26:48.811291Z",
          "shell.execute_reply": "2024-06-18T04:26:49.365907Z"
        },
        "trusted": true,
        "id": "edwQqGo1mw3z",
        "outputId": "ea7dc544-c684-4939-c60d-3f8c74b69ab8"
      },
      "execution_count": null,
      "outputs": [
        {
          "execution_count": 29,
          "output_type": "execute_result",
          "data": {
            "text/plain": "  abdominal pain abnormal menstruation acidity acute liver failure  \\\n0              0                     0       1                   0   \n\n  altered sensorium anxiety back pain belly pain blackheads  \\\n0                 0       0         0          0          0   \n\n  bladder discomfort blister blood in sputum bloody stool  \\\n0                  0       0               0            0   \n\n  blurred and distorted vision breathlessness brittle nails bruising  \\\n0                            0              0             0        0   \n\n  burning micturition chest pain chills cold hands and feets coma congestion  \\\n0                   0          1      0                    0    0          0   \n\n  constipation continuous feel of urine continuous sneezing cough cramps  \\\n0            0                        0                   0     0      0   \n\n  dark urine dehydration depression diarrhoea dischromic patches  \\\n0          0           0          0         0                  0   \n\n  distention of abdomen dizziness drying and tingling lips enlarged thyroid  \\\n0                     0         0                        0                0   \n\n  excessive hunger extra marital contacts family history fast heart rate  \\\n0                0                      0              0               0   \n\n  fatigue fluid overload foul smell of urine headache high fever  \\\n0       0              0                   0        0          0   \n\n  hip joint pain history of alcohol consumption increased appetite  \\\n0              0                              0                  0   \n\n  indigestion inflammatory nails internal itching irregular sugar level  \\\n0           0                  0                0                     0   \n\n  irritability irritation in anus itching joint pain knee pain  \\\n0            0                  0       0          0         0   \n\n  lack of concentration lethargy loss of appetite loss of balance  \\\n0                     0        0                0               0   \n\n  loss of smell malaise mild fever mood swings movement stiffness  \\\n0             0       0          0           0                  0   \n\n  mucoid sputum muscle pain muscle wasting muscle weakness nausea neck pain  \\\n0             0           0              0               0      0         0   \n\n  nodal skin eruptions obesity pain behind the eyes  \\\n0                    0       0                    0   \n\n  pain during bowel movements pain in anal region painful walking  \\\n0                           0                   0               0   \n\n  palpitations passage of gases patches in throat phlegm polyuria  \\\n0            0                0                 0      0        0   \n\n  prominent veins on calf puffy face and eyes pus filled pimples  \\\n0                       0                   0                  0   \n\n  receiving blood transfusion receiving unsterile injections  \\\n0                           0                              0   \n\n  red sore around nose red spots over body redness of eyes restlessness  \\\n0                    0                   0               0            0   \n\n  runny nose rusty sputum scurring shivering silver like dusting  \\\n0          0            0        0         0                   0   \n\n  sinus pressure skin peeling skin rash slurred speech small dents in nails  \\\n0              0            0         0              0                    0   \n\n  spinning movements spotting urination stiff neck stomach bleeding  \\\n0                  0                  0          0                0   \n\n  stomach pain sunken eyes sweating swelled lymph nodes swelling joints  \\\n0            1           0        0                   0               0   \n\n  swelling of stomach swollen blood vessels swollen extremeties swollen legs  \\\n0                   0                     0                   0            0   \n\n  throat irritation toxic look (typhos) ulcers on tongue unsteadiness  \\\n0                 0                   0                0            0   \n\n  visual disturbances vomiting watering from eyes weakness in limbs  \\\n0                   0        0                  0                 0   \n\n  weakness of one body side weight gain weight loss yellow crust ooze  \\\n0                         0           0           0                 0   \n\n  yellow urine yellowing of eyes yellowish skin  \n0            0                 0              0  ",
            "text/html": "<div>\n<style scoped>\n    .dataframe tbody tr th:only-of-type {\n        vertical-align: middle;\n    }\n\n    .dataframe tbody tr th {\n        vertical-align: top;\n    }\n\n    .dataframe thead th {\n        text-align: right;\n    }\n</style>\n<table border=\"1\" class=\"dataframe\">\n  <thead>\n    <tr style=\"text-align: right;\">\n      <th></th>\n      <th>abdominal pain</th>\n      <th>abnormal menstruation</th>\n      <th>acidity</th>\n      <th>acute liver failure</th>\n      <th>altered sensorium</th>\n      <th>anxiety</th>\n      <th>back pain</th>\n      <th>belly pain</th>\n      <th>blackheads</th>\n      <th>bladder discomfort</th>\n      <th>blister</th>\n      <th>blood in sputum</th>\n      <th>bloody stool</th>\n      <th>blurred and distorted vision</th>\n      <th>breathlessness</th>\n      <th>brittle nails</th>\n      <th>bruising</th>\n      <th>burning micturition</th>\n      <th>chest pain</th>\n      <th>chills</th>\n      <th>cold hands and feets</th>\n      <th>coma</th>\n      <th>congestion</th>\n      <th>constipation</th>\n      <th>continuous feel of urine</th>\n      <th>continuous sneezing</th>\n      <th>cough</th>\n      <th>cramps</th>\n      <th>dark urine</th>\n      <th>dehydration</th>\n      <th>depression</th>\n      <th>diarrhoea</th>\n      <th>dischromic patches</th>\n      <th>distention of abdomen</th>\n      <th>dizziness</th>\n      <th>drying and tingling lips</th>\n      <th>enlarged thyroid</th>\n      <th>excessive hunger</th>\n      <th>extra marital contacts</th>\n      <th>family history</th>\n      <th>fast heart rate</th>\n      <th>fatigue</th>\n      <th>fluid overload</th>\n      <th>foul smell of urine</th>\n      <th>headache</th>\n      <th>high fever</th>\n      <th>hip joint pain</th>\n      <th>history of alcohol consumption</th>\n      <th>increased appetite</th>\n      <th>indigestion</th>\n      <th>inflammatory nails</th>\n      <th>internal itching</th>\n      <th>irregular sugar level</th>\n      <th>irritability</th>\n      <th>irritation in anus</th>\n      <th>itching</th>\n      <th>joint pain</th>\n      <th>knee pain</th>\n      <th>lack of concentration</th>\n      <th>lethargy</th>\n      <th>loss of appetite</th>\n      <th>loss of balance</th>\n      <th>loss of smell</th>\n      <th>malaise</th>\n      <th>mild fever</th>\n      <th>mood swings</th>\n      <th>movement stiffness</th>\n      <th>mucoid sputum</th>\n      <th>muscle pain</th>\n      <th>muscle wasting</th>\n      <th>muscle weakness</th>\n      <th>nausea</th>\n      <th>neck pain</th>\n      <th>nodal skin eruptions</th>\n      <th>obesity</th>\n      <th>pain behind the eyes</th>\n      <th>pain during bowel movements</th>\n      <th>pain in anal region</th>\n      <th>painful walking</th>\n      <th>palpitations</th>\n      <th>passage of gases</th>\n      <th>patches in throat</th>\n      <th>phlegm</th>\n      <th>polyuria</th>\n      <th>prominent veins on calf</th>\n      <th>puffy face and eyes</th>\n      <th>pus filled pimples</th>\n      <th>receiving blood transfusion</th>\n      <th>receiving unsterile injections</th>\n      <th>red sore around nose</th>\n      <th>red spots over body</th>\n      <th>redness of eyes</th>\n      <th>restlessness</th>\n      <th>runny nose</th>\n      <th>rusty sputum</th>\n      <th>scurring</th>\n      <th>shivering</th>\n      <th>silver like dusting</th>\n      <th>sinus pressure</th>\n      <th>skin peeling</th>\n      <th>skin rash</th>\n      <th>slurred speech</th>\n      <th>small dents in nails</th>\n      <th>spinning movements</th>\n      <th>spotting urination</th>\n      <th>stiff neck</th>\n      <th>stomach bleeding</th>\n      <th>stomach pain</th>\n      <th>sunken eyes</th>\n      <th>sweating</th>\n      <th>swelled lymph nodes</th>\n      <th>swelling joints</th>\n      <th>swelling of stomach</th>\n      <th>swollen blood vessels</th>\n      <th>swollen extremeties</th>\n      <th>swollen legs</th>\n      <th>throat irritation</th>\n      <th>toxic look (typhos)</th>\n      <th>ulcers on tongue</th>\n      <th>unsteadiness</th>\n      <th>visual disturbances</th>\n      <th>vomiting</th>\n      <th>watering from eyes</th>\n      <th>weakness in limbs</th>\n      <th>weakness of one body side</th>\n      <th>weight gain</th>\n      <th>weight loss</th>\n      <th>yellow crust ooze</th>\n      <th>yellow urine</th>\n      <th>yellowing of eyes</th>\n      <th>yellowish skin</th>\n    </tr>\n  </thead>\n  <tbody>\n    <tr>\n      <th>0</th>\n      <td>0</td>\n      <td>0</td>\n      <td>1</td>\n      <td>0</td>\n      <td>0</td>\n      <td>0</td>\n      <td>0</td>\n      <td>0</td>\n      <td>0</td>\n      <td>0</td>\n      <td>0</td>\n      <td>0</td>\n      <td>0</td>\n      <td>0</td>\n      <td>0</td>\n      <td>0</td>\n      <td>0</td>\n      <td>0</td>\n      <td>1</td>\n      <td>0</td>\n      <td>0</td>\n      <td>0</td>\n      <td>0</td>\n      <td>0</td>\n      <td>0</td>\n      <td>0</td>\n      <td>0</td>\n      <td>0</td>\n      <td>0</td>\n      <td>0</td>\n      <td>0</td>\n      <td>0</td>\n      <td>0</td>\n      <td>0</td>\n      <td>0</td>\n      <td>0</td>\n      <td>0</td>\n      <td>0</td>\n      <td>0</td>\n      <td>0</td>\n      <td>0</td>\n      <td>0</td>\n      <td>0</td>\n      <td>0</td>\n      <td>0</td>\n      <td>0</td>\n      <td>0</td>\n      <td>0</td>\n      <td>0</td>\n      <td>0</td>\n      <td>0</td>\n      <td>0</td>\n      <td>0</td>\n      <td>0</td>\n      <td>0</td>\n      <td>0</td>\n      <td>0</td>\n      <td>0</td>\n      <td>0</td>\n      <td>0</td>\n      <td>0</td>\n      <td>0</td>\n      <td>0</td>\n      <td>0</td>\n      <td>0</td>\n      <td>0</td>\n      <td>0</td>\n      <td>0</td>\n      <td>0</td>\n      <td>0</td>\n      <td>0</td>\n      <td>0</td>\n      <td>0</td>\n      <td>0</td>\n      <td>0</td>\n      <td>0</td>\n      <td>0</td>\n      <td>0</td>\n      <td>0</td>\n      <td>0</td>\n      <td>0</td>\n      <td>0</td>\n      <td>0</td>\n      <td>0</td>\n      <td>0</td>\n      <td>0</td>\n      <td>0</td>\n      <td>0</td>\n      <td>0</td>\n      <td>0</td>\n      <td>0</td>\n      <td>0</td>\n      <td>0</td>\n      <td>0</td>\n      <td>0</td>\n      <td>0</td>\n      <td>0</td>\n      <td>0</td>\n      <td>0</td>\n      <td>0</td>\n      <td>0</td>\n      <td>0</td>\n      <td>0</td>\n      <td>0</td>\n      <td>0</td>\n      <td>0</td>\n      <td>0</td>\n      <td>1</td>\n      <td>0</td>\n      <td>0</td>\n      <td>0</td>\n      <td>0</td>\n      <td>0</td>\n      <td>0</td>\n      <td>0</td>\n      <td>0</td>\n      <td>0</td>\n      <td>0</td>\n      <td>0</td>\n      <td>0</td>\n      <td>0</td>\n      <td>0</td>\n      <td>0</td>\n      <td>0</td>\n      <td>0</td>\n      <td>0</td>\n      <td>0</td>\n      <td>0</td>\n      <td>0</td>\n      <td>0</td>\n      <td>0</td>\n    </tr>\n  </tbody>\n</table>\n</div>"
          },
          "metadata": {}
        }
      ]
    },
    {
      "cell_type": "code",
      "source": [
        "user_tensor = tf.convert_to_tensor(final_user_input.values, dtype=tf.float32)\n",
        "user_tensor[0]"
      ],
      "metadata": {
        "execution": {
          "iopub.status.busy": "2024-06-18T04:26:49.367888Z",
          "iopub.execute_input": "2024-06-18T04:26:49.368147Z",
          "iopub.status.idle": "2024-06-18T04:26:49.378521Z",
          "shell.execute_reply.started": "2024-06-18T04:26:49.368117Z",
          "shell.execute_reply": "2024-06-18T04:26:49.377643Z"
        },
        "trusted": true,
        "id": "IkOHMnYZmw3z",
        "outputId": "084b2fae-dcfb-4783-bee3-334ef24c3779"
      },
      "execution_count": null,
      "outputs": [
        {
          "execution_count": 30,
          "output_type": "execute_result",
          "data": {
            "text/plain": "<tf.Tensor: shape=(131,), dtype=float32, numpy=\narray([0., 0., 1., 0., 0., 0., 0., 0., 0., 0., 0., 0., 0., 0., 0., 0., 0.,\n       0., 1., 0., 0., 0., 0., 0., 0., 0., 0., 0., 0., 0., 0., 0., 0., 0.,\n       0., 0., 0., 0., 0., 0., 0., 0., 0., 0., 0., 0., 0., 0., 0., 0., 0.,\n       0., 0., 0., 0., 0., 0., 0., 0., 0., 0., 0., 0., 0., 0., 0., 0., 0.,\n       0., 0., 0., 0., 0., 0., 0., 0., 0., 0., 0., 0., 0., 0., 0., 0., 0.,\n       0., 0., 0., 0., 0., 0., 0., 0., 0., 0., 0., 0., 0., 0., 0., 0., 0.,\n       0., 0., 0., 0., 0., 1., 0., 0., 0., 0., 0., 0., 0., 0., 0., 0., 0.,\n       0., 0., 0., 0., 0., 0., 0., 0., 0., 0., 0., 0.], dtype=float32)>"
          },
          "metadata": {}
        }
      ]
    },
    {
      "cell_type": "code",
      "source": [
        "predict_proba = model.predict(user_tensor)\n",
        "predicted_class_index = np.argmax(predict_proba)\n",
        "prediction = target_index[predicted_class_index]\n",
        "# inverse_label_encoding = {v: k for k, v in label_mapping.items()}\n",
        "# prediction = inverse_label_encoding[prediction_encode]\n",
        "prediction"
      ],
      "metadata": {
        "execution": {
          "iopub.status.busy": "2024-06-18T04:26:49.379832Z",
          "iopub.execute_input": "2024-06-18T04:26:49.380142Z",
          "iopub.status.idle": "2024-06-18T04:26:49.532061Z",
          "shell.execute_reply.started": "2024-06-18T04:26:49.380117Z",
          "shell.execute_reply": "2024-06-18T04:26:49.531211Z"
        },
        "trusted": true,
        "id": "VaLRhFbImw33",
        "outputId": "76c6a958-3342-4c7c-afc0-0058f55c9e70"
      },
      "execution_count": null,
      "outputs": [
        {
          "name": "stdout",
          "text": "1/1 [==============================] - 0s 100ms/step\n",
          "output_type": "stream"
        },
        {
          "execution_count": 31,
          "output_type": "execute_result",
          "data": {
            "text/plain": "'GERD'"
          },
          "metadata": {}
        }
      ]
    },
    {
      "cell_type": "markdown",
      "source": [
        "### User Testing"
      ],
      "metadata": {
        "id": "ocsd-dEVmw33"
      }
    },
    {
      "cell_type": "code",
      "source": [
        "# Load the user input pickle data\n",
        "data_input = pd.read_pickle('/kaggle/input/user-input/user_input.pkl')"
      ],
      "metadata": {
        "execution": {
          "iopub.status.busy": "2024-06-18T04:26:49.533275Z",
          "iopub.execute_input": "2024-06-18T04:26:49.534328Z",
          "iopub.status.idle": "2024-06-18T04:26:49.565899Z",
          "shell.execute_reply.started": "2024-06-18T04:26:49.534293Z",
          "shell.execute_reply": "2024-06-18T04:26:49.564799Z"
        },
        "trusted": true,
        "id": "3cXNfDjnmw33"
      },
      "execution_count": null,
      "outputs": []
    },
    {
      "cell_type": "code",
      "source": [
        "#Unit Test\n",
        "random_index = np.random.randint(0, len(data_input))\n",
        "\n",
        "# Use the random index to select a row from data_input\n",
        "selected_row = data_input.iloc[random_index]\n",
        "\n",
        "val_disease = selected_row.iloc[0]\n",
        "user_input = selected_row.iloc[1]\n",
        "user_input = user_input.split(',')\n",
        "user_input = [symptom.lower().strip() for symptom in user_input]\n",
        "print(user_input)\n",
        "user_input.pop()\n",
        "print(f\"\\nDisease: {val_disease}\")\n",
        "print(user_input)\n"
      ],
      "metadata": {
        "execution": {
          "iopub.status.busy": "2024-06-18T04:26:49.567701Z",
          "iopub.execute_input": "2024-06-18T04:26:49.568632Z",
          "iopub.status.idle": "2024-06-18T04:26:49.577881Z",
          "shell.execute_reply.started": "2024-06-18T04:26:49.568576Z",
          "shell.execute_reply": "2024-06-18T04:26:49.57681Z"
        },
        "trusted": true,
        "id": "EWmTObVmmw33",
        "outputId": "335a3994-3f5b-41d5-f232-195468896734"
      },
      "execution_count": null,
      "outputs": [
        {
          "name": "stdout",
          "text": "['chills', 'diarrhoea', 'headache', 'high fever', 'muscle pain', 'nausea', 'sweating', 'vomiting', 'malaria']\n\nDisease: Malaria\n['chills', 'diarrhoea', 'headache', 'high fever', 'muscle pain', 'nausea', 'sweating', 'vomiting']\n",
          "output_type": "stream"
        }
      ]
    },
    {
      "cell_type": "code",
      "source": [
        "original_data = df_encoded.copy()\n",
        "\n",
        "# Apply strip_to_basic_tokens function to user input\n",
        "user_input_stripped = strip_to_basic_tokens(user_input)\n",
        "\n",
        "# Fit and transform user input\n",
        "user_input_encoded = pd.DataFrame(mlb.fit_transform([user_input_stripped]), columns=mlb.classes_)\n",
        "\n",
        "# Concatenate user input with original data\n",
        "final_user_input = pd.concat([pd.DataFrame(columns=original_data.columns), user_input_encoded], axis=0)\n",
        "final_user_input = final_user_input.drop(['Disease'],axis = 1)\n",
        "# Print the final user input shape\n",
        "final_user_input.head()"
      ],
      "metadata": {
        "execution": {
          "iopub.status.busy": "2024-06-18T04:26:49.579765Z",
          "iopub.execute_input": "2024-06-18T04:26:49.580253Z",
          "iopub.status.idle": "2024-06-18T04:26:49.664965Z",
          "shell.execute_reply.started": "2024-06-18T04:26:49.580221Z",
          "shell.execute_reply": "2024-06-18T04:26:49.664098Z"
        },
        "trusted": true,
        "id": "EZymIUFgmw34",
        "outputId": "deb19c15-1079-47cf-981d-42003c45ba19"
      },
      "execution_count": null,
      "outputs": [
        {
          "execution_count": 34,
          "output_type": "execute_result",
          "data": {
            "text/plain": "  abdominal pain abnormal menstruation acidity acute liver failure  \\\n0              0                     0       0                   0   \n\n  altered sensorium anxiety back pain belly pain blackheads  \\\n0                 0       0         0          0          0   \n\n  bladder discomfort blister blood in sputum bloody stool  \\\n0                  0       0               0            0   \n\n  blurred and distorted vision breathlessness brittle nails bruising  \\\n0                            0              0             0        0   \n\n  burning micturition chest pain chills cold hands and feets coma congestion  \\\n0                   0          0      1                    0    0          0   \n\n  constipation continuous feel of urine continuous sneezing cough cramps  \\\n0            0                        0                   0     0      0   \n\n  dark urine dehydration depression diarrhoea dischromic patches  \\\n0          0           0          0         1                  0   \n\n  distention of abdomen dizziness drying and tingling lips enlarged thyroid  \\\n0                     0         0                        0                0   \n\n  excessive hunger extra marital contacts family history fast heart rate  \\\n0                0                      0              0               0   \n\n  fatigue fluid overload foul smell of urine headache high fever  \\\n0       0              0                   0        1          1   \n\n  hip joint pain history of alcohol consumption increased appetite  \\\n0              0                              0                  0   \n\n  indigestion inflammatory nails internal itching irregular sugar level  \\\n0           0                  0                0                     0   \n\n  irritability irritation in anus itching joint pain knee pain  \\\n0            0                  0       0          0         0   \n\n  lack of concentration lethargy loss of appetite loss of balance  \\\n0                     0        0                0               0   \n\n  loss of smell malaise mild fever mood swings movement stiffness  \\\n0             0       0          0           0                  0   \n\n  mucoid sputum muscle pain muscle wasting muscle weakness nausea neck pain  \\\n0             0           1              0               0      1         0   \n\n  nodal skin eruptions obesity pain behind the eyes  \\\n0                    0       0                    0   \n\n  pain during bowel movements pain in anal region painful walking  \\\n0                           0                   0               0   \n\n  palpitations passage of gases patches in throat phlegm polyuria  \\\n0            0                0                 0      0        0   \n\n  prominent veins on calf puffy face and eyes pus filled pimples  \\\n0                       0                   0                  0   \n\n  receiving blood transfusion receiving unsterile injections  \\\n0                           0                              0   \n\n  red sore around nose red spots over body redness of eyes restlessness  \\\n0                    0                   0               0            0   \n\n  runny nose rusty sputum scurring shivering silver like dusting  \\\n0          0            0        0         0                   0   \n\n  sinus pressure skin peeling skin rash slurred speech small dents in nails  \\\n0              0            0         0              0                    0   \n\n  spinning movements spotting urination stiff neck stomach bleeding  \\\n0                  0                  0          0                0   \n\n  stomach pain sunken eyes sweating swelled lymph nodes swelling joints  \\\n0            0           0        1                   0               0   \n\n  swelling of stomach swollen blood vessels swollen extremeties swollen legs  \\\n0                   0                     0                   0            0   \n\n  throat irritation toxic look (typhos) ulcers on tongue unsteadiness  \\\n0                 0                   0                0            0   \n\n  visual disturbances vomiting watering from eyes weakness in limbs  \\\n0                   0        1                  0                 0   \n\n  weakness of one body side weight gain weight loss yellow crust ooze  \\\n0                         0           0           0                 0   \n\n  yellow urine yellowing of eyes yellowish skin  \n0            0                 0              0  ",
            "text/html": "<div>\n<style scoped>\n    .dataframe tbody tr th:only-of-type {\n        vertical-align: middle;\n    }\n\n    .dataframe tbody tr th {\n        vertical-align: top;\n    }\n\n    .dataframe thead th {\n        text-align: right;\n    }\n</style>\n<table border=\"1\" class=\"dataframe\">\n  <thead>\n    <tr style=\"text-align: right;\">\n      <th></th>\n      <th>abdominal pain</th>\n      <th>abnormal menstruation</th>\n      <th>acidity</th>\n      <th>acute liver failure</th>\n      <th>altered sensorium</th>\n      <th>anxiety</th>\n      <th>back pain</th>\n      <th>belly pain</th>\n      <th>blackheads</th>\n      <th>bladder discomfort</th>\n      <th>blister</th>\n      <th>blood in sputum</th>\n      <th>bloody stool</th>\n      <th>blurred and distorted vision</th>\n      <th>breathlessness</th>\n      <th>brittle nails</th>\n      <th>bruising</th>\n      <th>burning micturition</th>\n      <th>chest pain</th>\n      <th>chills</th>\n      <th>cold hands and feets</th>\n      <th>coma</th>\n      <th>congestion</th>\n      <th>constipation</th>\n      <th>continuous feel of urine</th>\n      <th>continuous sneezing</th>\n      <th>cough</th>\n      <th>cramps</th>\n      <th>dark urine</th>\n      <th>dehydration</th>\n      <th>depression</th>\n      <th>diarrhoea</th>\n      <th>dischromic patches</th>\n      <th>distention of abdomen</th>\n      <th>dizziness</th>\n      <th>drying and tingling lips</th>\n      <th>enlarged thyroid</th>\n      <th>excessive hunger</th>\n      <th>extra marital contacts</th>\n      <th>family history</th>\n      <th>fast heart rate</th>\n      <th>fatigue</th>\n      <th>fluid overload</th>\n      <th>foul smell of urine</th>\n      <th>headache</th>\n      <th>high fever</th>\n      <th>hip joint pain</th>\n      <th>history of alcohol consumption</th>\n      <th>increased appetite</th>\n      <th>indigestion</th>\n      <th>inflammatory nails</th>\n      <th>internal itching</th>\n      <th>irregular sugar level</th>\n      <th>irritability</th>\n      <th>irritation in anus</th>\n      <th>itching</th>\n      <th>joint pain</th>\n      <th>knee pain</th>\n      <th>lack of concentration</th>\n      <th>lethargy</th>\n      <th>loss of appetite</th>\n      <th>loss of balance</th>\n      <th>loss of smell</th>\n      <th>malaise</th>\n      <th>mild fever</th>\n      <th>mood swings</th>\n      <th>movement stiffness</th>\n      <th>mucoid sputum</th>\n      <th>muscle pain</th>\n      <th>muscle wasting</th>\n      <th>muscle weakness</th>\n      <th>nausea</th>\n      <th>neck pain</th>\n      <th>nodal skin eruptions</th>\n      <th>obesity</th>\n      <th>pain behind the eyes</th>\n      <th>pain during bowel movements</th>\n      <th>pain in anal region</th>\n      <th>painful walking</th>\n      <th>palpitations</th>\n      <th>passage of gases</th>\n      <th>patches in throat</th>\n      <th>phlegm</th>\n      <th>polyuria</th>\n      <th>prominent veins on calf</th>\n      <th>puffy face and eyes</th>\n      <th>pus filled pimples</th>\n      <th>receiving blood transfusion</th>\n      <th>receiving unsterile injections</th>\n      <th>red sore around nose</th>\n      <th>red spots over body</th>\n      <th>redness of eyes</th>\n      <th>restlessness</th>\n      <th>runny nose</th>\n      <th>rusty sputum</th>\n      <th>scurring</th>\n      <th>shivering</th>\n      <th>silver like dusting</th>\n      <th>sinus pressure</th>\n      <th>skin peeling</th>\n      <th>skin rash</th>\n      <th>slurred speech</th>\n      <th>small dents in nails</th>\n      <th>spinning movements</th>\n      <th>spotting urination</th>\n      <th>stiff neck</th>\n      <th>stomach bleeding</th>\n      <th>stomach pain</th>\n      <th>sunken eyes</th>\n      <th>sweating</th>\n      <th>swelled lymph nodes</th>\n      <th>swelling joints</th>\n      <th>swelling of stomach</th>\n      <th>swollen blood vessels</th>\n      <th>swollen extremeties</th>\n      <th>swollen legs</th>\n      <th>throat irritation</th>\n      <th>toxic look (typhos)</th>\n      <th>ulcers on tongue</th>\n      <th>unsteadiness</th>\n      <th>visual disturbances</th>\n      <th>vomiting</th>\n      <th>watering from eyes</th>\n      <th>weakness in limbs</th>\n      <th>weakness of one body side</th>\n      <th>weight gain</th>\n      <th>weight loss</th>\n      <th>yellow crust ooze</th>\n      <th>yellow urine</th>\n      <th>yellowing of eyes</th>\n      <th>yellowish skin</th>\n    </tr>\n  </thead>\n  <tbody>\n    <tr>\n      <th>0</th>\n      <td>0</td>\n      <td>0</td>\n      <td>0</td>\n      <td>0</td>\n      <td>0</td>\n      <td>0</td>\n      <td>0</td>\n      <td>0</td>\n      <td>0</td>\n      <td>0</td>\n      <td>0</td>\n      <td>0</td>\n      <td>0</td>\n      <td>0</td>\n      <td>0</td>\n      <td>0</td>\n      <td>0</td>\n      <td>0</td>\n      <td>0</td>\n      <td>1</td>\n      <td>0</td>\n      <td>0</td>\n      <td>0</td>\n      <td>0</td>\n      <td>0</td>\n      <td>0</td>\n      <td>0</td>\n      <td>0</td>\n      <td>0</td>\n      <td>0</td>\n      <td>0</td>\n      <td>1</td>\n      <td>0</td>\n      <td>0</td>\n      <td>0</td>\n      <td>0</td>\n      <td>0</td>\n      <td>0</td>\n      <td>0</td>\n      <td>0</td>\n      <td>0</td>\n      <td>0</td>\n      <td>0</td>\n      <td>0</td>\n      <td>1</td>\n      <td>1</td>\n      <td>0</td>\n      <td>0</td>\n      <td>0</td>\n      <td>0</td>\n      <td>0</td>\n      <td>0</td>\n      <td>0</td>\n      <td>0</td>\n      <td>0</td>\n      <td>0</td>\n      <td>0</td>\n      <td>0</td>\n      <td>0</td>\n      <td>0</td>\n      <td>0</td>\n      <td>0</td>\n      <td>0</td>\n      <td>0</td>\n      <td>0</td>\n      <td>0</td>\n      <td>0</td>\n      <td>0</td>\n      <td>1</td>\n      <td>0</td>\n      <td>0</td>\n      <td>1</td>\n      <td>0</td>\n      <td>0</td>\n      <td>0</td>\n      <td>0</td>\n      <td>0</td>\n      <td>0</td>\n      <td>0</td>\n      <td>0</td>\n      <td>0</td>\n      <td>0</td>\n      <td>0</td>\n      <td>0</td>\n      <td>0</td>\n      <td>0</td>\n      <td>0</td>\n      <td>0</td>\n      <td>0</td>\n      <td>0</td>\n      <td>0</td>\n      <td>0</td>\n      <td>0</td>\n      <td>0</td>\n      <td>0</td>\n      <td>0</td>\n      <td>0</td>\n      <td>0</td>\n      <td>0</td>\n      <td>0</td>\n      <td>0</td>\n      <td>0</td>\n      <td>0</td>\n      <td>0</td>\n      <td>0</td>\n      <td>0</td>\n      <td>0</td>\n      <td>0</td>\n      <td>0</td>\n      <td>1</td>\n      <td>0</td>\n      <td>0</td>\n      <td>0</td>\n      <td>0</td>\n      <td>0</td>\n      <td>0</td>\n      <td>0</td>\n      <td>0</td>\n      <td>0</td>\n      <td>0</td>\n      <td>0</td>\n      <td>1</td>\n      <td>0</td>\n      <td>0</td>\n      <td>0</td>\n      <td>0</td>\n      <td>0</td>\n      <td>0</td>\n      <td>0</td>\n      <td>0</td>\n      <td>0</td>\n    </tr>\n  </tbody>\n</table>\n</div>"
          },
          "metadata": {}
        }
      ]
    },
    {
      "cell_type": "code",
      "source": [
        "user_tensor = tf.convert_to_tensor(final_user_input.values, dtype=tf.float32)\n",
        "user_tensor[0]"
      ],
      "metadata": {
        "execution": {
          "iopub.status.busy": "2024-06-18T04:26:49.665981Z",
          "iopub.execute_input": "2024-06-18T04:26:49.666262Z",
          "iopub.status.idle": "2024-06-18T04:26:49.675315Z",
          "shell.execute_reply.started": "2024-06-18T04:26:49.666238Z",
          "shell.execute_reply": "2024-06-18T04:26:49.674406Z"
        },
        "trusted": true,
        "id": "M57pqVLnmw34",
        "outputId": "c8a3a539-3eb8-4d6d-ed53-6893f9d26968"
      },
      "execution_count": null,
      "outputs": [
        {
          "execution_count": 35,
          "output_type": "execute_result",
          "data": {
            "text/plain": "<tf.Tensor: shape=(131,), dtype=float32, numpy=\narray([0., 0., 0., 0., 0., 0., 0., 0., 0., 0., 0., 0., 0., 0., 0., 0., 0.,\n       0., 0., 1., 0., 0., 0., 0., 0., 0., 0., 0., 0., 0., 0., 1., 0., 0.,\n       0., 0., 0., 0., 0., 0., 0., 0., 0., 0., 1., 1., 0., 0., 0., 0., 0.,\n       0., 0., 0., 0., 0., 0., 0., 0., 0., 0., 0., 0., 0., 0., 0., 0., 0.,\n       1., 0., 0., 1., 0., 0., 0., 0., 0., 0., 0., 0., 0., 0., 0., 0., 0.,\n       0., 0., 0., 0., 0., 0., 0., 0., 0., 0., 0., 0., 0., 0., 0., 0., 0.,\n       0., 0., 0., 0., 0., 0., 0., 1., 0., 0., 0., 0., 0., 0., 0., 0., 0.,\n       0., 0., 1., 0., 0., 0., 0., 0., 0., 0., 0., 0.], dtype=float32)>"
          },
          "metadata": {}
        }
      ]
    },
    {
      "cell_type": "code",
      "source": [
        "predict_proba = model.predict(user_tensor)\n",
        "predicted_class_index = np.argmax(predict_proba)\n",
        "prediction = target_index[predicted_class_index]\n",
        "# inverse_label_encoding = {v: k for k, v in label_mapping.items()}\n",
        "# prediction = inverse_label_encoding[prediction_encode]\n",
        "prediction"
      ],
      "metadata": {
        "execution": {
          "iopub.status.busy": "2024-06-18T04:26:49.676572Z",
          "iopub.execute_input": "2024-06-18T04:26:49.676888Z",
          "iopub.status.idle": "2024-06-18T04:26:49.745786Z",
          "shell.execute_reply.started": "2024-06-18T04:26:49.676864Z",
          "shell.execute_reply": "2024-06-18T04:26:49.744882Z"
        },
        "trusted": true,
        "id": "c9ZAurePmw34",
        "outputId": "d7e216d5-cf53-4f93-a425-6ccbc67831df"
      },
      "execution_count": null,
      "outputs": [
        {
          "name": "stdout",
          "text": "1/1 [==============================] - 0s 18ms/step\n",
          "output_type": "stream"
        },
        {
          "execution_count": 36,
          "output_type": "execute_result",
          "data": {
            "text/plain": "'Malaria'"
          },
          "metadata": {}
        }
      ]
    },
    {
      "cell_type": "markdown",
      "source": [
        "# Saving the Model"
      ],
      "metadata": {
        "id": "Rssip0Nkmw34"
      }
    },
    {
      "cell_type": "markdown",
      "source": [
        "## Save into H5"
      ],
      "metadata": {
        "id": "5_138DdImw34"
      }
    },
    {
      "cell_type": "code",
      "source": [
        "saved_model_path = \"./my_model.h5\"\n",
        "model.save(saved_model_path)"
      ],
      "metadata": {
        "execution": {
          "iopub.status.busy": "2024-06-18T04:26:49.746957Z",
          "iopub.execute_input": "2024-06-18T04:26:49.747279Z",
          "iopub.status.idle": "2024-06-18T04:26:49.793339Z",
          "shell.execute_reply.started": "2024-06-18T04:26:49.747251Z",
          "shell.execute_reply": "2024-06-18T04:26:49.792481Z"
        },
        "trusted": true,
        "id": "s99IciWWmw34"
      },
      "execution_count": null,
      "outputs": []
    },
    {
      "cell_type": "markdown",
      "source": [
        "## Save into TFJS json"
      ],
      "metadata": {
        "id": "yXCWKS_Hmw34"
      }
    },
    {
      "cell_type": "code",
      "source": [
        "! tensorflowjs_converter \\\n",
        "    --input_format=keras \\\n",
        "    {saved_model_path} \\\n",
        "    \"./model-saved/\""
      ],
      "metadata": {
        "execution": {
          "iopub.status.busy": "2024-06-18T04:26:49.794618Z",
          "iopub.execute_input": "2024-06-18T04:26:49.794942Z",
          "iopub.status.idle": "2024-06-18T04:26:55.577855Z",
          "shell.execute_reply.started": "2024-06-18T04:26:49.794913Z",
          "shell.execute_reply": "2024-06-18T04:26:55.576833Z"
        },
        "trusted": true,
        "id": "vSFEOehGmw34",
        "outputId": "969b3ae9-ede7-4512-be5f-ae7c2ac7516e"
      },
      "execution_count": null,
      "outputs": [
        {
          "name": "stdout",
          "text": "Traceback (most recent call last):\n  File \"/opt/conda/bin/tensorflowjs_converter\", line 5, in <module>\n    from tensorflowjs.converters.converter import pip_main\n  File \"/opt/conda/lib/python3.10/site-packages/tensorflowjs/__init__.py\", line 21, in <module>\n    from tensorflowjs import converters\n  File \"/opt/conda/lib/python3.10/site-packages/tensorflowjs/converters/__init__.py\", line 21, in <module>\n    from tensorflowjs.converters.converter import convert\n  File \"/opt/conda/lib/python3.10/site-packages/tensorflowjs/converters/converter.py\", line 31, in <module>\n    import tf_keras\n  File \"/opt/conda/lib/python3.10/site-packages/tf_keras/__init__.py\", line 3, in <module>\n    from tf_keras import __internal__\n  File \"/opt/conda/lib/python3.10/site-packages/tf_keras/__internal__/__init__.py\", line 3, in <module>\n    from tf_keras.__internal__ import backend\n  File \"/opt/conda/lib/python3.10/site-packages/tf_keras/__internal__/backend/__init__.py\", line 3, in <module>\n    from tf_keras.src.backend import _initialize_variables as initialize_variables\n  File \"/opt/conda/lib/python3.10/site-packages/tf_keras/src/__init__.py\", line 21, in <module>\n    from tf_keras.src import applications\n  File \"/opt/conda/lib/python3.10/site-packages/tf_keras/src/applications/__init__.py\", line 18, in <module>\n    from tf_keras.src.applications.convnext import ConvNeXtBase\n  File \"/opt/conda/lib/python3.10/site-packages/tf_keras/src/applications/convnext.py\", line 28, in <module>\n    from tf_keras.src import backend\n  File \"/opt/conda/lib/python3.10/site-packages/tf_keras/src/backend.py\", line 35, in <module>\n    from tf_keras.src.engine import keras_tensor\n  File \"/opt/conda/lib/python3.10/site-packages/tf_keras/src/engine/keras_tensor.py\", line 19, in <module>\n    from tf_keras.src.utils import object_identity\n  File \"/opt/conda/lib/python3.10/site-packages/tf_keras/src/utils/__init__.py\", line 53, in <module>\n    from tf_keras.src.utils.feature_space import FeatureSpace\n  File \"/opt/conda/lib/python3.10/site-packages/tf_keras/src/utils/feature_space.py\", line 20, in <module>\n    from tf_keras.src.engine import base_layer\n  File \"/opt/conda/lib/python3.10/site-packages/tf_keras/src/engine/base_layer.py\", line 35, in <module>\n    from tf_keras.src.dtensor import lazy_variable\n  File \"/opt/conda/lib/python3.10/site-packages/tf_keras/src/dtensor/lazy_variable.py\", line 23, in <module>\n    from tensorflow.python.framework import tensor\nImportError: cannot import name 'tensor' from 'tensorflow.python.framework' (/opt/conda/lib/python3.10/site-packages/tensorflow/python/framework/__init__.py)\n",
          "output_type": "stream"
        }
      ]
    },
    {
      "cell_type": "markdown",
      "source": [
        "# Save the Metadata"
      ],
      "metadata": {
        "id": "ksEyuD0xmw35"
      }
    },
    {
      "cell_type": "code",
      "source": [
        "# Define metadata for the model\n",
        "metadata = {\n",
        "    'dataset_used': 'Disease Symptom',  # Replace 'YourDatasetName' with the actual name of your dataset\n",
        "    'model_description': 'Three-layer dense neural network with batch normalization and dropout',\n",
        "    'optimizer': 'Adam',\n",
        "    'learning_rate': model.optimizer.learning_rate.numpy(),  # Assuming you want to save the current learning rate\n",
        "    'epochs_trained': len(history.history['accuracy']),  # Number of epochs trained\n",
        "    'final_val_accuracy': history.history['val_accuracy'][-1],  # Final validation accuracy\n",
        "}\n",
        "\n",
        "# Save model to HDF5 and store metadata\n",
        "model_path = '/kaggle/working/my_modelx.h5'\n",
        "hdf5_format.save_model_to_hdf5(model, model_path, include_optimizer=False)\n",
        "\n",
        "# Open the HDF5 file in append mode to add attributes\n",
        "with h5py.File(model_path, 'a') as f:\n",
        "    # Store custom metadata as attributes\n",
        "    for key, value in metadata.items():\n",
        "        f.attrs[key] = str(value)"
      ],
      "metadata": {
        "execution": {
          "iopub.status.busy": "2024-06-18T04:26:55.579649Z",
          "iopub.execute_input": "2024-06-18T04:26:55.580062Z",
          "iopub.status.idle": "2024-06-18T04:26:56.328535Z",
          "shell.execute_reply.started": "2024-06-18T04:26:55.580006Z",
          "shell.execute_reply": "2024-06-18T04:26:56.327312Z"
        },
        "trusted": true,
        "id": "P1kqum_Omw35",
        "outputId": "8e055736-4b6b-42a8-da2e-b42aca660e83"
      },
      "execution_count": null,
      "outputs": [
        {
          "traceback": [
            "\u001b[0;31m---------------------------------------------------------------------------\u001b[0m",
            "\u001b[0;31mNameError\u001b[0m                                 Traceback (most recent call last)",
            "Cell \u001b[0;32mIn[39], line 13\u001b[0m\n\u001b[1;32m     11\u001b[0m \u001b[38;5;66;03m# Save model to HDF5 and store metadata\u001b[39;00m\n\u001b[1;32m     12\u001b[0m model_path \u001b[38;5;241m=\u001b[39m \u001b[38;5;124m'\u001b[39m\u001b[38;5;124m/kaggle/working/my_modelx.h5\u001b[39m\u001b[38;5;124m'\u001b[39m\n\u001b[0;32m---> 13\u001b[0m \u001b[43mhdf5_format\u001b[49m\u001b[38;5;241m.\u001b[39msave_model_to_hdf5(model, model_path, include_optimizer\u001b[38;5;241m=\u001b[39m\u001b[38;5;28;01mFalse\u001b[39;00m)\n\u001b[1;32m     15\u001b[0m \u001b[38;5;66;03m# Open the HDF5 file in append mode to add attributes\u001b[39;00m\n\u001b[1;32m     16\u001b[0m \u001b[38;5;28;01mwith\u001b[39;00m h5py\u001b[38;5;241m.\u001b[39mFile(model_path, \u001b[38;5;124m'\u001b[39m\u001b[38;5;124ma\u001b[39m\u001b[38;5;124m'\u001b[39m) \u001b[38;5;28;01mas\u001b[39;00m f:\n\u001b[1;32m     17\u001b[0m     \u001b[38;5;66;03m# Store custom metadata as attributes\u001b[39;00m\n",
            "\u001b[0;31mNameError\u001b[0m: name 'hdf5_format' is not defined"
          ],
          "ename": "NameError",
          "evalue": "name 'hdf5_format' is not defined",
          "output_type": "error"
        }
      ]
    },
    {
      "cell_type": "markdown",
      "source": [
        "## Check The metadata"
      ],
      "metadata": {
        "id": "k29iDcCvmw35"
      }
    },
    {
      "cell_type": "code",
      "source": [
        "with h5py.File(model_path, 'r') as f:\n",
        "    # Print all attributes saved in the HDF5 file\n",
        "    print(\"Attributes in HDF5 file:\")\n",
        "    for key in f.attrs.keys():\n",
        "        print(f\"{key}: {f.attrs[key]}\")"
      ],
      "metadata": {
        "execution": {
          "iopub.status.busy": "2024-06-18T04:26:56.329358Z",
          "iopub.status.idle": "2024-06-18T04:26:56.329679Z",
          "shell.execute_reply.started": "2024-06-18T04:26:56.329514Z",
          "shell.execute_reply": "2024-06-18T04:26:56.329526Z"
        },
        "trusted": true,
        "id": "PC5gH6KNmw35"
      },
      "execution_count": null,
      "outputs": []
    },
    {
      "cell_type": "markdown",
      "source": [
        "## Convert the metadata file into Tflite"
      ],
      "metadata": {
        "id": "TLt0S5y5mw35"
      }
    },
    {
      "cell_type": "code",
      "source": [
        "model_x = tf.keras.models.load_model('./my_modelx.h5')  # if saved as HDF5 format\n",
        "# or\n",
        "# model_x = tf.saved_model.load('my_model')  # if saved as SavedModel format\n",
        "\n",
        "# Convert the model to TFLite format\n",
        "converter = tf.lite.TFLiteConverter.from_keras_model(model_x)\n",
        "tflite_model = converter.convert()\n",
        "\n",
        "# Save the TFLite model to a file\n",
        "with open('model.tflite', 'wb') as f:\n",
        "    f.write(tflite_model)"
      ],
      "metadata": {
        "execution": {
          "iopub.status.busy": "2024-06-18T04:26:56.33157Z",
          "iopub.status.idle": "2024-06-18T04:26:56.332034Z",
          "shell.execute_reply.started": "2024-06-18T04:26:56.331799Z",
          "shell.execute_reply": "2024-06-18T04:26:56.331818Z"
        },
        "trusted": true,
        "id": "iUIGcO2zmw35"
      },
      "execution_count": null,
      "outputs": []
    },
    {
      "cell_type": "markdown",
      "source": [
        "# Test The saved model using input from `user_tensor`"
      ],
      "metadata": {
        "id": "jxOofpa0mw35"
      }
    },
    {
      "cell_type": "markdown",
      "source": [
        "## Test The Json Model"
      ],
      "metadata": {
        "id": "P01K__5Emw36"
      }
    },
    {
      "cell_type": "code",
      "source": [
        "# Load the converted model\n",
        "loaded_model = tfjs.converters.load_keras_model('/kaggle/working/model-saved/model.json')"
      ],
      "metadata": {
        "execution": {
          "iopub.status.busy": "2024-06-18T04:26:56.333399Z",
          "iopub.status.idle": "2024-06-18T04:26:56.333878Z",
          "shell.execute_reply.started": "2024-06-18T04:26:56.333651Z",
          "shell.execute_reply": "2024-06-18T04:26:56.333669Z"
        },
        "trusted": true,
        "id": "Xcie7oWCmw36"
      },
      "execution_count": null,
      "outputs": []
    },
    {
      "cell_type": "code",
      "source": [
        "input_data = user_tensor\n",
        "predict_proba = loaded_model.predict(input_data)\n",
        "predicted_class_index = np.argmax(predict_proba)\n",
        "prediction_j = target_index[predicted_class_index]\n",
        "\n",
        "prediction_j"
      ],
      "metadata": {
        "execution": {
          "iopub.status.busy": "2024-06-18T04:26:56.335461Z",
          "iopub.status.idle": "2024-06-18T04:26:56.335817Z",
          "shell.execute_reply.started": "2024-06-18T04:26:56.335654Z",
          "shell.execute_reply": "2024-06-18T04:26:56.335668Z"
        },
        "trusted": true,
        "id": "rp1ah0Hpmw36"
      },
      "execution_count": null,
      "outputs": []
    },
    {
      "cell_type": "markdown",
      "source": [
        "\n",
        "## Test the H5 model"
      ],
      "metadata": {
        "id": "bde7KJCSmw36"
      }
    },
    {
      "cell_type": "code",
      "source": [
        "# Load H5 model\n",
        "input_data = user_tensor\n",
        "h5_model = tf.keras.models.load_model(model_path)\n",
        "predict_proba = h5_model.predict(input_data)\n",
        "predicted_class_index = np.argmax(predict_proba)\n",
        "prediction_j = target_index[predicted_class_index]\n",
        "\n",
        "prediction_j"
      ],
      "metadata": {
        "execution": {
          "iopub.status.busy": "2024-06-18T04:26:56.337443Z",
          "iopub.status.idle": "2024-06-18T04:26:56.337793Z",
          "shell.execute_reply.started": "2024-06-18T04:26:56.337624Z",
          "shell.execute_reply": "2024-06-18T04:26:56.337638Z"
        },
        "trusted": true,
        "id": "uUqOliRJmw36"
      },
      "execution_count": null,
      "outputs": []
    },
    {
      "cell_type": "markdown",
      "source": [
        "## Test The TFLite"
      ],
      "metadata": {
        "id": "dAr20DFrmw36"
      }
    },
    {
      "cell_type": "code",
      "source": [
        "# Load the TFLite model and allocate tensors\n",
        "interpreter = tf.lite.Interpreter(model_path=\"./model.tflite\")\n",
        "interpreter.allocate_tensors()\n",
        "\n",
        "# Get input and output tensors\n",
        "input_details = interpreter.get_input_details()\n",
        "output_details = interpreter.get_output_details()\n",
        "\n",
        "# Set the tensor\n",
        "interpreter.set_tensor(input_details[0]['index'], user_tensor)\n",
        "\n",
        "# Run the model\n",
        "interpreter.invoke()\n",
        "output_data = interpreter.get_tensor(output_details[0]['index'])\n",
        "\n",
        "# Get predicted probabilities\n",
        "predict_proba = output_data[0]\n",
        "predicted_class_index = np.argmax(predict_proba)\n",
        "prediction_j = target_index[predicted_class_index]\n",
        "prediction_j\n"
      ],
      "metadata": {
        "execution": {
          "iopub.status.busy": "2024-06-18T04:26:56.33903Z",
          "iopub.status.idle": "2024-06-18T04:26:56.339332Z",
          "shell.execute_reply.started": "2024-06-18T04:26:56.339182Z",
          "shell.execute_reply": "2024-06-18T04:26:56.339195Z"
        },
        "trusted": true,
        "id": "30SNH3RJmw36"
      },
      "execution_count": null,
      "outputs": []
    },
    {
      "cell_type": "code",
      "source": [
        "!pip install pipreqs\n",
        "\n",
        "# Generate requirements.txt for the current notebook directory\n"
      ],
      "metadata": {
        "execution": {
          "iopub.status.busy": "2024-06-18T04:26:56.340448Z",
          "iopub.status.idle": "2024-06-18T04:26:56.340799Z",
          "shell.execute_reply.started": "2024-06-18T04:26:56.340631Z",
          "shell.execute_reply": "2024-06-18T04:26:56.340645Z"
        },
        "trusted": true,
        "id": "COzVV20rmw36"
      },
      "execution_count": null,
      "outputs": []
    },
    {
      "cell_type": "code",
      "source": [],
      "metadata": {
        "trusted": true,
        "id": "TgT2-8wSmw37"
      },
      "execution_count": null,
      "outputs": []
    },
    {
      "cell_type": "code",
      "source": [],
      "metadata": {
        "id": "qtl1SyM-mw37"
      },
      "execution_count": null,
      "outputs": []
    }
  ]
}